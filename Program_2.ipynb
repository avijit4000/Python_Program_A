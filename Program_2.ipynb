{
 "cells": [
  {
   "cell_type": "code",
   "execution_count": 1,
   "metadata": {
    "collapsed": true,
    "pycharm": {
     "name": "#%%\n"
    }
   },
   "outputs": [
    {
     "name": "stdout",
     "output_type": "stream",
     "text": [
      "0\n",
      "0\n",
      "1\n",
      "0\n",
      "1\n",
      "2\n",
      "0\n",
      "1\n",
      "2\n",
      "3\n",
      "0\n",
      "1\n",
      "2\n",
      "3\n",
      "4\n",
      "0\n",
      "1\n",
      "2\n",
      "3\n",
      "4\n",
      "5\n",
      "0\n",
      "1\n",
      "2\n",
      "3\n",
      "4\n",
      "5\n",
      "6\n",
      "0\n",
      "1\n",
      "2\n",
      "3\n",
      "4\n",
      "5\n",
      "6\n",
      "7\n",
      "0\n",
      "1\n",
      "2\n",
      "3\n",
      "4\n",
      "5\n",
      "6\n",
      "7\n",
      "8\n",
      "0\n",
      "1\n",
      "2\n",
      "3\n",
      "4\n",
      "5\n",
      "6\n",
      "7\n",
      "8\n",
      "9\n",
      "0\n",
      "1\n",
      "2\n",
      "3\n",
      "4\n",
      "5\n",
      "6\n",
      "7\n",
      "8\n",
      "9\n",
      "10\n",
      "0\n",
      "1\n",
      "2\n",
      "3\n",
      "4\n",
      "5\n",
      "6\n",
      "7\n",
      "8\n",
      "9\n",
      "10\n",
      "11\n",
      "0\n",
      "1\n",
      "2\n",
      "3\n",
      "4\n",
      "5\n",
      "6\n",
      "7\n",
      "8\n",
      "9\n",
      "10\n",
      "11\n",
      "12\n",
      "0\n",
      "1\n",
      "2\n",
      "3\n",
      "4\n",
      "5\n",
      "6\n",
      "7\n",
      "8\n",
      "9\n",
      "10\n",
      "11\n",
      "12\n",
      "13\n",
      "0\n",
      "1\n",
      "2\n",
      "3\n",
      "4\n",
      "5\n",
      "6\n",
      "7\n",
      "8\n",
      "9\n",
      "10\n",
      "11\n",
      "12\n",
      "13\n",
      "14\n",
      "0\n",
      "1\n",
      "2\n",
      "3\n",
      "4\n",
      "5\n",
      "6\n",
      "7\n",
      "8\n",
      "9\n",
      "10\n",
      "11\n",
      "12\n",
      "13\n",
      "14\n",
      "15\n",
      "0\n",
      "1\n",
      "2\n",
      "3\n",
      "4\n",
      "5\n",
      "6\n",
      "7\n",
      "8\n",
      "9\n",
      "10\n",
      "11\n",
      "12\n",
      "13\n",
      "14\n",
      "15\n",
      "16\n",
      "0\n",
      "1\n",
      "2\n",
      "3\n",
      "4\n",
      "5\n",
      "6\n",
      "7\n",
      "8\n",
      "9\n",
      "10\n",
      "11\n",
      "12\n",
      "13\n",
      "14\n",
      "15\n",
      "16\n",
      "17\n",
      "0\n",
      "1\n",
      "2\n",
      "3\n",
      "4\n",
      "5\n",
      "6\n",
      "7\n",
      "8\n",
      "9\n",
      "10\n",
      "11\n",
      "12\n",
      "13\n",
      "14\n",
      "15\n",
      "16\n",
      "17\n",
      "18\n"
     ]
    }
   ],
   "source": [
    "for i in range(1,20):\n",
    "    for j in range(i):\n",
    "        print(j)"
   ]
  },
  {
   "cell_type": "code",
   "execution_count": 2,
   "outputs": [],
   "source": [
    "n=5"
   ],
   "metadata": {
    "collapsed": false,
    "pycharm": {
     "name": "#%%\n"
    }
   }
  },
  {
   "cell_type": "code",
   "execution_count": 11,
   "outputs": [
    {
     "name": "stdout",
     "output_type": "stream",
     "text": [
      "you factorial number is:  1506141741511140879795014161993280686076322918971939407100785852066825250652908790935063463115967385069171243567440461925041295354731044782551067660468376444194611004520057054167040000000000000000000000000000\n"
     ]
    }
   ],
   "source": [
    "i=int(input(\"enter you factorial number: \"))\n",
    "a=1\n",
    "while i>1:\n",
    "    a=a*i\n",
    "    i=i-1\n",
    "if i<0:\n",
    "    print(\"not possable\")\n",
    "else:\n",
    "    print(\"you factorial number is: \", a)"
   ],
   "metadata": {
    "collapsed": false,
    "pycharm": {
     "name": "#%%\n"
    }
   }
  },
  {
   "cell_type": "code",
   "execution_count": 23,
   "outputs": [
    {
     "name": "stdout",
     "output_type": "stream",
     "text": [
      "you number is:  -887694832458\n",
      "12\n"
     ]
    }
   ],
   "source": [
    "b=int(input(\"enter you number: \"))\n",
    "h=abs(b)\n",
    "print(\"you number is: \",b)\n",
    "a=0\n",
    "while h>0:\n",
    "    h=h//10\n",
    "    a=a+1\n",
    "print(a)"
   ],
   "metadata": {
    "collapsed": false,
    "pycharm": {
     "name": "#%%\n"
    }
   }
  },
  {
   "cell_type": "code",
   "execution_count": 1,
   "outputs": [
    {
     "name": "stdout",
     "output_type": "stream",
     "text": [
      "67854\n"
     ]
    }
   ],
   "source": [
    "u=45876\n",
    "m=0\n",
    "while u>0:\n",
    "    a=u%10\n",
    "    m=10*m+a\n",
    "    u=u//10\n",
    "print(m)\n"
   ],
   "metadata": {
    "collapsed": false,
    "pycharm": {
     "name": "#%%\n"
    }
   }
  },
  {
   "cell_type": "code",
   "execution_count": 29,
   "outputs": [
    {
     "name": "stdout",
     "output_type": "stream",
     "text": [
      "7455874\n"
     ]
    }
   ],
   "source": [
    "num=4785547\n",
    "rev=num%10\n",
    "num=num//10\n",
    "while num>0:\n",
    "    r=num%10\n",
    "    num=num//10\n",
    "    rev=rev*10+r\n",
    "print(rev)"
   ],
   "metadata": {
    "collapsed": false,
    "pycharm": {
     "name": "#%%\n"
    }
   }
  },
  {
   "cell_type": "code",
   "execution_count": 1,
   "outputs": [
    {
     "name": "stdout",
     "output_type": "stream",
     "text": [
      "avijit\n"
     ]
    }
   ],
   "source": [
    "print('avijit')"
   ],
   "metadata": {
    "collapsed": false,
    "pycharm": {
     "name": "#%%\n"
    }
   }
  },
  {
   "cell_type": "code",
   "execution_count": 3,
   "outputs": [],
   "source": [
    "import pandas as pd\n",
    "import numpy as np\n",
    "import matplotlib.pyplot as plt\n",
    "%matplotlib inline\n",
    "import seaborn as sns"
   ],
   "metadata": {
    "collapsed": false,
    "pycharm": {
     "name": "#%%\n"
    }
   }
  },
  {
   "cell_type": "code",
   "execution_count": 5,
   "outputs": [],
   "source": [
    "dataset=pd.read_csv(r'D:\\Pyn\\online learning\\INURAN_DATA\\FSDS_September\\9. EDA & Feature Engineering\\7thmay-20220803T101259Z-001\\7thmay\\Feature Engineering\\train.csv')"
   ],
   "metadata": {
    "collapsed": false,
    "pycharm": {
     "name": "#%%\n"
    }
   }
  },
  {
   "cell_type": "code",
   "execution_count": 6,
   "outputs": [
    {
     "data": {
      "text/plain": "   Id  MSSubClass MSZoning  LotFrontage  LotArea Street Alley LotShape  \\\n0   1          60       RL         65.0     8450   Pave   NaN      Reg   \n1   2          20       RL         80.0     9600   Pave   NaN      Reg   \n2   3          60       RL         68.0    11250   Pave   NaN      IR1   \n3   4          70       RL         60.0     9550   Pave   NaN      IR1   \n4   5          60       RL         84.0    14260   Pave   NaN      IR1   \n\n  LandContour Utilities  ... PoolArea PoolQC Fence MiscFeature MiscVal MoSold  \\\n0         Lvl    AllPub  ...        0    NaN   NaN         NaN       0      2   \n1         Lvl    AllPub  ...        0    NaN   NaN         NaN       0      5   \n2         Lvl    AllPub  ...        0    NaN   NaN         NaN       0      9   \n3         Lvl    AllPub  ...        0    NaN   NaN         NaN       0      2   \n4         Lvl    AllPub  ...        0    NaN   NaN         NaN       0     12   \n\n  YrSold  SaleType  SaleCondition  SalePrice  \n0   2008        WD         Normal     208500  \n1   2007        WD         Normal     181500  \n2   2008        WD         Normal     223500  \n3   2006        WD        Abnorml     140000  \n4   2008        WD         Normal     250000  \n\n[5 rows x 81 columns]",
      "text/html": "<div>\n<style scoped>\n    .dataframe tbody tr th:only-of-type {\n        vertical-align: middle;\n    }\n\n    .dataframe tbody tr th {\n        vertical-align: top;\n    }\n\n    .dataframe thead th {\n        text-align: right;\n    }\n</style>\n<table border=\"1\" class=\"dataframe\">\n  <thead>\n    <tr style=\"text-align: right;\">\n      <th></th>\n      <th>Id</th>\n      <th>MSSubClass</th>\n      <th>MSZoning</th>\n      <th>LotFrontage</th>\n      <th>LotArea</th>\n      <th>Street</th>\n      <th>Alley</th>\n      <th>LotShape</th>\n      <th>LandContour</th>\n      <th>Utilities</th>\n      <th>...</th>\n      <th>PoolArea</th>\n      <th>PoolQC</th>\n      <th>Fence</th>\n      <th>MiscFeature</th>\n      <th>MiscVal</th>\n      <th>MoSold</th>\n      <th>YrSold</th>\n      <th>SaleType</th>\n      <th>SaleCondition</th>\n      <th>SalePrice</th>\n    </tr>\n  </thead>\n  <tbody>\n    <tr>\n      <th>0</th>\n      <td>1</td>\n      <td>60</td>\n      <td>RL</td>\n      <td>65.0</td>\n      <td>8450</td>\n      <td>Pave</td>\n      <td>NaN</td>\n      <td>Reg</td>\n      <td>Lvl</td>\n      <td>AllPub</td>\n      <td>...</td>\n      <td>0</td>\n      <td>NaN</td>\n      <td>NaN</td>\n      <td>NaN</td>\n      <td>0</td>\n      <td>2</td>\n      <td>2008</td>\n      <td>WD</td>\n      <td>Normal</td>\n      <td>208500</td>\n    </tr>\n    <tr>\n      <th>1</th>\n      <td>2</td>\n      <td>20</td>\n      <td>RL</td>\n      <td>80.0</td>\n      <td>9600</td>\n      <td>Pave</td>\n      <td>NaN</td>\n      <td>Reg</td>\n      <td>Lvl</td>\n      <td>AllPub</td>\n      <td>...</td>\n      <td>0</td>\n      <td>NaN</td>\n      <td>NaN</td>\n      <td>NaN</td>\n      <td>0</td>\n      <td>5</td>\n      <td>2007</td>\n      <td>WD</td>\n      <td>Normal</td>\n      <td>181500</td>\n    </tr>\n    <tr>\n      <th>2</th>\n      <td>3</td>\n      <td>60</td>\n      <td>RL</td>\n      <td>68.0</td>\n      <td>11250</td>\n      <td>Pave</td>\n      <td>NaN</td>\n      <td>IR1</td>\n      <td>Lvl</td>\n      <td>AllPub</td>\n      <td>...</td>\n      <td>0</td>\n      <td>NaN</td>\n      <td>NaN</td>\n      <td>NaN</td>\n      <td>0</td>\n      <td>9</td>\n      <td>2008</td>\n      <td>WD</td>\n      <td>Normal</td>\n      <td>223500</td>\n    </tr>\n    <tr>\n      <th>3</th>\n      <td>4</td>\n      <td>70</td>\n      <td>RL</td>\n      <td>60.0</td>\n      <td>9550</td>\n      <td>Pave</td>\n      <td>NaN</td>\n      <td>IR1</td>\n      <td>Lvl</td>\n      <td>AllPub</td>\n      <td>...</td>\n      <td>0</td>\n      <td>NaN</td>\n      <td>NaN</td>\n      <td>NaN</td>\n      <td>0</td>\n      <td>2</td>\n      <td>2006</td>\n      <td>WD</td>\n      <td>Abnorml</td>\n      <td>140000</td>\n    </tr>\n    <tr>\n      <th>4</th>\n      <td>5</td>\n      <td>60</td>\n      <td>RL</td>\n      <td>84.0</td>\n      <td>14260</td>\n      <td>Pave</td>\n      <td>NaN</td>\n      <td>IR1</td>\n      <td>Lvl</td>\n      <td>AllPub</td>\n      <td>...</td>\n      <td>0</td>\n      <td>NaN</td>\n      <td>NaN</td>\n      <td>NaN</td>\n      <td>0</td>\n      <td>12</td>\n      <td>2008</td>\n      <td>WD</td>\n      <td>Normal</td>\n      <td>250000</td>\n    </tr>\n  </tbody>\n</table>\n<p>5 rows × 81 columns</p>\n</div>"
     },
     "execution_count": 6,
     "metadata": {},
     "output_type": "execute_result"
    }
   ],
   "source": [
    "dataset.head()"
   ],
   "metadata": {
    "collapsed": false,
    "pycharm": {
     "name": "#%%\n"
    }
   }
  },
  {
   "cell_type": "code",
   "execution_count": 7,
   "outputs": [
    {
     "name": "stdout",
     "output_type": "stream",
     "text": [
      "(1460, 81)\n"
     ]
    }
   ],
   "source": [
    "print(dataset.shape)"
   ],
   "metadata": {
    "collapsed": false,
    "pycharm": {
     "name": "#%%\n"
    }
   }
  },
  {
   "cell_type": "code",
   "execution_count": 8,
   "outputs": [
    {
     "data": {
      "text/plain": "Id                 0\nMSSubClass         0\nMSZoning           0\nLotFrontage      259\nLotArea            0\n                ... \nMoSold             0\nYrSold             0\nSaleType           0\nSaleCondition      0\nSalePrice          0\nLength: 81, dtype: int64"
     },
     "execution_count": 8,
     "metadata": {},
     "output_type": "execute_result"
    }
   ],
   "source": [
    "dataset.isnull().sum()"
   ],
   "metadata": {
    "collapsed": false,
    "pycharm": {
     "name": "#%%\n"
    }
   }
  },
  {
   "cell_type": "code",
   "execution_count": 9,
   "outputs": [
    {
     "data": {
      "text/plain": "Index(['Id', 'MSSubClass', 'MSZoning', 'LotFrontage', 'LotArea', 'Street',\n       'Alley', 'LotShape', 'LandContour', 'Utilities', 'LotConfig',\n       'LandSlope', 'Neighborhood', 'Condition1', 'Condition2', 'BldgType',\n       'HouseStyle', 'OverallQual', 'OverallCond', 'YearBuilt', 'YearRemodAdd',\n       'RoofStyle', 'RoofMatl', 'Exterior1st', 'Exterior2nd', 'MasVnrType',\n       'MasVnrArea', 'ExterQual', 'ExterCond', 'Foundation', 'BsmtQual',\n       'BsmtCond', 'BsmtExposure', 'BsmtFinType1', 'BsmtFinSF1',\n       'BsmtFinType2', 'BsmtFinSF2', 'BsmtUnfSF', 'TotalBsmtSF', 'Heating',\n       'HeatingQC', 'CentralAir', 'Electrical', '1stFlrSF', '2ndFlrSF',\n       'LowQualFinSF', 'GrLivArea', 'BsmtFullBath', 'BsmtHalfBath', 'FullBath',\n       'HalfBath', 'BedroomAbvGr', 'KitchenAbvGr', 'KitchenQual',\n       'TotRmsAbvGrd', 'Functional', 'Fireplaces', 'FireplaceQu', 'GarageType',\n       'GarageYrBlt', 'GarageFinish', 'GarageCars', 'GarageArea', 'GarageQual',\n       'GarageCond', 'PavedDrive', 'WoodDeckSF', 'OpenPorchSF',\n       'EnclosedPorch', '3SsnPorch', 'ScreenPorch', 'PoolArea', 'PoolQC',\n       'Fence', 'MiscFeature', 'MiscVal', 'MoSold', 'YrSold', 'SaleType',\n       'SaleCondition', 'SalePrice'],\n      dtype='object')"
     },
     "execution_count": 9,
     "metadata": {},
     "output_type": "execute_result"
    }
   ],
   "source": [
    "dataset.columns"
   ],
   "metadata": {
    "collapsed": false,
    "pycharm": {
     "name": "#%%\n"
    }
   }
  },
  {
   "cell_type": "code",
   "execution_count": 10,
   "outputs": [],
   "source": [
    "feature_with_na=[i for i in dataset.columns if dataset[i].isnull().sum()>=1]"
   ],
   "metadata": {
    "collapsed": false,
    "pycharm": {
     "name": "#%%\n"
    }
   }
  },
  {
   "cell_type": "code",
   "execution_count": 11,
   "outputs": [
    {
     "data": {
      "text/plain": "['LotFrontage',\n 'Alley',\n 'MasVnrType',\n 'MasVnrArea',\n 'BsmtQual',\n 'BsmtCond',\n 'BsmtExposure',\n 'BsmtFinType1',\n 'BsmtFinType2',\n 'Electrical',\n 'FireplaceQu',\n 'GarageType',\n 'GarageYrBlt',\n 'GarageFinish',\n 'GarageQual',\n 'GarageCond',\n 'PoolQC',\n 'Fence',\n 'MiscFeature']"
     },
     "execution_count": 11,
     "metadata": {},
     "output_type": "execute_result"
    }
   ],
   "source": [
    "feature_with_na"
   ],
   "metadata": {
    "collapsed": false,
    "pycharm": {
     "name": "#%%\n"
    }
   }
  },
  {
   "cell_type": "code",
   "execution_count": 13,
   "outputs": [
    {
     "data": {
      "text/plain": "19"
     },
     "execution_count": 13,
     "metadata": {},
     "output_type": "execute_result"
    }
   ],
   "source": [
    "len(feature_with_na)"
   ],
   "metadata": {
    "collapsed": false,
    "pycharm": {
     "name": "#%%\n"
    }
   }
  },
  {
   "cell_type": "code",
   "execution_count": 14,
   "outputs": [
    {
     "data": {
      "text/plain": "81"
     },
     "execution_count": 14,
     "metadata": {},
     "output_type": "execute_result"
    }
   ],
   "source": [
    "len(dataset.columns)"
   ],
   "metadata": {
    "collapsed": false,
    "pycharm": {
     "name": "#%%\n"
    }
   }
  },
  {
   "cell_type": "code",
   "execution_count": 15,
   "outputs": [
    {
     "name": "stdout",
     "output_type": "stream",
     "text": [
      "LotFrontage 17.73973 % missing values\n",
      "Alley 93.76712 % missing values\n",
      "MasVnrType 0.54795 % missing values\n",
      "MasVnrArea 0.54795 % missing values\n",
      "BsmtQual 2.53425 % missing values\n",
      "BsmtCond 2.53425 % missing values\n",
      "BsmtExposure 2.60274 % missing values\n",
      "BsmtFinType1 2.53425 % missing values\n",
      "BsmtFinType2 2.60274 % missing values\n",
      "Electrical 0.06849 % missing values\n",
      "FireplaceQu 47.26027 % missing values\n",
      "GarageType 5.54795 % missing values\n",
      "GarageYrBlt 5.54795 % missing values\n",
      "GarageFinish 5.54795 % missing values\n",
      "GarageQual 5.54795 % missing values\n",
      "GarageCond 5.54795 % missing values\n",
      "PoolQC 99.52055 % missing values\n",
      "Fence 80.75342 % missing values\n",
      "MiscFeature 96.30137 % missing values\n"
     ]
    }
   ],
   "source": [
    "for i in feature_with_na:\n",
    "    print(i, np.round(dataset[i].isnull().mean()*100,5), \"% missing values\")"
   ],
   "metadata": {
    "collapsed": false,
    "pycharm": {
     "name": "#%%\n"
    }
   }
  },
  {
   "cell_type": "code",
   "execution_count": 16,
   "outputs": [
    {
     "data": {
      "text/plain": "<Axes: >"
     },
     "execution_count": 16,
     "metadata": {},
     "output_type": "execute_result"
    },
    {
     "data": {
      "text/plain": "<Figure size 640x480 with 1 Axes>",
      "image/png": "[encoded data removed]"
     },
     "metadata": {},
     "output_type": "display_data"
    }
   ],
   "source": [
    "sns.boxplot(dataset[\"SalePrice\"])"
   ],
   "metadata": {
    "collapsed": false,
    "pycharm": {
     "name": "#%%\n"
    }
   }
  },
  {
   "cell_type": "code",
   "execution_count": 17,
   "outputs": [
    {
     "name": "stdout",
     "output_type": "stream",
     "text": [
      "avj\n"
     ]
    }
   ],
   "source": [
    "print('avj')"
   ],
   "metadata": {
    "collapsed": false,
    "pycharm": {
     "name": "#%%\n"
    }
   }
  },
  {
   "cell_type": "code",
   "execution_count": 18,
   "outputs": [
    {
     "name": "stdout",
     "output_type": "stream",
     "text": [
      "0\n",
      "1\n",
      "3\n",
      "6\n",
      "10\n",
      "15\n",
      "21\n",
      "28\n",
      "36\n",
      "45\n"
     ]
    }
   ],
   "source": [
    "ans=0\n",
    "for i in range(10):\n",
    "    ans=ans+i\n",
    "    print(ans)"
   ],
   "metadata": {
    "collapsed": false,
    "pycharm": {
     "name": "#%%\n"
    }
   }
  },
  {
   "cell_type": "code",
   "execution_count": 19,
   "outputs": [
    {
     "name": "stdout",
     "output_type": "stream",
     "text": [
      "30\n",
      "32\n",
      "34\n",
      "36\n",
      "38\n",
      "40\n",
      "42\n",
      "44\n",
      "46\n",
      "48\n",
      "50\n"
     ]
    }
   ],
   "source": [
    "for i in range(15,26):\n",
    "    print(2*i)"
   ],
   "metadata": {
    "collapsed": false,
    "pycharm": {
     "name": "#%%\n"
    }
   }
  },
  {
   "cell_type": "code",
   "execution_count": 20,
   "outputs": [
    {
     "name": "stdout",
     "output_type": "stream",
     "text": [
      "i\n",
      "n\n",
      "d\n",
      "i\n",
      "a\n"
     ]
    }
   ],
   "source": [
    "co=\"india\"\n",
    "for l in co:\n",
    "    print(l)"
   ],
   "metadata": {
    "collapsed": false,
    "pycharm": {
     "name": "#%%\n"
    }
   }
  },
  {
   "cell_type": "code",
   "execution_count": 25,
   "outputs": [
    {
     "name": "stdout",
     "output_type": "stream",
     "text": [
      "2\n",
      "3\n",
      "5\n",
      "7\n",
      "11\n",
      "13\n",
      "17\n",
      "19\n"
     ]
    }
   ],
   "source": [
    "for i in range(1,20):\n",
    "    if i>1:\n",
    "        for j in range(2,i):\n",
    "            if i%j==0:\n",
    "                break\n",
    "        else:\n",
    "            print(i)"
   ],
   "metadata": {
    "collapsed": false,
    "pycharm": {
     "name": "#%%\n"
    }
   }
  },
  {
   "cell_type": "code",
   "execution_count": 26,
   "outputs": [
    {
     "name": "stdout",
     "output_type": "stream",
     "text": [
      "profit/loss for employeeSJ_323 is 57558\n",
      "profit/loss for employeePK_874 is 42821\n"
     ]
    },
    {
     "ename": "ValueError",
     "evalue": "invalid literal for int() with base 10: ''",
     "output_type": "error",
     "traceback": [
      "\u001B[1;31m---------------------------------------------------------------------------\u001B[0m",
      "\u001B[1;31mValueError\u001B[0m                                Traceback (most recent call last)",
      "Cell \u001B[1;32mIn[26], line 3\u001B[0m\n\u001B[0;32m      1\u001B[0m empID\u001B[38;5;241m=\u001B[39m\u001B[38;5;28minput\u001B[39m(\u001B[38;5;124m\"\u001B[39m\u001B[38;5;124mEnter employee ID: \u001B[39m\u001B[38;5;124m\"\u001B[39m)\n\u001B[0;32m      2\u001B[0m \u001B[38;5;28;01mwhile\u001B[39;00m(empID \u001B[38;5;241m!=\u001B[39m\u001B[38;5;124m'\u001B[39m\u001B[38;5;124m-1\u001B[39m\u001B[38;5;124m'\u001B[39m):\n\u001B[1;32m----> 3\u001B[0m     trade\u001B[38;5;241m=\u001B[39m\u001B[38;5;28;43mint\u001B[39;49m\u001B[43m(\u001B[49m\u001B[38;5;28;43minput\u001B[39;49m\u001B[43m(\u001B[49m\u001B[38;5;124;43m\"\u001B[39;49m\u001B[38;5;124;43mEnter the trade amount: \u001B[39;49m\u001B[38;5;124;43m\"\u001B[39;49m\u001B[43m)\u001B[49m\u001B[43m)\u001B[49m\n\u001B[0;32m      4\u001B[0m     profit_loss\u001B[38;5;241m=\u001B[39m\u001B[38;5;241m0\u001B[39m\n\u001B[0;32m      5\u001B[0m     \u001B[38;5;28;01mwhile\u001B[39;00m(trade \u001B[38;5;241m!=\u001B[39m\u001B[38;5;241m0\u001B[39m):\n",
      "\u001B[1;31mValueError\u001B[0m: invalid literal for int() with base 10: ''"
     ]
    }
   ],
   "source": [
    "empID=input(\"Enter employee ID: \")\n",
    "while(empID !='-1'):\n",
    "    trade=int(input(\"Enter the trade amount: \"))\n",
    "    profit_loss=0\n",
    "    while(trade !=0):\n",
    "        profit_loss=profit_loss+trade\n",
    "        trade=int(input(\"Enter the trade amount: \"))\n",
    "    print(f'profit/loss for employee{empID} is {profit_loss}')\n",
    "    empID=input('\\nEnter employee ID: ')"
   ],
   "metadata": {
    "collapsed": false,
    "pycharm": {
     "name": "#%%\n"
    }
   }
  },
  {
   "cell_type": "markdown",
   "source": [
    "![title](D:\\Photos\\s_short\\Untitled pictedre.png)"
   ],
   "metadata": {
    "collapsed": false,
    "pycharm": {
     "name": "#%% md\n"
    }
   }
  },
  {
   "cell_type": "code",
   "execution_count": 27,
   "outputs": [
    {
     "ename": "SyntaxError",
     "evalue": "(unicode error) 'unicodeescape' codec can't decode bytes in position 17-18: truncated \\UXXXXXXXX escape (4000413786.py, line 2)",
     "output_type": "error",
     "traceback": [
      "\u001B[1;36m  Cell \u001B[1;32mIn[27], line 2\u001B[1;36m\u001B[0m\n\u001B[1;33m    Image(filename=\"D:\\Photos\\s_short\\Untitled pictedre.png\",width=200,height=200)\u001B[0m\n\u001B[1;37m                                                            ^\u001B[0m\n\u001B[1;31mSyntaxError\u001B[0m\u001B[1;31m:\u001B[0m (unicode error) 'unicodeescape' codec can't decode bytes in position 17-18: truncated \\UXXXXXXXX escape\n"
     ]
    }
   ],
   "source": [
    "from IPython.display import Image\n",
    "Image(filename=\"D:\\Photos\\s_short\\Untitled pictedre.png\",width=200,height=200)"
   ],
   "metadata": {
    "collapsed": false,
    "pycharm": {
     "name": "#%%\n"
    }
   }
  },
  {
   "cell_type": "code",
   "execution_count": 28,
   "outputs": [
    {
     "data": {
      "text/plain": "6"
     },
     "execution_count": 28,
     "metadata": {},
     "output_type": "execute_result"
    }
   ],
   "source": [
    "a='AVIJIT'\n",
    "len(a)"
   ],
   "metadata": {
    "collapsed": false,
    "pycharm": {
     "name": "#%%\n"
    }
   }
  },
  {
   "cell_type": "code",
   "execution_count": 9,
   "outputs": [
    {
     "name": "stdout",
     "output_type": "stream",
     "text": [
      "valid a\n",
      "valid v\n",
      "valid i\n",
      "valid j\n",
      "valid i\n",
      "valid t\n",
      "valid 4\n",
      "valid 0\n",
      "valid 0\n",
      "valid 0\n",
      "valid g\n",
      "valid m\n",
      "valid a\n",
      "valid i\n",
      "valid l\n",
      "valid .\n",
      "valid c\n",
      "valid o\n",
      "valid m\n"
     ]
    }
   ],
   "source": [
    "I=\"avijit4000@gmail.com\"\n",
    "for i in I:\n",
    "    if i=='@':\n",
    "        pass\n",
    "    else:\n",
    "        print('valid',i)"
   ],
   "metadata": {
    "collapsed": false,
    "pycharm": {
     "name": "#%%\n"
    }
   }
  },
  {
   "cell_type": "code",
   "execution_count": 14,
   "outputs": [
    {
     "name": "stdout",
     "output_type": "stream",
     "text": [
      "[5, 7, 13, 13, 19, 43, 49, 64, 84, 128, 134, 169, 174, 174, 214, 219, 230, 244, 246, 253, 254, 283, 283, 300, 307, 319, 346, 354, 361, 361]\n"
     ]
    },
    {
     "ename": "KeyboardInterrupt",
     "evalue": "",
     "output_type": "error",
     "traceback": [
      "\u001B[1;31m---------------------------------------------------------------------------\u001B[0m",
      "\u001B[1;31mKeyboardInterrupt\u001B[0m                         Traceback (most recent call last)",
      "Cell \u001B[1;32mIn[14], line 9\u001B[0m\n\u001B[0;32m      7\u001B[0m i\u001B[38;5;241m=\u001B[39m\u001B[38;5;241m0\u001B[39m\n\u001B[0;32m      8\u001B[0m flag\u001B[38;5;241m=\u001B[39m\u001B[38;5;241m0\u001B[39m\n\u001B[1;32m----> 9\u001B[0m \u001B[38;5;28;01mwhile\u001B[39;00m(\u001B[43mi\u001B[49m\u001B[38;5;241;43m<\u001B[39;49m\u001B[38;5;28;43mlen\u001B[39;49m\u001B[43m(\u001B[49m\u001B[43ml\u001B[49m\u001B[43m)\u001B[49m\u001B[38;5;241;43m-\u001B[39;49m\u001B[38;5;241;43m1\u001B[39;49m):\n\u001B[0;32m     10\u001B[0m     \u001B[38;5;28;01mif\u001B[39;00m (l[i]\u001B[38;5;241m==\u001B[39ml[i\u001B[38;5;241m+\u001B[39m\u001B[38;5;241m1\u001B[39m]):\n\u001B[0;32m     11\u001B[0m         \u001B[38;5;28mprint\u001B[39m(\u001B[38;5;124m\"\u001B[39m\u001B[38;5;124mRepeats\u001B[39m\u001B[38;5;124m\"\u001B[39m,l[i],l[i\u001B[38;5;241m+\u001B[39m\u001B[38;5;241m1\u001B[39m])\n",
      "\u001B[1;31mKeyboardInterrupt\u001B[0m: "
     ]
    }
   ],
   "source": [
    "import random\n",
    "l=[]\n",
    "for i in range(30):\n",
    "    l.append(random.randint(1,365))\n",
    "l.sort()\n",
    "print(l)\n",
    "i=0\n",
    "flag=0\n",
    "while(i<len(l)-1):\n",
    "    if (l[i]==l[i+1]):\n",
    "        print(\"Repeats\",l[i],l[i+1])\n",
    "        flag=1\n",
    "        break\n",
    "if (flag==0):\n",
    "    print(\"There is no repetition\")"
   ],
   "metadata": {
    "collapsed": false,
    "pycharm": {
     "name": "#%%\n"
    }
   }
  },
  {
   "cell_type": "code",
   "execution_count": 15,
   "outputs": [
    {
     "name": "stdout",
     "output_type": "stream",
     "text": [
      "avijit\n"
     ]
    }
   ],
   "source": [
    "print('avijit')"
   ],
   "metadata": {
    "collapsed": false,
    "pycharm": {
     "name": "#%%\n"
    }
   }
  },
  {
   "cell_type": "code",
   "execution_count": 16,
   "outputs": [
    {
     "name": "stdout",
     "output_type": "stream",
     "text": [
      "[89, 37, 49, 35, 43, 92, 57, 76, 67, 47, 94, 98, 62, 71, 1, 75, 16, 82, 94, 65, 13, 96, 68, 7, 20, 32, 64, 75, 62, 34, 41, 47, 52, 81, 47, 64, 15, 53, 95, 46, 13, 36, 71, 95, 81, 14, 60, 93, 39, 28, 19, 90, 51, 32, 26, 38, 52, 78, 4, 35, 54, 44, 14, 92, 34, 76, 81, 27, 75, 25, 18, 62, 38, 68, 67, 76, 4, 26, 71, 56, 51, 68, 19, 98, 73, 76, 10, 66, 78, 34, 96, 4, 20, 36, 47, 80, 43, 72, 37, 2]\n"
     ]
    }
   ],
   "source": [
    "l=[]\n",
    "for i in range(100):\n",
    "    l.append(random.randint(1,100))\n",
    "print(l)"
   ],
   "metadata": {
    "collapsed": false,
    "pycharm": {
     "name": "#%%\n"
    }
   }
  },
  {
   "cell_type": "code",
   "execution_count": 19,
   "outputs": [
    {
     "name": "stdout",
     "output_type": "stream",
     "text": [
      "[611419, 110734, 942320, 453165, 193480, 437119, 782365, 123339, 80270, 519703, 622038, 744086, 804773, 991824, 269848, 282420, 736818, 644680, 293624, 380200, 463465, 874614, 660158, 587363, 774839, 966744, 912728, 313731, 458373, 11620, 989489, 159162, 174161, 360253, 451835, 566416, 555404, 387405, 490922, 515777, 624757, 611059, 490257, 750144, 634361, 596158, 616586, 437305, 163998, 607160, 839547, 130843, 901007, 810048, 265311, 717172, 252581, 745774, 291683, 536022, 733563, 305787, 75197, 632421, 834423, 176235, 86339, 163460, 505040, 345605, 956347, 742418, 847981, 717507, 795658, 599432, 70926, 272016, 438989, 831005, 963918, 727056, 473651, 348214, 782244, 388016, 656737, 538830, 801609, 983469, 434392, 316858, 852925, 694404, 68699, 22278, 896859, 981599, 256018, 864369, 302043, 529336, 830599, 222876, 560144, 824086, 899758, 677247, 926417, 118299, 268063, 872246, 686704, 272956, 373118, 474490, 422661, 623487, 827284, 714180, 573941, 481732, 734692, 595698, 427691, 431996, 566001, 514963, 565932, 76985, 910997, 614289, 93391, 605473, 394730, 215259, 148694, 986446, 633331, 111652, 867138, 921553, 767280, 571446, 112608, 567622, 423606, 530189, 568872, 134398, 131986, 432743, 131857, 831690, 931516, 108763, 669114, 373089, 832385, 970470, 178198, 734342, 433464, 163804, 908811, 357401, 335253, 120689, 387120, 801874, 881745, 301196, 854752, 917951, 446505, 775417, 345811, 857508, 606606, 482767, 566419, 421826, 36472, 109695, 227150, 233639, 601668, 843059, 968328, 185164, 393275, 234450, 762147, 575436, 54484, 73846, 523322, 143769, 628064, 631631, 534295, 441988, 540958, 958213, 138853, 133148, 920127, 611212, 562950, 453199, 132031, 444181, 706517, 298680, 957597, 13207, 680769, 743433, 385178, 49438, 896532, 909152, 758268, 168732, 454536, 322739, 721533, 337333, 181288, 949811, 278394, 461500, 246061, 638881, 985104, 372770, 677232, 686897, 935064, 331881, 646721, 412506, 664276, 426206, 681486, 225406, 931409, 239501, 791458, 706952, 846618, 428297, 430201, 376135, 251820, 389078, 159849, 602900, 622518, 913501, 37548, 284704, 526410, 257442, 484848, 115863, 359509, 942276, 140127, 255040, 827423, 255027, 968289, 398319, 873111, 422029, 611989, 778456, 25255, 237081, 223573, 795870, 118457, 137491, 785740, 321805, 692099, 559972, 868466, 675887, 390477, 113158, 125530, 892171, 976280, 350646, 784896, 271581, 290552, 928980, 888887, 336895, 715475, 86599, 408251, 380589, 677603, 329374, 736149, 266903, 521251, 638662, 36688, 378244, 540563, 302904, 398048, 650463, 580507, 560461, 277981, 744259, 481681, 392156, 869195, 706471, 418260, 200848, 189471, 571506, 245092, 633382, 568524, 254646, 740568, 881011, 74045, 417679, 703778, 902414, 577888, 287835, 337687, 705755, 309994, 494038, 927393, 585863, 703977, 848689, 269673, 293510, 671854, 444919, 439894, 416536, 516833, 983081, 162405, 216459, 810409, 487410, 297019, 240404, 656379, 726274, 404973, 112558, 857683, 420190, 992953, 801713, 948679, 714025, 61074, 484828, 633126, 11407, 238818, 401351, 673327, 317432, 969236, 765721, 890911, 62905, 577868, 697758, 776325, 338291, 907596, 26936, 458315, 93368, 368982, 44949, 910600, 479588, 47430, 928855, 471079, 575673, 696480, 677570, 858347, 242475, 844624, 548785, 826519, 664122, 620800, 454623, 548583, 346475, 835738, 916278, 689321, 452266, 696633, 611368, 418218, 228030, 65430, 902042, 363090, 181197, 936981, 116159, 444167, 858807, 31336, 268042, 629780, 188345, 321899, 419215, 315034, 823113, 466680, 954922, 812185, 581920, 226346, 149196, 811569, 821996, 362966, 660546, 759559, 88244, 344780, 410630, 315813, 903851, 810879, 127418, 760039, 186619, 891702, 847511, 423960, 112659, 975203, 346220, 640890, 818618, 272613, 94570, 936556, 771482, 545596, 228332, 170943, 530942, 533524, 412561, 798318, 92694, 270919, 780559, 797693, 730032, 504583, 446998, 495560, 522470, 150022, 32738, 683393, 85979, 742466, 289803, 47511, 905522, 230221, 452967, 395417, 870818, 536267, 994801, 585661, 836618, 430375, 879829, 197053, 523431, 384167, 215303, 562980, 866002, 701419, 678453, 680180, 858849, 154225, 152553, 985794, 72573, 245463, 607592, 798991, 677435, 785622, 364906, 315085, 469978, 406292, 187019, 256790, 292266, 342252, 762448, 203520, 563493, 768553, 405611, 570784, 950144, 347682, 489390, 129244, 731344, 74827, 243248, 96131, 499968, 347035, 425772, 164188, 491392, 86063, 317275, 521798, 907063, 225417, 659318, 983969, 680216, 278306, 340044, 17567, 5285, 835000, 241006, 981027, 531341, 700696, 869054, 538100, 116003, 175289, 439421, 267214, 646666, 98293, 193061, 914012, 655701, 294416, 403248, 195747, 113475, 389850, 777648, 376769, 666552, 363375, 117984, 657144, 589352, 876203, 20034, 773006, 56869, 217898, 780285, 151744, 646038, 835826, 761344, 891808, 860844, 751383, 900626, 591419, 488256, 830930, 493379, 144189, 164987, 983155, 333656, 605656, 608972, 615499, 492235, 920502, 131389, 395572, 226647, 348637, 303029, 345920, 877419, 845842, 422888, 636276, 399403, 208322, 620162, 168284, 74320, 15993, 697490, 353526, 447641, 269680, 505357, 571988, 848202, 719202, 530346, 654867, 998681, 40196, 488573, 436375, 458742, 715819, 556167, 350223, 731405, 333497, 208183, 404970, 92844, 639566, 820273, 966514, 545285, 650909, 847523, 39240, 35149, 545701, 362181, 965384, 220798, 461249, 482305, 51305, 162023, 791493, 464854, 250396, 937158, 646295, 603352, 138537, 558725, 123186, 761403, 767530, 967694, 493558, 503995, 783969, 687925, 591645, 259685, 900796, 356878, 156920, 142017, 90975, 973604, 841895, 143616, 149487, 819272, 524306, 893801, 341504, 922485, 637992, 331691, 819376, 814887, 10418, 585674, 727341, 929115, 60129, 809568, 248873, 417247, 820867, 945902, 831161, 655381, 397897, 556120, 590259, 116348, 319612, 154561, 583767, 778682, 794101, 104881, 721009, 256137, 821601, 314796, 994554, 542884, 849157, 711694, 581393, 585752, 855273, 645603, 876667, 566147, 721345, 54807, 809287, 242778, 605787, 360975, 591215, 364833, 1089, 607408, 700042, 681715, 231173, 49273, 627903, 757531, 208003, 667521, 157078, 708413, 469116, 974188, 540820, 957734, 817893, 168034, 976185, 168083, 399732, 586629, 119408, 673112, 563017, 139053, 476841, 996705, 177230, 205612, 675838, 240969, 102280, 410400, 819945, 186416, 845120, 996992, 928681, 423171, 56275, 849622, 685363, 92468, 5941, 952072, 247860, 826929, 589422, 241755, 944748, 569295, 248158, 258065, 40889, 897671, 570033, 395545, 319601, 289719, 45810, 592072, 650917, 699548, 987054, 348434, 812302, 618218, 603387, 683201, 852171, 752514, 193370, 606864, 500171, 896965, 914071, 318111, 720885, 758478, 518052, 209434, 210000, 359241, 421303, 198779, 318016, 46340, 36197, 157621, 403413, 4187, 726470, 172082, 485608, 552482, 331280, 331028, 538569, 377653, 864400, 484277, 325218, 34989, 396914, 375777, 349031, 848121, 865951, 230465, 297767, 829451, 396509, 461440, 883764, 708037, 96898, 65368, 202741, 670010, 710769, 121766, 691993, 739836, 332085, 753772, 359932, 856825, 803774, 529245, 875963, 323772, 581696, 275743, 909774, 64001, 608504, 627283, 180781, 402817, 611272, 311349, 813217, 156750, 352599, 518963, 511502, 121112, 628620, 467417, 545586, 62604, 609853, 538399, 809220, 907726, 473840, 744426, 638771, 721919, 835771, 370788, 944451, 9555, 771023, 449914, 12122, 728076, 128092, 444444, 661801, 8256, 348932, 121503, 407173, 819735, 736209, 669039, 186988, 270610, 369105, 909575, 508253, 674292, 538616, 413224, 639074, 51542, 662472, 211399, 533016, 955796, 890013, 9907, 228285, 128053, 799999, 280444, 55501, 769075, 488809, 323137, 86782, 110172, 520029, 604902, 693928, 485578, 873286, 995693, 226763, 415591, 666016, 100014, 962488, 56324, 820570, 746024, 502028, 908977, 386653, 572964, 406608, 134626, 936829, 412700, 328232, 318990, 519575, 227717, 376550, 107018, 747344, 119983, 880512, 353582, 478925, 883692, 382618, 1149, 938147, 206375, 659508, 67122, 311794, 165656, 429924, 60693, 687734, 666424, 239005, 556017, 642400, 304803, 381892, 632556, 109730, 378768, 262497, 23896, 529403, 548231, 457126, 731988, 525482, 796310, 514993, 646353, 541318, 236339, 461593, 390457, 891124, 916734, 529948, 84542, 313166, 695616, 717275, 971340, 276973, 405195, 834629, 968431, 398092, 330993, 758640, 133198, 929253, 246323, 914513, 918620, 896690, 720168, 895657, 216772, 542070, 511561, 281572, 124035, 134369, 389566, 681234, 222439, 151137, 539681, 196191, 559579, 193561, 409537, 466818, 79571, 297843, 307503, 886781, 206611, 785174, 997550, 469134, 454409, 347333, 655075, 8439, 27197, 817301, 672376, 233519, 569148, 178138, 145116, 577984, 941685, 38070, 105809, 258750, 465428, 184069, 685540, 178473, 939625, 875784, 983754, 963860, 913517, 784057, 647470, 716718, 95511, 631088, 341295, 240869, 162150, 649479, 311520, 365667, 765860, 294042, 725505, 507081, 357070, 333861, 295822, 675025, 486044, 905055, 234332, 988126, 619581, 363074, 355159, 392287, 608895, 136099, 934293, 174457, 715262, 659171, 781180, 184536, 211250, 765975, 857168, 600385, 583203, 794154, 579306, 473375, 497321, 800940, 836596, 431893, 743771, 347323, 522534, 46755, 159612, 539012, 588156, 991390, 446382, 554809, 114591, 730164, 553168, 155278, 3362, 620720, 706377, 588361, 285823, 543751, 773632, 654417, 397416, 188554, 751262, 872877, 257154, 740653, 900623, 926148, 624364, 441084, 511938, 232147, 850877, 368907, 43310, 695861, 37385, 287728, 476166, 892447, 756147, 371324, 452867, 444556, 612933, 179558, 526514, 441506, 447089, 296229, 254839, 355562, 734675, 979422, 358801, 750034, 225159, 757938, 130349, 85058, 551983, 699173, 307704, 11362, 431966, 325607, 544745, 899551, 140343, 945420, 965548, 642408, 427246, 377165, 879925, 630920, 221540, 707845, 192147, 70653, 951402, 793294, 511102, 993260, 711391, 127692, 571432, 180159, 690351, 651104, 457403, 287600, 289308, 843878, 945241, 942313, 425823, 204072, 858866, 84744, 821897, 298490, 957075, 351471, 64352, 652274, 223953, 128829, 157029, 220513, 592613, 820148, 21947, 373487, 574792, 842934, 821907, 529832, 379210, 44484, 370482, 705179, 600101, 778078, 145989, 50116, 742819, 120445, 116137, 690729, 436573, 783260, 199604, 400179, 958620, 554334, 721256, 910572, 5496, 17334, 751290, 644938, 585075, 676618, 520476, 726688, 94746, 808233, 703185, 622478, 973897, 393023, 583398, 566453, 71416, 79078, 417296, 56748, 800722, 828316, 718861, 472646, 721138, 76431, 971101, 956688, 986555, 584180, 202436, 481988, 165294, 445393, 213145, 636670, 583104, 988623, 213682, 730596, 341717, 199527, 2204, 86660, 668207, 554359, 340240, 727026, 92856, 537467, 614369, 599485, 750367, 516178, 888905, 380583, 154587, 962140, 403444, 615216, 484872, 194649, 831240, 992957, 799095, 34271, 812320, 517135, 932536, 676711, 690860, 804469, 235516, 346679, 501445, 287529, 842831, 779619, 221718, 699021, 69440, 791393, 631355, 929974, 862866, 206859, 738426, 699806, 511052, 463467, 183251, 696874, 421393, 370377, 745919, 275621, 367201, 351945, 575758, 515520, 979230, 795296, 460029, 921834, 812506, 642900, 870907, 929497, 997002, 671043, 658881, 170267, 108589, 335477, 990263, 220517, 287282, 833400, 312830, 165981, 179523, 789726, 906353, 9114, 354950, 112756, 135339, 288917, 573966, 295066, 524486, 565720, 854638, 516885, 409310, 802502, 723259, 270086, 75053, 911776, 145759, 163489, 371374, 968886, 518327, 755085, 342400, 830750, 520512, 390928, 974673, 647109, 378588, 973520, 64402, 814302, 642288, 42848, 254904, 422337, 900172, 701561, 904783, 336399, 608986, 204775, 242940, 267521, 226471, 727879, 688877, 606249, 332587, 677848, 311921, 299012, 570844, 243529, 671591, 213683, 145592, 716004, 224521, 704876, 644921, 732082, 128306, 165472, 135139, 792197, 813421, 437268, 639965, 94399, 777748, 52467, 811024, 213272, 230276, 997345, 381726, 832562, 733825, 183916, 47021, 445432, 370720, 837786, 464747, 358707, 235018, 364021, 597065, 722515, 658744, 537318, 596875, 628843, 569374, 957787, 519910, 295693, 720092, 244710, 396263, 126736, 429833, 944893, 184864, 873967, 329292, 293587, 738312, 761043, 312420, 652833, 296912, 417465, 135515, 195227, 254456, 861240, 464327, 986024, 601278, 567966, 425330, 176896, 307790, 885427, 30516, 98310, 586166, 613328, 513169, 893198, 904141, 991793, 288348, 158350, 983545, 781231, 568695, 545876, 443826, 50780, 554251, 290604, 344995, 898716, 777940, 488031, 431773, 77268, 970606, 828547, 776871, 645033, 779647, 351693, 844912, 69376, 772720, 540573, 95795, 824646, 598091, 329788, 487128, 900493, 547880, 816163, 548704, 929329, 382657, 753088, 294412, 221251, 779812, 573816, 829195, 631169, 830981, 624082, 599689, 872576, 54800, 184973, 712076, 505795, 63223, 283543, 125834, 490265, 5128, 109473, 436728, 844430, 439809, 803284, 167961, 830559, 716182, 515666, 623181, 770798, 481449, 533075, 467682, 263801, 370563, 887587, 985688, 977798, 822466, 684779, 672723, 638790, 520641, 279524, 132832, 960589, 942419, 540843, 874711, 554059, 144393, 451528, 876192, 931885, 48677, 403822, 913257, 37084, 270499, 775649, 712756, 621468, 218923, 574455, 434945, 822683, 61413, 139048, 275114, 291445, 422423, 696699, 307550, 143653, 815365, 992088, 442845, 739536, 304048, 835630, 850816, 730882, 307747, 904314, 933210, 51403, 575494, 644114, 318565, 433652, 21247, 365010, 794167, 372630, 231551, 555805, 906607, 216488, 446684, 644799, 329557, 494905, 846694, 599893, 269469, 804779, 910460, 838821, 671011, 753499, 531123, 81380, 947928, 240433, 427726, 569754, 199627, 750941, 612665, 910226, 264439, 473597, 440303, 395675, 30860, 679180, 929867, 298915, 986012, 974532, 802838, 678971, 509141, 458986, 232858, 672044, 583899, 504484, 65535, 168819, 617646, 615813, 73841, 228708, 472360, 23876, 958641, 551968, 354324, 244622, 594305, 57888, 740859, 760771, 514669, 151638, 623952, 487280, 863391, 381693, 592299, 534748, 312474, 299938, 923783, 983586, 846128, 26845, 824440, 181734, 124009, 751098, 567126, 675337, 226013, 442408, 473153, 201135, 760484, 702358, 976991, 872283, 302375, 486331, 922139, 197927, 698173, 25416, 799276, 23337, 396796, 750850, 465919, 318701, 61808, 569083, 508622, 823939, 14201, 956250, 865180, 895886, 381348, 197097, 59854, 151643, 158889, 98339, 547289, 789020, 588712, 698502, 190848, 61454, 419960, 343563, 111858, 12765, 637222, 340802, 729459, 552890, 238995, 38525, 664582, 295980, 857014, 24530, 975266, 681681, 709144, 15737, 111176, 662418, 42448, 376818, 908943, 616190, 33533, 986762, 520578, 121410, 380635, 253254, 384889, 501034, 761154, 297109, 308873, 724602, 102269, 588459, 133070, 659911, 23649, 43203, 720258, 565217, 255264, 762374, 892999, 302860, 528772, 46080, 313188, 903062, 654428, 587296, 647130, 514368, 336409, 145606, 925311, 754147, 310453, 750123, 506519, 607615, 92884, 326186, 90207, 205004, 490058, 579430, 699057, 130266, 997363, 598083, 643164, 443745, 588976, 237436, 654093, 320702, 682478, 105844, 671716, 460050, 179269, 953287, 874256, 501246, 277493, 616541, 191622, 248339, 128585, 380693, 807131, 228254, 161821, 52118, 169305, 731857, 643370, 751457, 158520, 226265, 97378, 911979, 697873, 528263, 329520, 427162, 21326, 558520, 258183, 210522, 662117, 594919, 352212, 868285, 211381, 813341, 545358, 158766, 360842, 442739, 232497, 673272, 208225, 950802, 224288, 47170, 672561, 592381, 220436, 484267, 796262, 607241, 497180, 195532, 986460, 168809, 131843, 38834, 53801, 989154, 94771, 756208, 315060, 742526, 819002, 631336, 320260, 259990, 923008, 473491, 604429, 522978, 826732, 264226, 4609, 305513, 695422, 666252, 720861, 858301, 605709, 759917, 291179, 130890, 495026, 52091, 650267, 128739, 289325, 995083, 931558, 148188, 293387, 206154, 185915, 954289, 924933, 172098, 424516, 747232, 357229, 247513, 544187, 381466, 767395, 136709, 39035, 181288, 578510, 825303, 538178, 696066, 238323, 481550, 732240, 24148, 837227, 808026, 577753, 789951, 120884, 208705, 789925, 305180, 499591, 712413, 455819, 45356, 15197, 946247, 129605, 101244, 816205, 142509, 171333, 160815, 214373, 316597, 667473, 403570, 533608, 489185, 232200, 270518, 839373, 864951, 824929, 820761, 171827, 360650, 44922, 478017, 512500, 453492, 103153, 764568, 595175, 721835, 494976, 58273, 290958, 770493, 802318, 6893, 920260, 785344, 416310, 59337, 114468, 763534, 877518, 775489, 327837, 84035, 728467, 799401, 459467, 366833, 977885, 299707, 578418, 603625, 107044, 520090, 655024, 206613, 799352, 276032, 562683, 821459, 591940, 847272, 736182, 752429, 801645, 75134, 269564, 999379, 696898, 298106, 834391, 729933, 805802, 907432, 82679, 58311, 51156, 754117, 540160, 659576, 915376, 550601, 229532, 253989, 229130, 68599, 683851, 548773, 458133, 988065, 285945, 603359, 764992, 106877, 870394, 135658, 662520, 97048, 966758, 615232, 764132, 59841, 153924, 6895, 959606, 239439, 485522, 701899, 73226, 546197, 137351, 582141, 336862, 101769, 632741, 601052, 116359, 39368, 284514, 489005, 305403, 701920, 262266, 858951, 653519, 598265, 501976, 368515, 964066, 665141, 576992, 871698, 330048, 991125, 128961, 478201, 167157, 581325, 491017, 667298, 114670, 34004, 117097, 268772, 238656, 785772, 324888, 204144, 169061, 336763, 959221, 648188, 465968, 905619, 435746, 207186, 533199, 206230, 927430, 998530, 289938, 669665, 368644, 825750, 58352, 84812, 460673, 453776, 335626, 160265, 440793, 435801, 803866, 936685, 59504, 90424, 257788, 690811, 595692, 450135, 250518, 747653, 712897, 274274, 128116, 236826, 517330, 116755, 946321, 949512, 118629, 365436, 502794, 116609, 537007, 994183, 282052, 208362, 71573, 595518, 973482, 254594, 61374, 766063, 755822, 751555, 833208, 342471, 119603, 754904, 60493, 459258, 827613, 253461, 958626, 541766, 940182, 171057, 972044, 992970, 910948, 150844, 246228, 566086, 390600, 567734, 974545, 830184, 831901, 981233, 702870, 792, 379360, 850414, 767545, 96262, 553977, 471265, 927345, 571671, 867895, 604501, 58484, 121878, 305159, 876902, 836973, 101992, 136059, 943108, 489365, 710090, 246942, 506023, 919842, 475210, 423174, 217814, 824516, 357238, 808747, 652213, 507599, 216562, 944332, 187573, 224519, 437138, 357370, 168243, 985442, 966826, 430459, 841108, 992621, 759443, 936851, 558560, 518711, 866512, 418253, 534370, 541726, 104972, 877768, 651849, 853175, 20686, 555876, 34479, 640613, 627964, 229689, 24274, 671094, 148072, 363020, 102404, 792061, 485959, 221478, 69384, 567851, 417772, 351153, 875742, 5715, 176960, 508597, 171191, 745372, 289288, 38167, 488961, 739256, 239255, 567374, 559758, 302833, 331328, 225434, 354999, 559280, 816637, 772161, 331214, 950578, 908773, 928853, 511176, 859499, 949008, 32136, 40379, 529341, 722654, 233104, 512866, 502404, 664299, 19991, 417986, 471854, 147476, 772299, 506469, 484634, 170528, 656648, 455351, 176105, 882434, 291075, 366166, 763147, 836019, 245694, 688037, 970824, 873900, 703118, 536756, 268068, 296702, 691324, 966419, 309489, 729800, 146575, 295857, 606027, 345756, 966844, 74572, 647802, 116518, 624199, 279269, 653281, 401870, 750829, 420660, 596080, 892332, 217036, 111694, 234161, 690810, 117819, 220051, 545929, 121182, 128923, 660998, 149841, 689191, 813599, 870001, 184203, 240725, 275185, 844274, 23411, 220517, 734952, 428793, 259366, 41840, 812938, 826368, 928126, 645996, 953456, 524182, 186703, 524989, 373703, 403511, 790844, 527119, 536733, 984424, 898625, 505916, 530536, 836839, 450477, 794650, 697069, 505167, 566989, 354169, 517743, 230515, 496957, 202268, 507250, 910382, 263644, 469614, 28402, 780999, 921668, 224147, 971558, 488555, 727379, 201810, 727914, 600993, 2299, 874890, 65578, 665367, 530298, 805251, 898583, 460073, 713404, 65482, 468514, 747033, 852761, 25381, 418718, 377430, 970428, 171043, 782480, 683152, 264555, 296180, 111330, 697572, 494924, 919778, 492316, 95549, 299190, 338760, 878990, 984012, 447743, 900252, 120101, 771534, 154001, 969323, 665808, 877166, 780934, 101480, 255953, 280256, 59145, 726070, 595598, 689173, 259609, 543434, 384362, 698624, 449201, 453931, 559404, 940055, 150857, 43281, 503210, 501266, 146118, 74801, 811482, 189194, 187416, 793556, 71141, 443474, 836183, 950822, 981325, 654655, 107747, 93512, 234251, 916554, 957092, 744682, 950568, 127352, 507968, 383293, 24548, 93052, 259161, 258143, 655116, 790965, 813464, 11404, 187957, 420512, 335560, 644007, 811414, 26383, 713431, 750394, 999440, 512020, 858411, 50476, 763460, 206113, 991413, 622696, 210622, 59954, 915591, 666024, 79270, 817232, 916908, 234202, 939842, 139049, 647171, 587387, 813249, 751471, 90507, 555831, 20439, 458845, 860819, 33114, 747124, 278023, 267808, 421996, 599469, 81610, 660079, 531068, 298469, 558458, 829240, 744707, 760131, 199613, 34310, 850155, 443008, 522819, 704364, 124308, 301325, 142825, 69242, 788252, 613958, 426444, 914505, 370838, 741478, 238454, 277748, 560004, 41547, 159772, 942239, 827067, 792013, 434290, 575298, 268094, 100289, 2699, 491320, 718435, 3566, 93691, 647310, 340473, 855066, 450464, 594324, 311342, 622453, 815493, 638500, 451027, 41315, 472104, 974432, 406979, 743290, 198687, 586755, 370345, 171833, 92773, 757913, 989000, 788985, 793682, 962743, 199419, 526664, 80125, 793163, 24311, 301244, 834124, 69022, 248101, 624398, 382045, 992559, 418839, 238075, 728391, 223551, 890144, 8494, 674046, 240558, 599332, 560283, 47263, 383280, 324248, 114524, 971140, 825366, 535536, 500413, 846900, 934249, 803407, 996424, 311915, 876510, 414221, 55298, 613410, 983861, 10643, 597595, 749466, 228388, 737569, 974606, 571938, 433200, 241583, 337030, 881520, 84576, 310857, 169216, 945745, 27487, 139492, 421923, 234825, 365504, 618161, 612611, 121371, 548719, 707547, 996155, 878208, 734297, 610742, 764095, 258877, 615159, 969416, 665549, 347070, 824279, 277692, 116596, 495908, 721544, 7297, 975351, 13314, 362259, 824427, 74975, 774798, 905331, 860518, 175579, 878926, 210476, 768276, 276311, 71275, 447283, 638542, 335556, 187105, 11222, 157453, 568769, 161409, 556165, 11501, 807785, 722034, 372270, 71126, 197248, 994987, 568949, 619457, 226824, 596297, 187776, 220596, 227232, 774210, 24890, 554628, 888121, 271672, 861828, 638690, 554106, 273367, 634307, 429912, 558024, 37584, 269277, 799588, 849609, 606537, 971957, 129938, 596066, 290118, 166405, 234064, 384495, 651425, 641334, 544515, 157489, 990917, 584657, 572299, 437658, 289527, 959268, 754446, 308758, 174962, 412332, 134891, 758186, 396756, 885637, 696140, 811073, 989562, 319512, 362584, 261955, 961167, 958701, 894841, 542321, 839968, 136169, 78564, 93674, 257682, 412504, 667021, 152485, 424561, 317629, 108173, 801440, 876449, 764251, 928134, 336433, 999915, 671176, 214837, 516821, 736955, 921603, 412358, 85488, 915012, 85314, 78, 29704, 403528, 721357, 963114, 531171, 612933, 302568, 143528, 406041, 412040, 240467, 519894, 1483, 250813, 967026, 118872, 834056, 415594, 100172, 205349, 476121, 373503, 420217, 427831, 934080, 305974, 926761, 526952, 13041, 250342, 876656, 717844, 574327, 899007, 361432, 120615, 16752, 901664, 651011, 400132, 916541, 976718, 202186, 50406, 198270, 125989, 859010, 964611, 812971, 72430, 75331, 820337, 316733, 821865, 801502, 731168, 188997, 717576, 184083, 734362, 896220, 640407, 155358, 34768, 37913, 993161, 448774, 938586, 671465, 365828, 595441, 720097, 164551, 929605, 990549, 402167, 339105, 288114, 3047, 827496, 521383, 389463, 386334, 760613, 864498, 821345, 535368, 394477, 59211, 771321, 996627, 238839, 834952, 321770, 933137, 457739, 846731, 160272, 429172, 196443, 448643, 440987, 507116, 321863, 439640, 721535, 180036, 879039, 154630, 372100, 791764, 234571, 819897, 347097, 327631, 669708, 67308, 685649, 426913, 21571, 793792, 641412, 366221, 574115, 754665, 351860, 752890, 919593, 214033, 290349, 77049, 681130, 407128, 49204, 510528, 888239, 675156, 142102, 67002, 124814, 563549, 453, 308646, 725305, 541380, 910289, 427590, 352789, 96598, 685697, 134151, 290906, 479883, 782479, 804330, 679456, 888271, 409691, 286537, 390713, 271171, 821458, 157232, 688226, 908299, 759250, 119231, 590330, 26956, 531922, 590713, 462713, 393173, 584040, 447981, 155003, 126064, 991608, 949150, 454397, 591808, 494811, 375677, 192006, 901124, 531867, 331703, 565951, 51050, 789634, 815419, 984485, 988629, 602718, 350449, 417443, 933276, 85014, 577536, 93264, 725503, 133257, 478997, 760506, 4827, 109636, 37319, 689002, 585635, 600922, 951175, 167211, 555971, 161332, 659160, 192270, 496445, 808496, 97538, 754170, 283448, 136945, 241716, 530277, 318965, 955555, 995633, 600832, 968348, 187137, 202236, 679663, 584141, 871940, 431209, 21362, 417791, 98376, 845358, 805203, 629457, 656892, 969131, 917194, 2796, 182057, 294872, 15474, 774033, 183889, 679096, 815465, 972312, 748218, 942911, 527494, 801258, 856910, 328910, 827350, 455436, 6725, 501164, 4155, 996877, 856176, 127008, 438531, 782987, 854789, 37874, 939228, 200734, 641665, 241560, 399195, 290944, 457375, 219900, 23058, 106287, 372939, 916325, 280529, 880201, 786575, 589382, 948293, 110409, 441033, 705720, 531600, 208169, 478380, 188926, 243335, 486367, 214857, 150289, 30935, 48099, 665075, 938780, 428875, 897598, 598700, 693690, 507302, 366255, 720875, 643319, 142394, 503688, 256122, 653356, 597161, 53844, 862387, 608980, 626914, 448554, 605285, 587822, 793021, 630235, 237455, 760294, 753536, 590892, 688928, 832, 615225, 389563, 375967, 849827, 457552, 305710, 967564, 971149, 832712, 880268, 362047, 810018, 332131, 833094, 23555, 550681, 982777, 12983, 990938, 398864, 403179, 717469, 172131, 782272, 901442, 827575, 25962, 911955, 411753, 91832, 169994, 806886, 539353, 952444, 779269, 672444, 450908, 997972, 319128, 868228, 842822, 596059, 293831, 33746, 229702, 790498, 288852, 105348, 30512, 828541, 816042, 127387, 822632, 83207, 115031, 278797, 304742, 972405, 644899, 490719, 208526, 339239, 683940, 767314, 962617, 913577, 557672, 150950, 564186, 666476, 765093, 630402, 411410, 412380, 58076, 592535, 267889, 255002, 552897, 773098, 44323, 802187, 386814, 413926, 717849, 244333, 437341, 923632, 90075, 199203, 317257, 40184, 891775, 815478, 281348, 15093, 970520, 295779, 996976, 15161, 598081, 690403, 708556, 245824, 7156, 391100, 423287, 85668, 626449, 951730, 808479, 531863, 811888, 451439, 528577, 412964, 282898, 776825, 331888, 481119, 462794, 725955, 636711, 8925, 241617, 441155, 300083, 713562, 357163, 566970, 556289, 918120, 180979, 964785, 413440, 903605, 440076, 164491, 261566, 968264, 510384, 794974, 36655, 938153, 311589, 425095, 196475, 840002, 136700, 915696, 114176, 752302, 712047, 970453, 734513, 310325, 624253, 749476, 138913, 609791, 146253, 656216, 607132, 227314, 459255, 434126, 900049, 94709, 627177, 502275, 252477, 740337, 586762, 173158, 372281, 540706, 850398, 229883, 305478, 132178, 26822, 295321, 754285, 389059, 858667, 609326, 447343, 195259, 835166, 276147, 664721, 679621, 658031, 737779, 65565, 622082, 760187, 726454, 887706, 349427, 560872, 673496, 360315, 658628, 125443, 289877, 625360, 820256, 269757, 42145, 67469, 570141, 202040, 788616, 836578, 909062, 500745, 795848, 404248, 698817, 293482, 278682, 365323, 260700, 726806, 490317, 163916, 894276, 55403, 419237, 816077, 972870, 641106, 705524, 35130, 249433, 252635, 727467, 550870, 857137, 817578, 256, 597045, 510147, 417872, 792482, 357306, 448847, 690247, 656126, 990449, 23209, 856010, 36652, 298249, 505488, 766899, 277196, 60395, 135470, 297361, 254418, 910596, 569668, 932118, 872162, 622966, 76691, 5963, 878425, 322788, 322198, 906345, 773045, 282906, 471508, 439397, 378864, 76396, 114666, 3395, 944689, 357925, 470575, 274062, 271469, 242488, 253183, 640371, 665429, 633720, 324052, 6501, 993949, 115069, 69630, 841336, 183019, 147761, 245043, 995954, 626025, 974918, 42700, 757207, 108788, 56158, 277556, 944423, 159198, 83876, 796170, 62864, 152810, 383128, 478195, 102828, 581922, 119108, 751812, 383624, 11621, 953715, 117706, 240598, 221452, 613990, 179039, 36414, 944385, 904671, 601799, 35221, 897126, 856306, 568765, 223815, 909357, 722160, 869555, 249986, 26714, 413575, 100463, 500914, 634242, 817421, 7935, 161205, 101658, 390025, 163180, 146136, 191122, 336049, 3601, 166073, 762205, 792902, 392644, 237013, 281658, 441692, 326080, 9539, 124283, 435910, 181479, 584220, 478013, 362707, 70331, 636461, 358278, 259300, 482248, 490675, 729416, 949097, 669228, 304060, 840723, 886844, 133681, 41288, 852993, 296813, 747441, 364058, 696880, 109151, 95422, 310792, 38117, 634566, 411090, 608806, 30928, 780659, 567675, 609012, 128993, 782013, 226498, 499036, 540449, 382424, 348587, 657556, 466349, 86413, 217579, 430942, 465842, 786832, 721257, 709613, 199861, 846251, 879444, 98311, 575233, 656563, 927574, 958632, 741582, 513434, 189739, 861181, 42540, 858205, 54640, 702338, 323679, 313018, 37936, 806100, 160694, 563237, 185241, 371440, 974091, 182847, 184202, 450282, 934416, 240349, 194110, 628127, 987151, 212896, 446075, 819150, 554826, 866274, 434162, 189948, 308390, 704036, 216006, 772141, 960561, 345812, 824962, 319719, 62112, 457723, 878143, 301128, 562616, 199566, 345697, 505072, 703526, 441539, 497700, 107080, 263534, 488610, 621073, 343946, 180570, 962714, 43204, 756029, 297109, 580159, 306654, 659168, 351649, 857512, 928672, 114311, 386201, 839058, 468384, 977370, 526658, 722680, 990956, 744809, 193857, 73931, 171486, 608172, 338822, 532576, 752368, 637777, 410515, 801013, 397543, 600682, 673858, 865664, 252786, 351437, 305631, 614048, 123302, 555011, 432390, 239008, 248355, 456238, 661972, 985479, 572001, 759869, 837833, 450835, 445345, 867764, 750035, 111103, 219074, 967058, 671946, 939581, 318220, 425129, 291636, 951948, 728767, 664198, 215056, 102319, 270116, 379000, 797781, 985873, 834186, 894778, 915560, 405404, 760464, 957116, 244212, 480233, 876836, 17023, 763158, 579175, 523675, 617787, 875514, 756345, 525419, 806102, 685057, 424831, 47143, 580469, 838797, 849976, 770979, 202156, 191042, 929859, 600107, 121180, 732047, 124934, 411454, 725701, 697039, 155104, 644326, 832012, 755707, 821776, 144857, 840602, 81604, 589358, 469703, 425404, 210377, 581726, 99343, 540002, 536, 409620, 293201, 789546, 144485, 778927, 106219, 928216, 691773, 793815, 908729, 550269, 139284, 721571, 758499, 744169, 195017, 636385, 402436, 478202, 170221, 339233, 40997, 925601, 687221, 94786, 450514, 159063, 584232, 279450, 180462, 965291, 917348, 614544, 585133, 283312, 787327, 230559, 686438, 215068, 139249, 117898, 781305, 134665, 831447, 853311, 857551, 103645, 213744, 287663, 133986, 29759, 899838, 345940, 279307, 249472, 628474, 520405, 191857, 623781, 381756, 436004, 93656, 962477, 633535, 92593, 298746, 20789, 654527, 723912, 571714, 598334, 679164, 656984, 227013, 311535, 183750, 934548, 927855, 715248, 959199, 292792, 677249, 305005, 672923, 465557, 20151, 293536, 736858, 745513, 244664, 494562, 514818, 338236, 625404, 972814, 212938, 190232, 292975, 954981, 422516, 89172, 879677, 708589, 80264, 236649, 511313, 763255, 913274, 436902, 703204, 881675, 693057, 806930, 725060, 780754, 289106, 623172, 484385, 564983, 85901, 793920, 314946, 497490, 960541, 392668, 459608, 554832, 503092, 135254, 381443, 486205, 859273, 902623, 563411, 801045, 817516, 790228, 190704, 914660, 248733, 767874, 626847, 799269, 776151, 537928, 995081, 13454, 815843, 346043, 186047, 122424, 636076, 554757, 472176, 484726, 338889, 535435, 382281, 929488, 921997, 481292, 199736, 48651, 54464, 724644, 87385, 160935, 436353, 717049, 396477, 649510, 842087, 219416, 448954, 472237, 964416, 704872, 851965, 641941, 341299, 788404, 566213, 106527, 4041, 622100, 156381, 109082, 864318, 54977, 339238, 544399, 781384, 447347, 636922, 508719, 535410, 756642, 69674, 386333, 316975, 144190, 16846, 145758, 444260, 756846, 166591, 873389, 846315, 423752, 191035, 91244, 651341, 263002, 779271, 462552, 863441, 564791, 391512, 104110, 830284, 697784, 879904, 439545, 312712, 259812, 838916, 870369, 470407, 383175, 401405, 271563, 194360, 491960, 780339, 403420, 603495, 291908, 580546, 618304, 230159, 438614, 125121, 540504, 788097, 631312, 265249, 428967, 831994, 202227, 460900, 466538, 842956, 881487, 803573, 508041, 136222, 612929, 558323, 840524, 606958, 754114, 935477, 512897, 348647, 970950, 850069, 288637, 773497, 43333, 883107, 413969, 547128, 822476, 273558, 792678, 482371, 940194, 919609, 713606, 24669, 990380, 303983, 709772, 990321, 712226, 759836, 538566, 913745, 985532, 586632, 439487, 488217, 137724, 530401, 156533, 395353, 821248, 663820, 895467, 265588, 249079, 343149, 965607, 129483, 416213, 288023, 11760, 867824, 776387, 648745, 579278, 782409, 182642, 936208, 224270, 724859, 264864, 83603, 718553, 684754, 954466, 336079, 200346, 778502, 500673, 507461, 450999, 564073, 492075, 820106, 892516, 139145, 904377, 975336, 353439, 759139, 675864, 205802, 92207, 300114, 158348, 595794, 536226, 523906, 691874, 464558, 908209, 912516, 543616, 842702, 867402, 340742, 921946, 851366, 182453, 368023, 42967, 196758, 110023, 601856, 639546, 26296, 699631, 287026, 739757, 548364, 688497, 267046, 874283, 214106, 466529, 708384, 720113, 858923, 344754, 810695, 353830, 750666, 818812, 423100, 124925, 914462, 292778, 596728, 648582, 714587, 160168, 641915, 882943, 331149, 650244, 164995, 176468, 690532, 868903, 663773, 841640, 36779, 603285, 849372, 201663, 651756, 237067, 52151, 217736, 900201, 892978, 284696, 686953, 441452, 639254, 742457, 918317, 409310, 165188, 721610, 176767, 463994, 34466, 24952, 45362, 956283, 721205, 495022, 366370, 514811, 957284, 969688, 851016, 216051, 348365, 660197, 177821, 928133, 189076, 664161, 886392, 24773, 509667, 204707, 541209, 508178, 281519, 415396, 565444, 460559, 321962, 513272, 607725, 880806, 462367, 184520, 648546, 24908, 908028, 102817, 359550, 297416, 465067, 709517, 637904, 177548, 48405, 775553, 122996, 876152, 446358, 555448, 101328, 745786, 393011, 716684, 942290, 153337, 429926, 769270, 621470, 571621, 913133, 652456, 917377, 147984, 812137, 115458, 253736, 944209, 513459, 180758, 492430, 268310, 210276, 400493, 3638, 776680, 367387, 416263, 213494, 983401, 842996, 393662, 271547, 14630, 791507, 138367, 88443, 218253, 328500, 754315, 142258, 979624, 292071, 666319, 507301, 780599, 43996, 590501, 88617, 627082, 971883, 120615, 864223, 179647, 993703, 479128, 803045, 67251, 650602, 750213, 675032, 476018, 657653, 188567, 607500, 589556, 801386, 96003, 961996, 59378, 62620, 776216, 927948, 823260, 381749, 913872, 190997, 97446, 210907, 250279, 937831, 54380, 13995, 683121, 193444, 983324, 200374, 470517, 177648, 912032, 559610, 803184, 266422, 195061, 232634, 298767, 977728, 872767, 811749, 811884, 768092, 133167, 38662, 197897, 91213, 310354, 800446, 703014, 838313, 693231, 968532, 662421, 292534, 738129, 186995, 64459, 287961, 212264, 327128, 166135, 143920, 73469, 645977, 773073, 422165, 365332, 511673, 213813, 22261, 586257, 780093, 185336, 328198, 216921, 984278, 195068, 847208, 430104, 10794, 506656, 383660, 613893, 853333, 734531, 843856, 267273, 797276, 2980, 841998, 209045, 681206, 380320, 899937, 770564, 304716, 789678, 789912, 422591, 983396, 776321, 766689, 497607, 986988, 452943, 512334, 779806, 547017, 343853, 254530, 754235, 633011, 436425, 273974, 843349, 649277, 429962, 248556, 773251, 964716, 191002, 624304, 750913, 637783, 902173, 238416, 887352, 440065, 264725, 192410, 167948, 539302, 12001, 31540, 57672, 513335, 28069, 251904, 263108, 533745, 78447, 649123, 228868, 121265, 150949, 851006, 215764, 557989, 510160, 237042, 100645, 980357, 612390, 553544, 222163, 411664, 476257, 991280, 119010, 960224, 742345, 520033, 941969, 956745, 668777, 9897, 111679, 50989, 289744, 854658, 291302, 603315, 930772, 59544, 796040, 6969, 947507, 224920, 956569, 71535, 940416, 558690, 452258, 751272, 130575, 579618, 115665, 477023, 637200, 428720, 723545, 966653, 744854, 762626, 54029, 960468, 935489, 17565, 702289, 932497, 298351, 248183, 936093, 653664, 975294, 420378, 971187, 158568, 603176, 454235, 618160, 457518, 403582, 198802, 149840, 251710, 988016, 203550, 624507, 976658, 416894, 646642, 920354, 231933, 922850, 724123, 579503, 852760, 160851, 820458, 874735, 958810, 489497, 192721, 764726, 297689, 370220, 28903, 393346, 283635, 156421, 10768, 171871, 455942, 345156, 397342, 228871, 614018, 12441, 954839, 387286, 148228, 214996, 76607, 297006, 174974, 747088, 617533, 795723, 266707, 706502, 645978, 602657, 270753, 360583, 225757, 854814, 460949, 354285, 824341, 497003, 82354, 925657, 125994, 862790, 51932, 970168, 683951, 371252, 962386, 72869, 998026, 220353, 172326, 610285, 709131, 365033, 71553, 411050, 522540, 932980, 144161, 125800, 297696, 684985, 811884, 844171, 330996, 181173, 977146, 758691, 80123, 52991, 960585, 102313, 511606, 859214, 594587, 601881, 571427, 925691, 107338, 982364, 384121, 624474, 391500, 967659, 506102, 50799, 97257, 58430, 375972, 776443, 869120, 235439, 479386, 947131, 131760, 759087, 836289, 447090, 747446, 29927, 757459, 216813, 454197, 170660, 917993, 938472, 676825, 347059, 69423, 847518, 304131, 517737, 568650, 901056, 321748, 230326, 775151, 529587, 50279, 542212, 454803, 702933, 429025, 670250, 104994, 394257, 896686, 473099, 254931, 878261, 488765, 996615, 711298, 559529, 155840, 239900, 345832, 209046, 317361, 801385, 176150, 117642, 114288, 804504, 996541, 164089, 606328, 372933, 826633, 395590, 869445, 570437, 582495, 500066, 91756, 869675, 661531, 287313, 102946, 550311, 5356, 771804, 47131, 156, 441879, 218051, 667661, 854918, 265438, 720254, 278399, 113679, 885913, 201815, 173822, 888194, 871092, 289497, 372104, 396937, 944126, 809445, 920160, 223832, 475100, 843077, 124450, 89056, 190911, 971001, 375440, 720758, 14988, 890887, 896535, 346613, 58855, 984095, 1096, 803208, 545750, 145988, 849408, 854172, 152034, 608383, 49067, 313325, 330694, 268902, 120666, 472129, 840677, 885907, 745289, 181271, 292213, 340594, 864643, 108275, 323395, 909525, 101719, 815062, 967355, 123790, 268345, 198602, 637225, 236424, 924032, 783569, 164937, 879742, 420005, 122390, 377475, 484919, 177718, 51309, 838690, 544045, 289491, 95188, 116241, 450143, 131650, 868384, 881354, 472970, 295803, 811567, 689495, 785150, 807374, 517321, 300822, 169666, 197193, 562824, 264378, 30587, 641921, 27650, 458486, 235200, 553327, 256122, 853895, 663529, 138431, 901772, 500953, 955014, 93798, 780142, 765596, 761107, 897679, 894539, 7964, 553312, 582291, 123991, 828476, 765282, 310498, 390661, 848702, 203996, 664077, 432679, 364510, 322087, 194759, 791790, 944423, 944888, 442699, 881606, 918591, 896804, 563766, 135319, 829254, 3172, 587809, 747033, 252026, 434492, 872308, 236974, 679035, 982141, 268756, 912491, 122484, 492681, 849197, 90254, 684732, 95891, 376906, 898322, 633920, 332359, 459683, 23863, 84295, 859144, 892158, 166579, 415404, 805088, 929379, 452911, 763268, 696386, 331367, 553691, 301436, 968216, 581290, 278432, 841732, 291828, 797056, 516344, 913158, 594393, 619976, 745810, 117390, 248085, 317342, 282619, 485036, 802083, 523237, 658816, 74629, 433406, 675223, 162052, 843973, 354497, 965530, 328337, 509707, 1990, 954515, 329309, 562825, 861363, 62163, 784368, 431943, 126317, 344157, 658197, 461418, 762453, 541854, 562449, 275830, 636998, 288065, 450541, 409154, 229334, 659724, 199752, 745823, 319707, 494032, 971260, 688555, 242007, 558122, 661779, 741310, 548771, 84145, 142524, 73716, 257592, 915146, 673293, 229268, 131844, 298762, 626669, 721584, 527034, 143427, 807362, 477241, 142406, 117820, 49445, 684969, 86209, 388829, 817973, 354455, 226433, 6105, 221021, 985748, 75950, 57977, 285, 225856, 814680, 866735, 654551, 454294, 111414, 499342, 472131, 352944, 806227, 868061, 756216, 565314, 920835, 311174, 868430, 956113, 863595, 515841, 392454, 575298, 880937, 613671, 447868, 682393, 664220, 997412, 808610, 621495, 149246, 426002, 657914, 250283, 80428, 300759, 639360, 974029, 164865, 378090, 832638, 168737, 3307, 521789, 82049, 261757, 980312, 290612, 219702, 784811, 121357, 450188, 508706, 804094, 69164, 631975, 231579, 124436, 150914, 404682, 181202, 608021, 109103, 377733, 558684, 311677, 214, 554479, 804843, 198776, 516767, 953423, 348877, 686906, 950179, 220605, 894535, 514604, 359356, 963493, 854010, 681463, 23646, 415128, 734773, 585989, 740496, 861219, 709721, 462591, 983076, 963035, 657116, 983869, 672184, 707704, 654471, 995401, 535232, 874620, 313180, 485890, 368985, 29901, 757102, 877684, 365607, 20704, 967700, 45427, 151414, 871808, 714790, 956849, 869975, 702601, 215300, 469203, 8211, 880064, 602804, 306931, 408333, 814717, 574122, 74420, 654630, 153324, 146624, 738963, 856096, 337900, 799272, 414771, 416970, 142742, 562531, 332450, 379311, 669812, 917967, 499464, 967674, 919440, 231942, 139681, 67924, 194484, 777581, 438162, 195981, 369111, 419516, 302681, 158763, 978589, 238737, 871593, 878712, 652040, 803143, 692830, 300924, 266218, 335076, 878275, 431050, 63078, 941240, 458162, 789901, 819083, 211166, 789162, 435743, 472506, 210000, 335928, 412900, 770236, 44440, 488617, 930340, 308245, 817516, 887345, 46013, 538659, 425709, 883281, 501004, 92657, 895279, 723159, 778142, 349276, 106220, 933689, 994631, 370844, 80292, 323616, 906561, 370179, 147491, 2419, 530379, 328097, 66118, 945823, 611562, 616183, 855748, 438386, 351909, 43050, 640056, 164962, 963302, 260855, 236564, 367734, 277969, 729344, 857064, 346513, 218759, 940150, 848689, 202585, 276508, 397240, 821471, 642102, 934959, 821487, 402145, 915805, 480220, 251913, 556778, 117973, 438996, 456188, 475171, 455103, 770879, 735103, 463395, 183599, 952280, 220176, 371353, 524377, 218626, 313490, 409481, 278926, 102134, 765202, 391209, 106977, 636321, 229634, 283896, 549938, 187449, 292783, 475918, 350167, 656365, 75991, 10366, 341634, 99406, 753263, 254363, 556650, 251771, 560560, 991337, 102188, 525591, 118987, 189375, 302904, 268188, 356560, 935149, 330992, 345379, 54810, 90602, 967306, 254150, 824506, 89512, 92083, 755260, 630763, 561199, 937770, 140444, 922580, 809831, 755743, 166161, 816456, 144104, 97161, 966427, 91360, 912683, 740332, 417705, 439086, 960527, 771950, 801967, 517576, 356887, 419410, 264198, 894806, 211632, 40936, 813687, 542799, 909227, 628049, 682125, 771496, 396339, 94204, 747724, 406363, 999089, 78145, 347541, 116469, 100842, 689401, 332857, 314660, 236385, 674240, 615443, 963681, 454934, 628485, 288139, 228466, 655849, 712667, 798532, 245297, 152130, 217858, 51456, 39916, 579373, 199327, 592662, 49835, 870132, 488183, 363966, 391876, 484985, 724369, 36189, 806666, 229470, 464488, 48285, 972841, 794555, 70067, 894891, 980098, 796513, 3255, 97989, 114088, 748223, 49039, 806752, 374588, 527482, 617919, 878495, 25918, 555838, 851370, 504143, 369763, 65065, 98146, 497983, 898544, 455613, 298810, 157017, 438777, 161121, 737485, 276667, 3025, 168831, 350213, 638427, 758363, 404815, 89067, 98219, 563626, 274701, 61965, 357180, 842087, 61144, 493852, 761392, 239855, 617299, 641777, 756550, 352069, 17225, 771971, 711524, 106913, 287310, 74986, 970675, 999143, 120410, 567861, 718780, 29557, 62719, 441723, 671447, 122757, 123332, 336611, 617442, 126690, 783533, 449776, 898325, 40, 431721, 672720, 54911, 549681, 411714, 835867, 394146, 272791, 793683, 48333, 994330, 928166, 905836, 324357, 607537, 737276, 493380, 683355, 588851, 956511, 217532, 561306, 713716, 571471, 376892, 88306, 333746, 650210, 945051, 992446, 845520, 535374, 981437, 586401, 252679, 371311, 704891, 850980, 364371, 935067, 298671, 744576, 370081, 223497, 947444, 141737, 598430, 799418, 585586, 245597, 832841, 675282, 92848, 576532, 98188, 802372, 732348, 714222, 446092, 318145, 589032, 138710, 757920, 923945, 440047, 812760, 8170, 629166, 585639, 961797, 702429, 367852, 229290, 271649, 154977, 279477, 78761, 632841, 577556, 258282, 24073, 205348, 691386, 700597, 833993, 337457, 931891, 706816, 898641, 455170, 289518, 265628, 919542, 619872, 31761, 165168, 992623, 916199, 86736, 390974, 192466, 983167, 739714, 828367, 69127, 30428, 791619, 435013, 87682, 519463, 602312, 533936, 543546, 484078, 974816, 137759, 453432, 239004, 923896, 716770, 276411, 2463, 235597, 721715, 370407, 182368, 341730, 407483, 355139, 134288, 475388, 392955, 690729, 602221, 561543, 695814, 667187, 883937, 80061, 600632, 817350, 868300, 835181, 707219, 173633, 566611, 961666, 383388, 648697, 680892, 823566, 724625, 481980, 80614, 734197, 452489, 836398, 619735, 170082, 826807, 816631, 738148, 669411, 521272, 363774, 666815, 896040, 972893, 93763, 492887, 698515, 488020, 337548, 522891, 216393, 227810, 65890, 717563, 296970, 730258, 377369, 235724, 940092, 700419, 344540, 390469, 258790, 736828, 328098, 45655, 888519, 336289, 141345, 759972, 134724, 505256, 936998, 523724, 698611, 951638, 238567, 988421, 865780, 548732, 381073, 150663, 574909, 580512, 847510, 565299, 551311, 140698, 751927, 225940, 252788, 237344, 471630, 973543, 787830, 727857, 272570, 894576, 244946, 586959, 44611, 747502, 167555, 511374, 284240, 334305, 915282, 690304, 465144, 861745, 577649, 95904, 905858, 550181, 706301, 528826, 407652, 337022, 932022, 807286, 825525, 366305, 481985, 35171, 994656, 117402, 235791, 32426, 934048, 308678, 433114, 601406, 953779, 924001, 944506, 207174, 213204, 792916, 833943, 687075, 238749, 411548, 676139, 514688, 338454, 400535, 703734, 774439, 950261, 715051, 320183, 234988, 549119, 785316, 528249, 555548, 792196, 799285, 633176, 615012, 833060, 742672, 262792, 382462, 744182, 32012, 80899, 577111, 600957, 327385, 102633, 575061, 600762, 802764, 78801, 809202, 447115, 200580, 24309, 838960, 35492, 282827, 160467, 619627, 783387, 726290, 137751, 509772, 88589, 757924, 754829, 361877, 329548, 878553, 212459, 510474, 746534, 769812, 79509, 991172, 850425, 491498, 549420, 278191, 19921, 629438, 949059, 612720, 455451, 911585, 114337, 515735, 120533, 502773, 129141, 500694, 768779, 616794, 23169, 615794, 688946, 439524, 48423, 827519, 106434, 329501, 73021, 412725, 65058, 120972, 405865, 382857, 22162, 35784, 302459, 199394, 800236, 941777, 939936, 225748, 335187, 892672, 48479, 271604, 430865, 880595, 247408, 35875, 615352, 788196, 271609, 662941, 2285, 187017, 523524, 587865, 567885, 270476, 428019, 39691, 292270, 537498, 494099, 574623, 310265, 662316, 332192, 820371, 192165, 711998, 516292, 750952, 201103, 211062, 893224, 526925, 987854, 155742, 936197, 255536, 57911, 492764, 427277, 777601, 374591, 451653, 27279, 209922, 965648, 631297, 864564, 725425, 375525, 676765, 296197, 196267, 150517, 276537, 141839, 421754, 621815, 600259, 84925, 823496, 876573, 452832, 868760, 287400, 306019, 749410, 640232, 552916, 500181, 243750, 168230, 143790, 807132, 325608, 570146, 79488, 204451, 383839, 811912, 711561, 838285, 146106, 970060, 888475, 377210, 797364, 398207, 945036, 998546, 964944, 754709, 463101, 221059, 702974, 601320, 720060, 1025, 712536, 33016, 461530, 898787, 438927, 773104, 189706, 102371, 817658, 783502, 155577, 861872, 809487, 318435, 84523, 360024, 660985, 875339, 835801, 608682, 444700, 28952, 991403, 644215, 683547, 5971, 494394, 135482, 706854, 3168, 781936, 729567, 92567, 251669, 138837, 314577, 950172, 587970, 266751, 701942, 9786, 540885, 315481, 256076, 650756, 339921, 200902, 689502, 139659, 453791, 828854, 601762, 877360, 386816, 672840, 971031, 354916, 985290, 506370, 442749, 105128, 119450, 627660, 524067, 273354, 462512, 985374, 501140, 220167, 270239, 977125, 66322, 60764, 829448, 581351, 560601, 556567, 676384, 128955, 710598, 12421, 428357, 550934, 224365, 234017, 218212, 553235, 156156, 694753, 932348, 890923, 977020, 117754, 901808, 528784, 955301, 413807, 3808, 815293, 83665, 198268, 903604, 200582, 102083, 452070, 115813, 774646, 638602, 501761, 996320, 688697, 462809, 54509, 273699, 468544, 857000, 103796, 456062, 877288, 725451, 520976, 995452, 303553, 131814, 935241, 581189, 397067, 94956, 344220, 291954, 175447, 940720, 352398, 476024, 78012, 711154, 490676, 839371, 433048, 211511, 232212, 431121, 177116, 885760, 141994, 527846, 642462, 780459, 167715, 774189, 37672, 35952, 325999, 679578, 749561, 170129, 71686, 310171, 480054, 917624, 950430, 885476, 279675, 647759, 597315, 780962, 521950, 514260, 944206, 601111, 937457, 474335, 169496, 422402, 670966, 980602, 115359, 648216, 209195, 803088, 276261, 761595, 216854, 503954, 306832, 236716, 269066, 77928, 475552, 695851, 156658, 401643, 916030, 342272, 962359, 761911, 934357, 81049, 967372, 602519, 732978, 720990, 833407, 395544, 80821, 269629, 16735, 743385, 189361, 493112, 821510, 733313, 303171, 641771, 375267, 446137, 511754, 959459, 711464, 646720, 100533, 177201, 912659, 720488, 779091, 411760, 918275, 945159, 962091, 482595, 315891, 16083, 57858, 495689, 628489, 493192, 704396, 558572, 616318, 613415, 105115, 589440, 195686, 603506, 20415, 879343, 19403, 977910, 921088, 503755, 317970, 114529, 159797, 345310, 415244, 936900, 799634, 535332, 932576, 195521, 279027, 108584, 450713, 983441, 709982, 888337, 489043, 995969, 525646, 55562, 816852, 789754, 303935, 722778, 243342, 188351, 421343, 65147, 758475, 779039, 973871, 655764, 643283, 773776, 112377, 576686, 481490, 375139, 225963, 243269, 51299, 125306, 592474, 211266, 462540, 389412, 512372, 324020, 926464, 600309, 567473, 916914, 319360, 48579, 23999, 620433, 436593, 19091, 586080, 138726, 202565, 314632, 647120, 163057, 182720, 742535, 729709, 718684, 487454, 457569, 238933, 478656, 968254, 780307, 776692, 574751, 669308, 89723, 465443, 574287, 739344, 251143, 988647, 632120, 382443, 198263, 94607, 901665, 831424, 416340, 687404, 136401, 381160, 228171, 851624, 130872, 912643, 751883, 878146, 864648, 144183, 836030, 845419, 879288, 197232, 396806, 24604, 636904, 501498, 502473, 271283, 439768, 760187, 340945, 220464, 64666, 770068, 156134, 695161, 407008, 13290, 639919, 432957, 78311, 6105, 844128, 836760, 80778, 913239, 835786, 721625, 858210, 767282, 827735, 357114, 929587, 184626, 966260, 452521, 650853, 490906, 959333, 456069, 734609, 949859, 413432, 256551, 453484, 339595, 775912, 830642, 742625, 77085, 516281, 287217, 705789, 374020, 290472, 69822, 463297, 615069, 506571, 363167, 86238, 714343, 987800, 115640, 393419, 35032, 729973, 114880, 646225, 732587, 943508, 758489, 460859, 631479, 210109, 970751, 391599, 352850, 230933, 226322, 590856, 74126, 404300, 849798, 276705, 141047, 361472, 683915, 284682, 317464, 505325, 933481, 296234, 640923, 221596, 691718, 244036, 872845, 29505, 238140, 806914, 346681, 885453, 897334, 407387, 937789, 346085, 811615, 56290, 48847, 433162, 736225, 530969, 766907, 645177, 57211, 69653, 490004, 640450, 325784, 678031, 193338, 722184, 738674, 829826, 643953, 539402, 212117, 694601, 421675, 667689, 54877, 375058, 700168, 459215, 663213, 926718, 155898, 590426, 124280, 576964, 175353, 480431, 896024, 461617, 435565, 256343, 807425, 264135, 344104, 257286, 500865, 234950, 346214, 363046, 791574, 221798, 658328, 45836, 513094, 875467, 176528, 468681, 678701, 12633, 197437, 668556, 74440, 751744, 327276, 642857, 529652, 674526, 126871, 273267, 174366, 845452, 476220, 594026, 725941, 242647, 743038, 441856, 962591, 97150, 216502, 18114, 169340, 338075, 594037, 517117, 84861, 595770, 333131, 906290, 779213, 604334, 690876, 426022, 342347, 482757, 295343, 598735, 79248, 299602, 691607, 177952, 148091, 356365, 409449, 979702, 946351, 856616, 798062, 232092, 507275, 165129, 273791, 223698, 478854, 126774, 287367, 548767, 355739, 965049, 939150, 266044, 448958, 859987, 689175, 737068, 401062, 766428, 227598, 461953, 203725, 178221, 633879, 313702, 757358, 113641, 340698, 435103, 81842, 361538, 20942, 443442, 930580, 797565, 200455, 638551, 534923, 795705, 809715, 370521, 574994, 39056, 440515, 247019, 390878, 744435, 181927, 216509, 781799, 950742, 182287, 876157, 12525, 500623, 407650, 253712, 274298, 594269, 741718, 684872, 402665, 573168, 15591, 550689, 805485, 438840, 441210, 893736, 863258, 290783, 906908, 650507, 338607, 713832, 729321, 808107, 675169, 638332, 732849, 11010, 577027, 251346, 558955, 831468, 827287, 941417, 196346, 224165, 322508, 951165, 642230, 613385, 700380, 948577, 371274, 629870, 843488, 914940, 400427, 440425, 178682, 311995, 941041, 441331, 883912, 667825, 787472, 730273, 99821, 851428, 615852, 933642, 276876, 149310, 27949, 66262, 621585, 78179, 835502, 680504, 719069, 514300, 633032, 890316, 474318, 48057, 533184, 391974, 516375, 828119, 852442, 514724, 66011, 726611, 174755, 17492, 699278, 215216, 259364, 472499, 630497, 503870, 794604, 51821, 931658, 216534, 233646, 613247, 429277, 217953, 424722, 225233, 608888, 598941, 556725, 109564, 721569, 237441, 456616, 539729, 877207, 721111, 311492, 983430, 764707, 546329, 263989, 142471, 280449, 970171, 443147, 734002, 272117, 808404, 452346, 54617, 919110, 2239, 203335, 108256, 433096, 848193, 887730, 328886, 793614, 235623, 738717, 274148, 720941, 722122, 671104, 87858, 701221, 591314, 837534, 378651, 46656, 275699, 901299, 56009, 720617, 664470, 323318, 743920, 759964, 345969, 807382, 422482, 878158, 60667, 633488, 811364, 249941, 17791, 145923, 4216, 828448, 239857, 697737, 544525, 965664, 131245, 457481, 338306, 309951, 403834, 99323, 668136, 243468, 661126, 326216, 616455, 44175, 971591, 661425, 470499, 95208, 450660, 659761, 104658, 7492, 655248, 122436, 321538, 881735, 204125, 598791, 501609, 590409, 892061, 247198, 741882, 485083, 508389, 111335, 141415, 315095, 360752, 661121, 87476, 750479, 822086, 489052, 779770, 912363, 599301, 146662, 180503, 380238, 152644, 421420, 944066, 586592, 288468, 53351, 381933, 459452, 996110, 303636, 892007, 499296, 156474, 126442, 361294, 476473, 531217, 833469, 502053, 663896, 261185, 934519, 223436, 87396, 72904, 41232, 114826, 611854, 144822, 257556, 228983, 531357, 221296, 376029, 909244, 182011, 543135, 438388, 249342, 266851, 579972, 717174, 452313, 258214, 447448, 389662, 700520, 529737, 142544, 616198, 795957, 775839, 881177, 821547, 978412, 609844, 591416, 114170, 80815, 55382, 875207, 430305, 127729, 240783, 457063, 710115, 118459, 186204, 433880, 556680, 133170, 327074, 896516, 997722, 691281, 101564, 94444, 800251, 175151, 124741, 57015, 189246, 288601, 6982, 180800, 824779, 678833, 218538, 48477, 74877, 476237, 57802, 671790, 938493, 380276, 862047, 483727, 718962, 415406, 391810, 700068, 479109, 391334, 486144, 247332, 602581, 139348, 912411, 953508, 838532, 573242, 559471, 422513, 33287, 556106, 648150, 755368, 623287, 43447, 31980, 323684, 947337, 624690, 173962, 140275, 124493, 61050, 212223, 108121, 599286, 791821, 175239, 814851, 761716, 236574, 182756, 255409, 260921, 604983, 190930, 590594, 644112, 861218, 234283, 577437, 505020, 888306, 910918, 977666, 389382, 649210, 181793, 736948, 454023, 574391, 336813, 361515, 790858, 163651, 7401, 494325, 215764, 988910, 117398, 728763, 850820, 211775, 248998, 583536, 943005, 506136, 768393, 452820, 92806, 289272, 191557, 241621, 554819, 776433, 2495, 191177, 767880, 967014, 176351, 596604, 789820, 17643, 62341, 27170, 827644, 628606, 867267, 706860, 201787, 291473, 845220, 701882, 776252, 686081, 355952, 327314, 339569, 222980, 813294, 520075, 639452, 335054, 915737, 356065, 765583, 397575, 204801, 199611, 488239, 989284, 914680, 955213, 998029, 472535, 20904, 355764, 594541, 22421, 798866, 591657, 655216, 986168, 984647, 27489, 74037, 752237, 334099, 19817, 686488, 65320, 682449, 650595, 571732, 293739, 998897, 629528, 144778, 249571, 860359, 788819, 676720, 694758, 13245, 732762, 346918, 176442, 913247, 497170, 324442, 599123, 764942, 258616, 43273, 545984, 230141, 990705, 116790, 148556, 357871, 275653, 329404, 722695, 262590, 708456, 759955, 503238, 440667, 701768, 665435, 707034, 198508, 612364, 65802, 489550, 712434, 298116, 448848, 482578, 250920, 525036, 541979, 641284, 871165, 156545, 900278, 866372, 189644, 931305, 428611, 137266, 554340, 613426, 583896, 299669, 473169, 187676, 498991, 126720, 35235, 481873, 275267, 597597, 479342, 185423, 288494, 218363, 520580, 765104, 721217, 709363, 814550, 630121, 42078, 894292, 154567, 197580, 258404, 448879, 220613, 611125, 947174, 237144, 739917, 844305, 920474, 895470, 70447, 55738, 76713, 132933, 391839, 656313, 650959, 804747, 101787, 415569, 994033, 110632, 483215, 833551, 100512, 473641, 557270, 278882, 103172, 899318, 758070, 811730, 943241, 761606, 112297, 21175, 9486, 132660, 774525, 410489, 621377, 800928, 225090, 218673, 601847, 928049, 979972, 677880, 384527, 38879, 906325, 142712, 625690, 776613, 20863, 593467, 287186, 784073, 80448, 233673, 453563, 654155, 780885, 530156, 25164, 239822, 613647, 173752, 702345, 820288, 481031, 750632, 156024, 239467, 763521, 634286, 55311, 79282, 729242, 423828, 425394, 564046, 63759, 568450, 332318, 375979, 318059, 344700, 747813, 108345, 852574, 780987, 376512, 783706, 645636, 709208, 87438, 280578, 655897, 557416, 115069, 113249, 958202, 754587, 348614, 677718, 673009, 95148, 969732, 151487, 559409, 217466, 443638, 39684, 249, 599701, 334608, 94062, 117385, 590815, 233099, 635836, 988600, 450753, 488504, 833263, 643001, 863311, 39497, 249827, 154313, 487890, 27642, 893379, 66328, 765571, 635434, 344334, 963458, 918329, 588126, 619484, 70129, 888357, 896550, 284467, 7848, 681588, 465089, 135197, 644479, 846992, 940636, 178501, 758911, 519908, 308824, 333070, 868423, 828299, 680208, 968730, 270654, 121386, 970468, 966152, 408204, 784048, 862884, 340356, 644002, 710958, 797231, 63517, 627685, 863731, 112781, 299368, 309216, 170286, 287134, 828899, 305536, 976919, 287186, 289909, 874984, 691364, 819709, 618762, 677592, 804942, 85956, 417286, 955187, 87247, 140955, 95544, 208544, 605068, 449949, 971103, 472911, 425372, 443959, 427650, 15937, 732791, 441547, 528959, 999264, 109108, 426540, 584638, 507359, 92090, 302704, 422368, 85483, 933847, 20556, 403645, 506883, 245397, 792812, 812748, 713768, 427791, 482815, 917985, 601418, 611049, 825387, 817590, 385771, 912380, 344032, 670652, 95439, 429904, 64242, 897544, 291674, 300275, 997649, 281265, 648686, 398871, 62659, 807068, 420829, 625196, 797564, 27663, 508476, 574713, 95337, 416006, 885388, 906990, 9243, 610726, 941777, 471942, 636810, 251054, 263529, 653480, 350424, 62629, 810115, 630011, 752778, 386318, 991236, 856448, 532867, 499745, 656114, 348435, 359356, 810217, 901225, 251760, 268312, 663289, 556754, 474383, 908810, 974093, 55468, 615283, 294888, 824745, 402582, 621259, 850548, 37881, 795293, 909528, 219194, 198005, 688572, 397194, 934013, 320311, 139770, 598796, 143799, 289780, 493197, 404620, 341681, 253967, 296451, 135107, 504998, 519788, 443393, 590704, 202776, 563243, 118491, 248537, 445905, 913496, 808065, 370352, 954779, 130059, 513923, 58910, 779537, 649930, 361633, 98420, 4599, 103119, 509214, 228320, 980532, 744115, 941346, 60683, 198245, 673683, 617453, 860057, 564654, 585055, 981063, 93294, 452710, 926907, 679716, 288, 427414, 710687, 698724, 631663, 128695, 379902, 360790, 733292, 506136, 828819, 776619, 707982, 602449, 421474, 298089, 100629, 414501, 904470, 968190, 370109, 790131, 792371, 543344, 233085, 716262, 726239, 175110, 620363, 924563, 223038, 416640, 516686, 683619, 534501, 482023, 323236, 249799, 582619, 451678, 828093, 783908, 156584, 772452, 863198, 229399, 108484, 514800, 502456, 132459, 59097, 896033, 199931, 362269, 987411, 359849, 66299, 836291, 843832, 709405, 143087, 828970, 597961, 759051, 348385, 7292, 872303, 240739, 748805, 514084, 487764, 387974, 131566, 419313, 643725, 834098, 31364, 900301, 252328, 505207, 263523, 911699, 267113, 655381, 990461, 807915, 451382, 24134, 134044, 983685, 981008, 174685, 218971, 677456, 354856, 340467, 121144, 809502, 564583, 603135, 347218, 459216, 212288, 565195, 473635, 968120, 903837, 852699, 385066, 157234, 574220, 575444, 249989, 168267, 439477, 884803, 439356, 369528, 956199, 98206, 5096, 3884, 184522, 764587, 705557, 966380, 828192, 141705, 498233, 810197, 819057, 649865, 250569, 13890, 363141, 592659, 960563, 619601, 696487, 523308, 643657, 462093, 34282, 26692, 176847, 273376, 934272, 734572, 186015, 589486, 407665, 660665, 73831, 362312, 338669, 233758, 177401, 458228, 807589, 193034, 575417, 911860, 576133, 630406, 248960, 7396, 196488, 41466, 719420, 814216, 335000, 38896, 932528, 600111, 514726, 58736, 190939, 441400, 700687, 952102, 571430, 344419, 49158, 30728, 211780, 65573, 771646, 252691, 812453, 317869, 239531, 501386, 104578, 418548, 334334, 897157, 884824, 450837, 20747, 231720, 79946, 539517, 106056, 780650, 997270, 230723, 692706, 486203, 214280, 745581, 14723, 135434, 875517, 747705, 835313, 656175, 632822, 976128, 741932, 657910, 505653, 175629, 896913, 326223, 750190, 891929, 299282, 154201, 533707, 407367, 167883, 755133, 752954, 362810, 988982, 834337, 19115, 658497, 937920, 655140, 823589, 52671, 949210, 408439, 945332, 9251, 369888, 920533, 661229, 697858, 403584, 393218, 871348, 343009, 444501, 770149, 596857, 206203, 223322, 577736, 162819, 201794, 840038, 869113, 488372, 24197, 162331, 889959, 69025, 353875, 897864, 133419, 13788, 575157, 433462, 585569, 122905, 40401, 90669, 402944, 565945, 394773, 5615, 552736, 665167, 52648, 485321, 131979, 766793, 756789, 260155, 2313, 920689, 206790, 95579, 339079, 146301, 85167, 511971, 885711, 455321, 898071, 837053, 244659, 756086, 6787, 718321, 221444, 396375, 556559, 509449, 499170, 938572, 157912, 441649, 500059, 675178, 581815, 438578, 972818, 362331, 339738, 76288, 447693, 317142, 947377, 289023, 670158, 767847, 291954, 233459, 688565, 692520, 817535, 989580, 807730, 860003, 131541, 525535, 298300, 610338, 98593, 234233, 485312, 377270, 889229, 22987, 198579, 904314, 99055, 815560, 944966, 367351, 994498, 595408, 479267, 527688, 523522, 205629, 175606, 648647, 39832, 417274, 574897, 517282, 70001, 231257, 135062, 981252, 273171, 844422, 174544, 388674, 18586, 998061, 496877, 430231, 576820, 383575, 601065, 383870, 255008, 982404, 82653, 585672, 335159, 455916, 790171, 62825, 919583, 924590, 492489, 701526, 232837, 737658, 384506, 469673, 96626, 796939, 77903, 435656, 839111, 705942, 330990, 857738, 402452, 229674, 272165, 353367, 424783, 117716, 418230, 778263, 774126, 882545, 110713, 123739, 237880, 123344, 190814, 15404, 547626, 688822, 368785, 541090, 777508, 463727, 964903, 862999, 452875, 381021, 335980, 919163, 371293, 76224, 730063, 548687, 335010, 360249, 970820, 894112, 628757, 755951, 971342, 925610, 167776, 573049, 378686, 796460, 199692, 276731, 57827, 813232, 80101, 355667, 826618, 362813, 157947, 913012, 596254, 724719, 913991, 300122, 289947, 211705, 622314, 846370, 652535, 708915, 147927, 815524, 227040, 975224, 237123, 155274, 732200, 535022, 276692, 857287, 317157, 244923, 221694, 58320, 409930, 137272, 830049, 418239, 994442, 256194, 998775, 772928, 259818, 136700, 706559, 98058, 182380, 597506, 477494, 664366, 588183, 422018, 696851, 136912, 54423, 193405, 184062, 571354, 355964, 164116, 110346, 720957, 539221, 382823, 435471, 37825, 618054, 30962, 506740, 114659, 487241, 556157, 996069, 995043, 673906, 841916, 16902, 220067, 977713, 584410, 184440, 6646, 499628, 158959, 129872, 752773, 104574, 325570, 813373, 661462, 685051, 128459, 861156, 87867, 35538, 781594, 409593, 420813, 299377, 400855, 581085, 155074, 513189, 592568, 765190, 736447, 460439, 306975, 781227, 402759, 625246, 955337, 213535, 150308, 540557, 324554, 566286, 750872, 526196, 46367, 600235, 436602, 946379, 375649, 613355, 454918, 407317, 760899, 55956, 166273, 941044, 301317, 365309, 542584, 234190, 821440, 520961, 669226, 902882, 550074, 699917, 522441, 318357, 9802, 694844, 560608, 429023, 859623, 925837, 248888, 513018, 893761, 228060, 666192, 891172, 756821, 637696, 241110, 376522, 832340, 80030, 321039, 132936, 87831, 730984, 465507, 465914, 542899, 670722, 81135, 558715, 54804, 259576, 954997, 422843, 7131, 440123, 797792, 333872, 224302, 317601, 50014, 359062, 665428, 91665, 388730, 555798, 6122, 40924, 121163, 186127, 603878, 8465, 927653, 277702, 378712, 479789, 256458, 13618, 757223, 48522, 834090, 437248, 97252, 860112, 552922, 495350, 246639, 901886, 538146, 696365, 746572, 610871, 179309, 408205, 835127, 134399, 203545, 15834, 223227, 488264, 739346, 712338, 103004, 482626, 490876, 312064, 406256, 226115, 333363, 728595, 828651, 25116, 423415, 183825, 435339, 998271, 875570, 856063, 218115, 60459, 386857, 344616, 939018, 168368, 301664, 723782, 676702, 792606, 258784, 970808, 894689, 436881, 840655, 893747, 515778, 526958, 100985, 986675, 939968, 685682, 476517, 185137, 729213, 575561, 288811, 763905, 23848, 100690, 842100, 774739, 804506, 452104, 247542, 488466, 304813, 340075, 242360, 909301, 784609, 622476, 444451, 35029, 909187, 467245, 616867, 297488, 331396, 645377, 647346, 530506, 80886, 587879, 142772, 672681, 214576, 473180, 322394, 153120, 208454, 871835, 660438, 781501, 961620, 176383, 342463, 888772, 824155, 652846, 676894, 68193, 524386, 207920, 565356, 146334, 937144, 443082, 916162, 213542, 70089, 559550, 600310, 494140, 967154, 65614, 735119, 83066, 900184, 156547, 778820, 112593, 660724, 148938, 452925, 166743, 705078, 976650, 577551, 828990, 986796, 604343, 116969, 305263, 704088, 317813, 178270, 650286, 303732, 336103, 345377, 595665, 677732, 779926, 145772, 79584, 111732, 657903, 515581, 207126, 824279, 723242, 65031, 507392, 220179, 485303, 569820, 38250, 297667, 201205, 545659, 699449, 11135, 437694, 183213, 722928, 450458, 986505, 769631, 2633, 715145, 767799, 868990, 884401, 190896, 836579, 34326, 449253, 694907, 136620, 540189, 203871, 314000, 547933, 91860, 127078, 24813, 48916, 249036, 604605, 879167, 847886, 203686, 961695, 651792, 142386, 817884, 331625, 189952, 581266, 190, 260364, 188937, 845802, 600147, 70115, 891419, 93602, 920194, 939510, 518978, 237073, 409561, 504765, 765972, 862327, 799155, 856280, 428354, 298533, 472927, 852171, 590537, 163324, 805429, 133748, 556591, 520315, 144149, 220050, 756674, 351259, 200715, 223381, 391354, 386852, 375203, 441289, 475095, 429442, 705088, 465890, 183420, 479153, 157088, 833785, 619191, 744357, 277381, 806723, 562849, 261850, 261232, 431710, 305041, 772441, 42568, 701731, 151034, 963069, 346801, 825346, 176903, 647657, 390188, 35946, 401147, 492989, 829052, 555715, 366876, 732951, 777326, 164654, 800851, 147457, 984901, 226663, 314070, 259555, 630705, 294758, 342629, 814054, 965297, 176918, 650865, 123431, 750297, 84864, 653898, 606969, 77808, 70399, 877156, 693670, 499474, 566853, 541006, 995815, 727389, 899458, 344704, 302462, 144570, 812917, 342574, 872527, 363543, 483424, 250119, 977592, 448722, 70276, 703280, 629935, 965202, 476288, 911973, 765702, 138140, 142036, 678966, 780016, 884856, 60533, 684913, 331612, 646624, 604892, 264036, 327871, 82730, 464422, 430724, 706990, 326853, 278368, 274168, 331830, 584038, 195328, 980531, 316417, 266629, 605493, 695797, 893368, 236557, 966248, 743548, 894913, 767078, 289509, 826511, 518218, 294871, 870333, 165706, 24948, 117710, 160316, 485653, 367950, 533040, 274164, 331345, 862928, 154681, 700473, 190605, 379575, 277625, 483164, 514374, 106481, 193719, 733618, 891698, 427731, 995205, 577309, 471739, 411583, 43326, 430559, 133790, 213212, 497353, 620010, 994311, 677687, 341212, 150406, 743084, 918609, 277254, 498001, 314106, 792308, 540138, 400674, 50590, 474716, 828780, 157691, 922755, 733750, 622534, 102558, 105629, 100341, 948372, 676435, 104465, 818594, 736900, 732327, 325387, 696274, 827676, 650519, 448736, 301481, 812980, 544683, 142932, 936200, 580179, 676969, 120826, 62582, 379858, 17494, 241607, 123656, 417315, 489965, 770745, 788220, 347972, 879011, 835445, 600629, 867520, 644568, 343825, 899075, 317239, 650921, 702102, 115189, 813147, 821756, 472346, 652313, 713638, 762226, 81946, 118847, 479495, 659055, 251027, 186498, 614234, 878449, 387572, 901288, 180522, 784860, 874899, 895281, 12189, 948427, 699096, 26394, 125376, 110871, 20429, 468245, 56214, 145816, 206592, 812967, 578648, 613322, 697839, 301452, 584613, 499199, 851284, 182371, 912990, 483687, 316106, 61119, 99695, 744621, 801655, 664897, 827009, 945648, 360790, 617539, 600664, 118252, 969220, 656527, 908901, 933393, 650975, 591040, 654755, 461800, 980789, 688068, 239261, 685336, 298481, 60058, 723273, 821671, 83921, 124147, 501143, 883243, 281100, 398356, 632866, 732643, 10030, 738866, 574551, 66949, 383723, 4951, 273408, 484029, 846662, 185822, 164555, 202725, 226485, 641049, 945789, 796406, 154799, 712249, 118084, 410761, 333434, 320529, 183841, 220602, 268658, 128011, 573458, 313701, 586605, 808879, 502801, 641016, 199281, 644776, 986305, 481514, 855668, 605825, 425835, 888128, 492199, 261912, 775437, 451897, 792624, 385293, 324708, 124724, 652129, 866077, 954592, 838611, 856243, 367567, 137185, 52113, 50885, 660118, 909544, 335246, 4917, 608389, 656703, 791940, 152017, 624123, 136861, 703845, 308640, 732925, 549107, 196126, 396591, 864051, 266507, 97605, 434887, 203412, 506577, 291302, 4447, 159153, 671627, 353759, 876753, 218416, 472267, 243244, 555708, 5456, 493408, 560086, 230411, 793598, 701740, 267693, 704852, 735314, 315352, 275467, 294514, 316773, 94044, 233435, 486337, 519949, 162102, 588261, 834748, 449948, 283784, 193330, 369727, 699152, 470449, 360447, 865596, 129661, 768473, 273865, 478455, 948372, 689242, 230094, 227964, 873698, 842698, 975992, 551755, 995820, 208006, 128576, 923788, 962906, 582973, 294483, 214765, 307352, 904899, 354531, 625141, 705116, 13803, 43145, 264987, 222635, 963936, 244825, 407393, 802640, 787571, 427221, 920389, 473741, 235432, 493675, 233927, 370052, 800173, 280869, 713581, 38013, 249434, 998070, 927796, 819710, 142808, 798249, 563243, 449890, 877321, 329865, 344439, 82576, 338059, 686937, 288922, 990084, 368908, 832596, 418176, 35155, 755078, 931818, 301205, 173494, 991929, 109305, 944194, 588585, 767224, 109566, 585087, 337426, 738890, 354018, 733120, 761736, 836712, 774092, 699606, 631509, 386122, 71287, 323446, 950442, 783645, 961401, 356214, 668942, 440456, 189026, 15632, 606789, 333750, 25436, 327805, 571019, 613686, 345024, 758195, 721113, 433897, 17730, 440241, 123652, 649724, 290396, 271203, 332862, 772501, 652896, 680411, 816671, 238360, 984857, 558466, 599255, 295983, 674054, 187006, 431283, 395762, 487003, 708573, 717359, 142682, 921466, 454645, 38556, 328111, 963341, 699187, 96728, 697264, 452588, 695117, 383710, 200006, 335797, 275910, 991696, 199148, 144142, 818013, 171324, 667066, 545848, 77451, 316936, 881810, 699377, 865796, 92929, 919611, 579756, 990287, 174081, 103234, 61007, 197267, 110981, 308474, 837110, 203973, 600951, 437105, 673394, 784788, 616940, 479083, 96157, 487793, 644299, 279853, 685506, 962789, 243946, 334695, 40127, 680058, 410021, 782891, 630128, 570640, 208769, 277423, 312314, 804084, 224824, 96312, 468061, 91549, 588172, 139726, 326092, 291710, 249836, 784298, 82616, 465186, 320275, 922133, 609503, 109133, 181831, 65952, 205173, 155156, 380058, 852626, 183614, 678072, 859454, 816711, 336963, 712146, 807965, 332805, 209662, 661592, 469304, 322999, 348408, 455118, 741011, 269279, 455946, 365910, 503829, 365731, 241835, 799447, 196019, 744082, 298324, 811888, 831117, 280347, 646594, 563066, 878862, 164989, 526438, 149353, 518233, 882905, 963779, 150855, 318988, 457625, 569286, 93005, 608856, 15552, 299747, 774239, 433966, 815993, 630500, 702700, 585283, 831986, 945115, 675256, 97030, 676383, 699147, 150551, 599584, 589110, 408908, 196576, 943238, 482272, 229410, 338852, 208894, 43126, 905730, 686071, 776704, 812667, 838283, 745360, 412366, 515595, 535931, 687618, 305301, 891949, 315970, 114263, 303022, 838101, 387451, 134713, 70716, 114716, 176535, 497610, 876750, 509662, 865001, 664871, 6325, 689153, 783702, 554498, 958649, 866941, 199374, 856439, 578962, 428614, 882044, 965034, 656807, 733492, 810926, 878201, 143093, 716357, 508855, 243716, 42518, 937867, 619100, 270461, 669219, 497332, 476916, 786870, 141257, 836527, 207191, 422266, 190345, 513771, 368022, 529857, 222461, 503894, 708162, 662937, 106768, 562877, 758291, 605489, 373040, 550306, 922482, 847929, 540782, 224185, 505664, 908960, 722192, 424342, 936265, 562866, 397975, 750430, 858940, 413978, 15068, 205333, 493739, 256780, 594328, 410853, 760261, 192863, 693285, 208788, 746788, 397080, 719025, 169750, 69762, 136255, 38093, 382960, 186243, 465380, 802633, 507865, 807706, 597935, 387435, 653048, 690536, 405242, 727507, 521194, 695070, 364486, 407134, 862982, 353310, 928740, 475172, 564268, 176848, 821804, 691746, 346224, 692405, 370187, 515173, 962560, 312144, 37359, 329510, 573174, 876236, 202196, 300151, 950615, 754735, 712617, 261684, 357530, 290866, 757180, 90663, 304166, 374562, 938623, 135141, 239746, 867494, 419139, 305500, 916071, 826853, 467977, 447239, 957975, 238335, 462796, 270334, 854864, 367447, 467302, 861178, 581791, 375887, 418096, 203335, 330958, 245038, 652130, 577483, 760833, 133435, 880787, 709927, 769502, 277501, 176586, 30761, 626662, 598268, 630915, 234693, 361443, 937063, 300666, 391586, 177306, 292806, 250830, 86521, 388834, 698405, 278922, 743369, 540593, 354802, 593513, 754696, 663239, 927613, 462990, 253353, 103419, 710938, 923960, 183745, 426810, 822059, 143113, 212091, 171975, 849510, 987399, 120968, 927482, 124476, 432281, 523915, 311564, 989846, 806572, 4505, 405802, 81933, 336755, 104971, 735409, 587679, 171253, 350181, 588363, 121243, 789357, 129076, 446684, 299089, 44162, 733794, 43891, 189424, 307776, 870853, 346196, 516855, 543210, 43749, 357683, 47738, 330702, 767143, 82812, 991180, 165974, 359251, 95798, 412404, 280313, 639210, 33944, 14820, 167520, 600806, 440751, 723688, 39747, 886409, 458109, 931235, 451491, 333715, 889519, 842979, 711552, 519096, 581423, 353113, 92364, 866917, 79446, 386267, 145089, 560908, 33654, 645476, 681530, 831831, 903437, 594553, 944572, 797120, 28703, 505923, 64551, 411339, 914921, 699971, 280403, 861903, 676184, 613125, 892606, 169665, 893200, 637361, 129131, 114078, 20634, 79338, 631955, 417213, 47609, 556678, 757871, 802616, 184864, 939109, 357468, 148262, 773344, 219829, 227284, 922509, 436828, 145575, 805765, 412757, 977484, 286376, 392405, 607315, 706773, 315869, 656406, 81971, 97595, 370317, 877226, 609809, 897340, 309295, 626735, 70733, 653335, 512941, 386390, 872486, 326795, 880365, 413261, 460606, 436712, 956773, 593511, 252525, 223098, 914004, 686751, 685707, 386106, 11713, 112240, 675461, 238574, 176574, 535319, 749522, 208927, 619013, 354384, 673400, 679676, 725772, 347842, 606190, 331763, 359191, 684668, 59360, 684768, 215154, 977851, 362107, 474331, 133836, 442495, 308991, 356792, 732750, 832552, 116055, 757917, 681916, 623240, 292927, 463408, 321081, 362458, 370802, 898449, 344080, 10012, 708798, 878049, 765104, 709579, 888218, 944914, 703924, 989935, 149059, 605725, 276226, 79816, 858244, 777897, 295809, 187717, 578022, 195413, 16170, 200670, 381569, 748122, 485433, 789443, 27379, 382314, 343714, 522332, 863048, 967772, 768419, 964555, 896850, 489677, 291563, 288799, 66146, 666073, 887974, 11370, 281652, 399794, 534101, 725647, 778465, 979448, 157474, 971738, 735510, 855767, 876198, 692655, 135368, 151745, 696108, 107607, 389773, 576497, 49510, 101936, 364743, 730793, 948334, 837029, 56474, 46957, 190157, 820236, 904160, 29563, 715276, 162392, 66316, 890346, 172691, 479728, 687421, 847427, 530046, 109443, 369973, 652252, 416017, 524947, 351393, 173634, 293775, 690267, 375941, 186379, 189515, 511540, 599239, 553070, 592120, 588423, 650704, 223005, 696151, 400258, 220277, 747818, 842780, 187498, 518339, 556863, 140387, 166146, 505748, 215298, 662540, 914036, 236415, 898860, 672277, 300182, 769026, 631386, 944990, 392242, 642691, 688311, 174866, 86548, 640841, 979709, 141056, 891969, 588166, 264429, 428874, 529059, 958965, 93128, 729958, 331250, 956723, 191527, 523690, 495226, 874712, 406821, 463505, 728572, 607923, 21334, 992466, 812075, 624687, 589967, 53199, 772200, 911188, 42479, 928704, 824074, 264886, 245020, 171550, 150483, 230922, 622815, 636602, 440030, 774162, 736306, 947374, 65811, 948332, 396775, 751177, 303396, 961399, 312281, 789414, 406462, 626232, 975101, 843071, 82444, 793304, 354674, 931078, 728972, 71337, 620696, 231400, 516578, 893824, 727279, 884541, 842345, 589193, 335573, 622327, 787158, 438190, 98007, 894878, 99369, 72923, 213327, 692308, 284787, 113115, 117480, 253485, 31946, 759461, 2672, 305970, 957382, 676866, 277072, 402784, 559175, 85240, 704823, 236757, 976712, 316323, 299948, 435257, 909639, 271374, 351642, 493115, 13669, 182271, 21425, 183305, 231883, 772842, 335130, 613421, 482287, 680925, 564315, 867787, 352901, 40797, 843111, 771083, 285916, 712286, 138778, 237983, 977330, 11688, 342107, 94223, 468577, 113255, 274799, 247776, 587518, 431470, 867244, 906512, 736601, 6252, 930345, 750386, 55629, 245647, 70670, 993112, 48392, 687803, 207770, 382028, 590290, 103022, 533088, 897197, 26905, 655344, 284850, 744122, 639229, 727013, 599516, 753501, 666093, 212573, 940279, 487286, 330636, 898880, 94410, 239773, 583200, 501185, 137942, 713544, 214810, 485660, 765179, 87019, 288219, 81974, 362150, 673080, 314142, 756843, 753389, 951618, 812368, 909232, 40695, 157602, 727411, 906060, 272866, 893765, 223828, 827873, 691790, 506170, 796859, 898464, 545309, 291240, 836528, 688620, 457574, 934434, 811402, 102423, 237257, 377653, 862122, 57712, 494932, 6037, 775706, 707162, 422795, 720072, 737638, 256572, 921974, 345238, 248452, 105292, 399946, 438171, 457165, 993724, 201183, 914377, 990809, 446184, 539592, 642412, 531903, 776572, 500389, 154351, 112106, 802819, 26722, 851720, 464973, 669209, 145778, 178660, 255554, 389599, 717086, 938831, 176853, 359516, 591943, 445032, 341904, 950907, 190728, 493866, 288554, 246733, 730103, 110067, 574044, 884366, 671621, 845732, 901760, 716448, 958983, 927121, 4248, 46865, 446349, 29117, 517378, 275278, 545439, 126153, 239925, 638740, 470841, 370340, 52036, 787021, 231383, 971016, 428005, 405683, 494853, 992451, 181126, 37206, 351562, 347128, 327040, 170115, 881006, 200527, 124561, 889927, 420291, 922660, 514642, 315292, 861227, 679703, 581718, 8039, 177674, 365856, 845060, 44506, 736356, 644951, 358592, 811937, 825704, 657678, 203088, 162520, 285260, 137648, 830314, 196127, 680930, 463526, 670451, 757924, 952993, 204993, 908543, 849930, 348377, 997410, 528533, 198830, 856423, 250512, 488537, 614909, 568675, 105212, 212851, 379338, 877406, 496276, 925131, 749183, 475560, 510787, 355585, 713282, 496288, 627404, 368997, 337800, 771463, 243364, 47102, 273877, 578006, 355065, 214185, 444337, 345436, 78790, 874138, 857771, 240712, 58709, 219278, 379048, 308957, 668817, 191984, 211704, 933451, 368607, 540778, 855755, 233719, 629745, 205497, 526567, 603734, 323213, 120513, 22318, 980961, 642075, 60829, 775604, 5626, 697459, 312206, 614094, 481664, 464148, 454794, 578779, 727242, 656904, 828173, 252057, 395718, 244592, 941836, 549696, 745835, 965344, 772725, 8783, 835962, 857035, 636081, 216334, 366296, 687713, 820100, 505211, 210025, 608938, 677282, 8387, 695861, 664634, 558574, 888192, 54545, 210032, 831793, 310170, 137638, 884507, 675564, 403202, 996043, 418942, 439395, 374684, 563847, 848738, 364855, 90079, 315002, 338354, 460618, 60319, 50842, 226100, 129972, 91749, 987797, 371937, 79859, 172270, 890458, 847594, 372805, 159645, 382796, 520077, 646607, 291967, 365072, 638362, 392227, 447436, 956993, 756185, 469155, 745943, 538218, 600798, 694276, 172546, 22264, 134775, 58113, 125015, 389070]\n"
     ]
    }
   ],
   "source": [
    "l=[]\n",
    "for i in range(10000):\n",
    "    l.append((random.randint(1,1000000)))\n",
    "print(l)"
   ],
   "metadata": {
    "collapsed": false,
    "pycharm": {
     "name": "#%%\n"
    }
   }
  },
  {
   "cell_type": "code",
   "execution_count": 18,
   "outputs": [
    {
     "name": "stdout",
     "output_type": "stream",
     "text": [
      "avijit\n"
     ]
    }
   ],
   "source": [
    "print('avijit')"
   ],
   "metadata": {
    "collapsed": false,
    "pycharm": {
     "name": "#%%\n"
    }
   }
  },
  {
   "cell_type": "code",
   "execution_count": 20,
   "outputs": [
    {
     "data": {
      "text/plain": "10000"
     },
     "execution_count": 20,
     "metadata": {},
     "output_type": "execute_result"
    }
   ],
   "source": [
    "len(l)"
   ],
   "metadata": {
    "collapsed": false,
    "pycharm": {
     "name": "#%%\n"
    }
   }
  },
  {
   "cell_type": "code",
   "execution_count": 21,
   "outputs": [],
   "source": [
    "l.sort()"
   ],
   "metadata": {
    "collapsed": false,
    "pycharm": {
     "name": "#%%\n"
    }
   }
  },
  {
   "cell_type": "code",
   "execution_count": 22,
   "outputs": [
    {
     "name": "stdout",
     "output_type": "stream",
     "text": [
      "[40, 78, 156, 190, 214, 249, 256, 285, 288, 453, 536, 792, 832, 1025, 1089, 1096, 1149, 1483, 1990, 2204, 2239, 2285, 2299, 2313, 2419, 2463, 2495, 2633, 2672, 2699, 2796, 2980, 3025, 3047, 3168, 3172, 3255, 3307, 3362, 3395, 3566, 3601, 3638, 3808, 3884, 4041, 4155, 4187, 4216, 4248, 4447, 4505, 4599, 4609, 4827, 4917, 4951, 5096, 5128, 5285, 5356, 5456, 5496, 5615, 5626, 5715, 5941, 5963, 5971, 6037, 6105, 6105, 6122, 6252, 6325, 6501, 6646, 6725, 6787, 6893, 6895, 6969, 6982, 7131, 7156, 7292, 7297, 7396, 7401, 7492, 7848, 7935, 7964, 8039, 8170, 8211, 8256, 8387, 8439, 8465, 8494, 8783, 8925, 9114, 9243, 9251, 9486, 9539, 9555, 9786, 9802, 9897, 9907, 10012, 10030, 10366, 10418, 10643, 10768, 10794, 11010, 11135, 11222, 11362, 11370, 11404, 11407, 11501, 11620, 11621, 11688, 11713, 11760, 12001, 12122, 12189, 12421, 12441, 12525, 12633, 12765, 12983, 13041, 13207, 13245, 13290, 13314, 13454, 13618, 13669, 13788, 13803, 13890, 13995, 14201, 14630, 14723, 14820, 14988, 15068, 15093, 15161, 15197, 15404, 15474, 15552, 15591, 15632, 15737, 15834, 15937, 15993, 16083, 16170, 16735, 16752, 16846, 16902, 17023, 17225, 17334, 17492, 17494, 17565, 17567, 17643, 17730, 17791, 18114, 18586, 19091, 19115, 19403, 19817, 19921, 19991, 20034, 20151, 20415, 20429, 20439, 20556, 20634, 20686, 20704, 20747, 20789, 20863, 20904, 20942, 21175, 21247, 21326, 21334, 21362, 21425, 21571, 21947, 22162, 22261, 22264, 22278, 22318, 22421, 22987, 23058, 23169, 23209, 23337, 23411, 23555, 23646, 23649, 23848, 23863, 23876, 23896, 23999, 24073, 24134, 24148, 24197, 24274, 24309, 24311, 24530, 24548, 24604, 24669, 24773, 24813, 24890, 24908, 24948, 24952, 25116, 25164, 25255, 25381, 25416, 25436, 25918, 25962, 26296, 26383, 26394, 26692, 26714, 26722, 26822, 26845, 26905, 26936, 26956, 27170, 27197, 27279, 27379, 27487, 27489, 27642, 27650, 27663, 27949, 28069, 28402, 28703, 28903, 28952, 29117, 29505, 29557, 29563, 29704, 29759, 29901, 29927, 30428, 30512, 30516, 30587, 30728, 30761, 30860, 30928, 30935, 30962, 31336, 31364, 31540, 31761, 31946, 31980, 32012, 32136, 32426, 32738, 33016, 33114, 33287, 33533, 33654, 33746, 33944, 34004, 34271, 34282, 34310, 34326, 34466, 34479, 34768, 34989, 35029, 35032, 35130, 35149, 35155, 35171, 35221, 35235, 35492, 35538, 35784, 35875, 35946, 35952, 36189, 36197, 36414, 36472, 36652, 36655, 36688, 36779, 37084, 37206, 37319, 37359, 37385, 37548, 37584, 37672, 37825, 37874, 37881, 37913, 37936, 38013, 38070, 38093, 38117, 38167, 38250, 38525, 38556, 38662, 38834, 38879, 38896, 39035, 39056, 39240, 39368, 39497, 39684, 39691, 39747, 39832, 39916, 40127, 40184, 40196, 40379, 40401, 40695, 40797, 40889, 40924, 40936, 40997, 41232, 41288, 41315, 41466, 41547, 41840, 42078, 42145, 42448, 42479, 42518, 42540, 42568, 42700, 42848, 42967, 43050, 43126, 43145, 43203, 43204, 43273, 43281, 43310, 43326, 43333, 43447, 43749, 43891, 43996, 44162, 44175, 44323, 44440, 44484, 44506, 44611, 44922, 44949, 45356, 45362, 45427, 45655, 45810, 45836, 46013, 46080, 46340, 46367, 46656, 46755, 46865, 46957, 47021, 47102, 47131, 47143, 47170, 47263, 47430, 47511, 47609, 47738, 48057, 48099, 48285, 48333, 48392, 48405, 48423, 48477, 48479, 48522, 48579, 48651, 48677, 48847, 48916, 49039, 49067, 49158, 49204, 49273, 49438, 49445, 49510, 49835, 50014, 50116, 50279, 50406, 50476, 50590, 50780, 50799, 50842, 50885, 50989, 51050, 51156, 51299, 51305, 51309, 51403, 51456, 51542, 51821, 51932, 52036, 52091, 52113, 52118, 52151, 52467, 52648, 52671, 52991, 53199, 53351, 53801, 53844, 54029, 54380, 54423, 54464, 54484, 54509, 54545, 54617, 54640, 54800, 54804, 54807, 54810, 54877, 54911, 54977, 55298, 55311, 55382, 55403, 55468, 55501, 55562, 55629, 55738, 55956, 56009, 56158, 56214, 56275, 56290, 56324, 56474, 56748, 56869, 57015, 57211, 57672, 57712, 57802, 57827, 57858, 57888, 57911, 57977, 58076, 58113, 58273, 58311, 58320, 58352, 58430, 58484, 58709, 58736, 58855, 58910, 59097, 59145, 59211, 59337, 59360, 59378, 59504, 59544, 59841, 59854, 59954, 60058, 60129, 60319, 60395, 60459, 60493, 60533, 60667, 60683, 60693, 60764, 60829, 61007, 61050, 61074, 61119, 61144, 61374, 61413, 61454, 61808, 61965, 62112, 62163, 62341, 62582, 62604, 62620, 62629, 62659, 62719, 62825, 62864, 62905, 63078, 63223, 63517, 63759, 64001, 64242, 64352, 64402, 64459, 64551, 64666, 65031, 65058, 65065, 65147, 65320, 65368, 65430, 65482, 65535, 65565, 65573, 65578, 65614, 65802, 65811, 65890, 65952, 66011, 66118, 66146, 66262, 66299, 66316, 66322, 66328, 66949, 67002, 67122, 67251, 67308, 67469, 67924, 68193, 68599, 68699, 69022, 69025, 69127, 69164, 69242, 69376, 69384, 69423, 69440, 69630, 69653, 69674, 69762, 69822, 70001, 70067, 70089, 70115, 70129, 70276, 70331, 70399, 70447, 70653, 70670, 70716, 70733, 70926, 71126, 71141, 71275, 71287, 71337, 71416, 71535, 71553, 71573, 71686, 72430, 72573, 72869, 72904, 72923, 73021, 73226, 73469, 73716, 73831, 73841, 73846, 73931, 74037, 74045, 74126, 74320, 74420, 74440, 74572, 74629, 74801, 74827, 74877, 74975, 74986, 75053, 75134, 75197, 75331, 75950, 75991, 76224, 76288, 76396, 76431, 76607, 76691, 76713, 76985, 77049, 77085, 77268, 77451, 77808, 77903, 77928, 78012, 78145, 78179, 78311, 78447, 78564, 78761, 78790, 78801, 79078, 79248, 79270, 79282, 79338, 79446, 79488, 79509, 79571, 79584, 79816, 79859, 79946, 80030, 80061, 80101, 80123, 80125, 80264, 80270, 80292, 80428, 80448, 80614, 80778, 80815, 80821, 80886, 80899, 81049, 81135, 81380, 81604, 81610, 81842, 81933, 81946, 81971, 81974, 82049, 82354, 82444, 82576, 82616, 82653, 82679, 82730, 82812, 83066, 83207, 83603, 83665, 83876, 83921, 84035, 84145, 84295, 84523, 84542, 84576, 84744, 84812, 84861, 84864, 84925, 85014, 85058, 85167, 85240, 85314, 85483, 85488, 85668, 85901, 85956, 85979, 86063, 86209, 86238, 86339, 86413, 86521, 86548, 86599, 86660, 86736, 86782, 87019, 87247, 87385, 87396, 87438, 87476, 87682, 87831, 87858, 87867, 88244, 88306, 88443, 88589, 88617, 89056, 89067, 89172, 89512, 89723, 90075, 90079, 90207, 90254, 90424, 90507, 90602, 90663, 90669, 90975, 91213, 91244, 91360, 91549, 91665, 91749, 91756, 91832, 91860, 92083, 92090, 92207, 92364, 92468, 92567, 92593, 92657, 92694, 92773, 92806, 92844, 92848, 92856, 92884, 92929, 93005, 93052, 93128, 93264, 93294, 93368, 93391, 93512, 93602, 93656, 93674, 93691, 93763, 93798, 94044, 94062, 94204, 94223, 94399, 94410, 94444, 94570, 94607, 94709, 94746, 94771, 94786, 94956, 95148, 95188, 95208, 95337, 95422, 95439, 95511, 95544, 95549, 95579, 95795, 95798, 95891, 95904, 96003, 96131, 96157, 96262, 96312, 96598, 96626, 96728, 96898, 97030, 97048, 97150, 97161, 97252, 97257, 97378, 97446, 97538, 97595, 97605, 97989, 98007, 98058, 98146, 98188, 98206, 98219, 98293, 98310, 98311, 98339, 98376, 98420, 98593, 99055, 99323, 99343, 99369, 99406, 99695, 99821, 100014, 100172, 100289, 100341, 100463, 100512, 100533, 100629, 100645, 100690, 100842, 100985, 101244, 101328, 101480, 101564, 101658, 101719, 101769, 101787, 101936, 101992, 102083, 102134, 102188, 102269, 102280, 102313, 102319, 102371, 102404, 102423, 102558, 102633, 102817, 102828, 102946, 103004, 103022, 103119, 103153, 103172, 103234, 103419, 103645, 103796, 104110, 104465, 104574, 104578, 104658, 104881, 104971, 104972, 104994, 105115, 105128, 105212, 105292, 105348, 105629, 105809, 105844, 106056, 106219, 106220, 106287, 106434, 106481, 106527, 106768, 106877, 106913, 106977, 107018, 107044, 107080, 107338, 107607, 107747, 108121, 108173, 108256, 108275, 108345, 108484, 108584, 108589, 108763, 108788, 109082, 109103, 109108, 109133, 109151, 109305, 109443, 109473, 109564, 109566, 109636, 109695, 109730, 110023, 110067, 110172, 110346, 110409, 110632, 110713, 110734, 110871, 110981, 111103, 111176, 111330, 111335, 111414, 111652, 111679, 111694, 111732, 111858, 112106, 112240, 112297, 112377, 112558, 112593, 112608, 112659, 112756, 112781, 113115, 113158, 113249, 113255, 113475, 113641, 113679, 114078, 114088, 114170, 114176, 114263, 114288, 114311, 114337, 114468, 114524, 114529, 114591, 114659, 114666, 114670, 114716, 114826, 114880, 115031, 115069, 115069, 115189, 115359, 115458, 115640, 115665, 115813, 115863, 116003, 116055, 116137, 116159, 116241, 116348, 116359, 116469, 116518, 116596, 116609, 116755, 116790, 116969, 117097, 117385, 117390, 117398, 117402, 117480, 117642, 117706, 117710, 117716, 117754, 117819, 117820, 117898, 117973, 117984, 118084, 118252, 118299, 118457, 118459, 118491, 118629, 118847, 118872, 118987, 119010, 119108, 119231, 119408, 119450, 119603, 119983, 120101, 120410, 120445, 120513, 120533, 120615, 120615, 120666, 120689, 120826, 120884, 120968, 120972, 121112, 121144, 121163, 121180, 121182, 121243, 121265, 121357, 121371, 121386, 121410, 121503, 121766, 121878, 122390, 122424, 122436, 122484, 122757, 122905, 122996, 123186, 123302, 123332, 123339, 123344, 123431, 123652, 123656, 123739, 123790, 123991, 124009, 124035, 124147, 124280, 124283, 124308, 124436, 124450, 124476, 124493, 124561, 124724, 124741, 124814, 124925, 124934, 125015, 125121, 125306, 125376, 125443, 125530, 125800, 125834, 125989, 125994, 126064, 126153, 126317, 126442, 126690, 126720, 126736, 126774, 126871, 127008, 127078, 127352, 127387, 127418, 127692, 127729, 128011, 128053, 128092, 128116, 128306, 128459, 128576, 128585, 128695, 128739, 128829, 128923, 128955, 128961, 128993, 129076, 129131, 129141, 129244, 129483, 129605, 129661, 129872, 129938, 129972, 130059, 130266, 130349, 130575, 130843, 130872, 130890, 131245, 131389, 131541, 131566, 131650, 131760, 131814, 131843, 131844, 131857, 131979, 131986, 132031, 132178, 132459, 132660, 132832, 132933, 132936, 133070, 133148, 133167, 133170, 133198, 133257, 133419, 133435, 133681, 133748, 133790, 133836, 133986, 134044, 134151, 134288, 134369, 134398, 134399, 134626, 134665, 134713, 134724, 134775, 134891, 135062, 135107, 135139, 135141, 135197, 135254, 135319, 135339, 135368, 135434, 135470, 135482, 135515, 135658, 136059, 136099, 136169, 136222, 136255, 136401, 136620, 136700, 136700, 136709, 136861, 136912, 136945, 137185, 137266, 137272, 137351, 137491, 137638, 137648, 137724, 137751, 137759, 137942, 138140, 138367, 138431, 138537, 138710, 138726, 138778, 138837, 138853, 138913, 139048, 139049, 139053, 139145, 139249, 139284, 139348, 139492, 139659, 139681, 139726, 139770, 140127, 140275, 140343, 140387, 140444, 140698, 140955, 141047, 141056, 141257, 141345, 141415, 141705, 141737, 141839, 141994, 142017, 142036, 142102, 142258, 142386, 142394, 142406, 142471, 142509, 142524, 142544, 142682, 142712, 142742, 142772, 142808, 142825, 142932, 143087, 143093, 143113, 143427, 143528, 143616, 143653, 143769, 143790, 143799, 143920, 144104, 144142, 144149, 144161, 144183, 144189, 144190, 144393, 144485, 144570, 144778, 144822, 144857, 145089, 145116, 145575, 145592, 145606, 145758, 145759, 145772, 145778, 145816, 145923, 145988, 145989, 146106, 146118, 146136, 146253, 146301, 146334, 146575, 146624, 146662, 147457, 147476, 147491, 147761, 147927, 147984, 148072, 148091, 148188, 148228, 148262, 148556, 148694, 148938, 149059, 149196, 149246, 149310, 149353, 149487, 149840, 149841, 150022, 150289, 150308, 150406, 150483, 150517, 150551, 150663, 150844, 150855, 150857, 150914, 150949, 150950, 151034, 151137, 151414, 151487, 151638, 151643, 151744, 151745, 152017, 152034, 152130, 152485, 152553, 152644, 152810, 153120, 153324, 153337, 153924, 154001, 154201, 154225, 154313, 154351, 154561, 154567, 154587, 154630, 154681, 154799, 154977, 155003, 155074, 155104, 155156, 155274, 155278, 155358, 155577, 155742, 155840, 155898, 156024, 156134, 156156, 156381, 156421, 156474, 156533, 156545, 156547, 156584, 156658, 156750, 156920, 157017, 157029, 157078, 157088, 157232, 157234, 157453, 157474, 157489, 157602, 157621, 157691, 157912, 157947, 158348, 158350, 158520, 158568, 158763, 158766, 158889, 158959, 159063, 159153, 159162, 159198, 159612, 159645, 159772, 159797, 159849, 160168, 160265, 160272, 160316, 160467, 160694, 160815, 160851, 160935, 161121, 161205, 161332, 161409, 161821, 162023, 162052, 162102, 162150, 162331, 162392, 162405, 162520, 162819, 163057, 163180, 163324, 163460, 163489, 163651, 163804, 163916, 163998, 164089, 164116, 164188, 164491, 164551, 164555, 164654, 164865, 164937, 164962, 164987, 164989, 164995, 165129, 165168, 165188, 165294, 165472, 165656, 165706, 165974, 165981, 166073, 166135, 166146, 166161, 166273, 166405, 166579, 166591, 166743, 167157, 167211, 167520, 167555, 167715, 167776, 167883, 167948, 167961, 168034, 168083, 168230, 168243, 168267, 168284, 168368, 168732, 168737, 168809, 168819, 168831, 169061, 169216, 169305, 169340, 169496, 169665, 169666, 169750, 169994, 170082, 170115, 170129, 170221, 170267, 170286, 170528, 170660, 170943, 171043, 171057, 171191, 171253, 171324, 171333, 171486, 171550, 171827, 171833, 171871, 171975, 172082, 172098, 172131, 172270, 172326, 172546, 172691, 173158, 173494, 173633, 173634, 173752, 173822, 173962, 174081, 174161, 174366, 174457, 174544, 174685, 174755, 174866, 174962, 174974, 175110, 175151, 175239, 175289, 175353, 175447, 175579, 175606, 175629, 176105, 176150, 176235, 176351, 176383, 176442, 176468, 176528, 176535, 176574, 176586, 176767, 176847, 176848, 176853, 176896, 176903, 176918, 176960, 177116, 177201, 177230, 177306, 177401, 177548, 177648, 177674, 177718, 177821, 177952, 178138, 178198, 178221, 178270, 178473, 178501, 178660, 178682, 179039, 179269, 179309, 179523, 179558, 179647, 180036, 180159, 180462, 180503, 180522, 180570, 180758, 180781, 180800, 180979, 181126, 181173, 181197, 181202, 181271, 181288, 181288, 181479, 181734, 181793, 181831, 181927, 182011, 182057, 182271, 182287, 182368, 182371, 182380, 182453, 182642, 182720, 182756, 182847, 183019, 183213, 183251, 183305, 183420, 183599, 183614, 183745, 183750, 183825, 183841, 183889, 183916, 184062, 184069, 184083, 184202, 184203, 184440, 184520, 184522, 184536, 184626, 184864, 184864, 184973, 185137, 185164, 185241, 185336, 185423, 185822, 185915, 186015, 186047, 186127, 186204, 186243, 186379, 186416, 186498, 186619, 186703, 186988, 186995, 187006, 187017, 187019, 187105, 187137, 187416, 187449, 187498, 187573, 187676, 187717, 187776, 187957, 188345, 188351, 188554, 188567, 188926, 188937, 188997, 189026, 189076, 189194, 189246, 189361, 189375, 189424, 189471, 189515, 189644, 189706, 189739, 189948, 189952, 190157, 190232, 190345, 190605, 190704, 190728, 190814, 190848, 190896, 190911, 190930, 190939, 190997, 191002, 191035, 191042, 191122, 191177, 191527, 191557, 191622, 191857, 191984, 192006, 192147, 192165, 192270, 192410, 192466, 192721, 192863, 193034, 193061, 193330, 193338, 193370, 193405, 193444, 193480, 193561, 193719, 193857, 194110, 194360, 194484, 194649, 194759, 195017, 195061, 195068, 195227, 195259, 195328, 195413, 195521, 195532, 195686, 195747, 195981, 196019, 196126, 196127, 196191, 196267, 196346, 196443, 196475, 196488, 196576, 196758, 197053, 197097, 197193, 197232, 197248, 197267, 197437, 197580, 197897, 197927, 198005, 198245, 198263, 198268, 198270, 198508, 198579, 198602, 198687, 198776, 198779, 198802, 198830, 199148, 199203, 199281, 199327, 199374, 199394, 199419, 199527, 199566, 199604, 199611, 199613, 199627, 199692, 199736, 199752, 199861, 199931, 200006, 200346, 200374, 200455, 200527, 200580, 200582, 200670, 200715, 200734, 200848, 200902, 201103, 201135, 201183, 201205, 201663, 201787, 201794, 201810, 201815, 202040, 202156, 202186, 202196, 202227, 202236, 202268, 202436, 202565, 202585, 202725, 202741, 202776, 203088, 203335, 203335, 203412, 203520, 203545, 203550, 203686, 203725, 203871, 203973, 203996, 204072, 204125, 204144, 204451, 204707, 204775, 204801, 204993, 205004, 205173, 205333, 205348, 205349, 205497, 205612, 205629, 205802, 206113, 206154, 206203, 206230, 206375, 206592, 206611, 206613, 206790, 206859, 207126, 207174, 207186, 207191, 207770, 207920, 208003, 208006, 208169, 208183, 208225, 208322, 208362, 208454, 208526, 208544, 208705, 208769, 208788, 208894, 208927, 209045, 209046, 209195, 209434, 209662, 209922, 210000, 210000, 210025, 210032, 210109, 210276, 210377, 210476, 210522, 210622, 210907, 211062, 211166, 211250, 211266, 211381, 211399, 211511, 211632, 211704, 211705, 211775, 211780, 212091, 212117, 212223, 212264, 212288, 212459, 212573, 212851, 212896, 212938, 213145, 213204, 213212, 213272, 213327, 213494, 213535, 213542, 213682, 213683, 213744, 213813, 214033, 214106, 214185, 214280, 214373, 214576, 214765, 214810, 214837, 214857, 214996, 215056, 215068, 215154, 215216, 215259, 215298, 215300, 215303, 215764, 215764, 216006, 216051, 216334, 216393, 216459, 216488, 216502, 216509, 216534, 216562, 216772, 216813, 216854, 216921, 217036, 217466, 217532, 217579, 217736, 217814, 217858, 217898, 217953, 218051, 218115, 218212, 218253, 218363, 218416, 218538, 218626, 218673, 218759, 218923, 218971, 219074, 219194, 219278, 219416, 219702, 219829, 219900, 220050, 220051, 220067, 220167, 220176, 220179, 220277, 220353, 220436, 220464, 220513, 220517, 220517, 220596, 220602, 220605, 220613, 220798, 221021, 221059, 221251, 221296, 221444, 221452, 221478, 221540, 221596, 221694, 221718, 221798, 222163, 222439, 222461, 222635, 222876, 222980, 223005, 223038, 223098, 223227, 223322, 223381, 223436, 223497, 223551, 223573, 223698, 223815, 223828, 223832, 223953, 224147, 224165, 224185, 224270, 224288, 224302, 224365, 224519, 224521, 224824, 224920, 225090, 225159, 225233, 225406, 225417, 225434, 225748, 225757, 225856, 225940, 225963, 226013, 226100, 226115, 226265, 226322, 226346, 226433, 226471, 226485, 226498, 226647, 226663, 226763, 226824, 227013, 227040, 227150, 227232, 227284, 227314, 227598, 227717, 227810, 227964, 228030, 228060, 228171, 228254, 228285, 228320, 228332, 228388, 228466, 228708, 228868, 228871, 228983, 229130, 229268, 229290, 229334, 229399, 229410, 229470, 229532, 229634, 229674, 229689, 229702, 229883, 230094, 230141, 230159, 230221, 230276, 230326, 230411, 230465, 230515, 230559, 230723, 230922, 230933, 231173, 231257, 231383, 231400, 231551, 231579, 231720, 231883, 231933, 231942, 232092, 232147, 232200, 232212, 232497, 232634, 232837, 232858, 233085, 233099, 233104, 233435, 233459, 233519, 233639, 233646, 233673, 233719, 233758, 233927, 234017, 234064, 234161, 234190, 234202, 234233, 234251, 234283, 234332, 234450, 234571, 234693, 234825, 234950, 234988, 235018, 235200, 235432, 235439, 235516, 235597, 235623, 235724, 235791, 236339, 236385, 236415, 236424, 236557, 236564, 236574, 236649, 236716, 236757, 236826, 236974, 237013, 237042, 237067, 237073, 237081, 237123, 237144, 237257, 237344, 237436, 237441, 237455, 237880, 237983, 238075, 238140, 238323, 238335, 238360, 238416, 238454, 238567, 238574, 238656, 238737, 238749, 238818, 238839, 238933, 238995, 239004, 239005, 239008, 239255, 239261, 239439, 239467, 239501, 239531, 239746, 239773, 239822, 239855, 239857, 239900, 239925, 240349, 240404, 240433, 240467, 240558, 240598, 240712, 240725, 240739, 240783, 240869, 240969, 241006, 241110, 241560, 241583, 241607, 241617, 241621, 241716, 241755, 241835, 242007, 242360, 242475, 242488, 242647, 242778, 242940, 243244, 243248, 243269, 243335, 243342, 243364, 243468, 243529, 243716, 243750, 243946, 244036, 244212, 244333, 244592, 244622, 244659, 244664, 244710, 244825, 244923, 244946, 245020, 245038, 245043, 245092, 245297, 245397, 245463, 245597, 245647, 245694, 245824, 246061, 246228, 246323, 246639, 246733, 246942, 247019, 247198, 247332, 247408, 247513, 247542, 247776, 247860, 248085, 248101, 248158, 248183, 248339, 248355, 248452, 248537, 248556, 248733, 248873, 248888, 248960, 248998, 249036, 249079, 249342, 249433, 249434, 249472, 249571, 249799, 249827, 249836, 249941, 249986, 249989, 250119, 250279, 250283, 250342, 250396, 250512, 250518, 250569, 250813, 250830, 250920, 251027, 251054, 251143, 251346, 251669, 251710, 251760, 251771, 251820, 251904, 251913, 252026, 252057, 252328, 252477, 252525, 252581, 252635, 252679, 252691, 252786, 252788, 253183, 253254, 253353, 253461, 253485, 253712, 253736, 253967, 253989, 254150, 254363, 254418, 254456, 254530, 254594, 254646, 254839, 254904, 254931, 255002, 255008, 255027, 255040, 255264, 255409, 255536, 255554, 255953, 256018, 256076, 256122, 256122, 256137, 256194, 256343, 256458, 256551, 256572, 256780, 256790, 257154, 257286, 257442, 257556, 257592, 257682, 257788, 258065, 258143, 258183, 258214, 258282, 258404, 258616, 258750, 258784, 258790, 258877, 259161, 259300, 259364, 259366, 259555, 259576, 259609, 259685, 259812, 259818, 259990, 260155, 260364, 260700, 260855, 260921, 261185, 261232, 261566, 261684, 261757, 261850, 261912, 261955, 262266, 262497, 262590, 262792, 263002, 263108, 263523, 263529, 263534, 263644, 263801, 263989, 264036, 264135, 264198, 264226, 264378, 264429, 264439, 264555, 264725, 264864, 264886, 264987, 265249, 265311, 265438, 265588, 265628, 266044, 266218, 266422, 266507, 266629, 266707, 266751, 266851, 266903, 267046, 267113, 267214, 267273, 267521, 267693, 267808, 267889, 268042, 268063, 268068, 268094, 268188, 268310, 268312, 268345, 268658, 268756, 268772, 268902, 269066, 269277, 269279, 269469, 269564, 269629, 269673, 269680, 269757, 269848, 270086, 270116, 270239, 270334, 270461, 270476, 270499, 270518, 270610, 270654, 270753, 270919, 271171, 271203, 271283, 271374, 271469, 271547, 271563, 271581, 271604, 271609, 271649, 271672, 272016, 272117, 272165, 272570, 272613, 272791, 272866, 272956, 273171, 273267, 273354, 273367, 273376, 273408, 273558, 273699, 273791, 273865, 273877, 273974, 274062, 274148, 274164, 274168, 274274, 274298, 274701, 274799, 275114, 275185, 275267, 275278, 275467, 275621, 275653, 275699, 275743, 275830, 275910, 276032, 276147, 276226, 276261, 276311, 276411, 276508, 276537, 276667, 276692, 276705, 276731, 276876, 276973, 277072, 277196, 277254, 277381, 277423, 277493, 277501, 277556, 277625, 277692, 277702, 277748, 277969, 277981, 278023, 278191, 278306, 278368, 278394, 278399, 278432, 278682, 278797, 278882, 278922, 278926, 279027, 279269, 279307, 279450, 279477, 279524, 279675, 279853, 280256, 280313, 280347, 280403, 280444, 280449, 280529, 280578, 280869, 281100, 281265, 281348, 281519, 281572, 281652, 281658, 282052, 282420, 282619, 282827, 282898, 282906, 283312, 283448, 283543, 283635, 283784, 283896, 284240, 284467, 284514, 284682, 284696, 284704, 284787, 284850, 285260, 285823, 285916, 285945, 286376, 286537, 287026, 287134, 287186, 287186, 287217, 287282, 287310, 287313, 287367, 287400, 287529, 287600, 287663, 287728, 287835, 287961, 288023, 288065, 288114, 288139, 288219, 288348, 288468, 288494, 288554, 288601, 288637, 288799, 288811, 288852, 288917, 288922, 289023, 289106, 289272, 289288, 289308, 289325, 289491, 289497, 289509, 289518, 289527, 289719, 289744, 289780, 289803, 289877, 289909, 289938, 289947, 290118, 290349, 290396, 290472, 290552, 290604, 290612, 290783, 290866, 290906, 290944, 290958, 291075, 291179, 291240, 291302, 291302, 291445, 291473, 291563, 291636, 291674, 291683, 291710, 291828, 291908, 291954, 291954, 291967, 292071, 292213, 292266, 292270, 292534, 292778, 292783, 292792, 292806, 292927, 292975, 293201, 293387, 293482, 293510, 293536, 293587, 293624, 293739, 293775, 293831, 294042, 294412, 294416, 294483, 294514, 294758, 294871, 294872, 294888, 295066, 295321, 295343, 295693, 295779, 295803, 295809, 295822, 295857, 295980, 295983, 296180, 296197, 296229, 296234, 296451, 296702, 296813, 296912, 296970, 297006, 297019, 297109, 297109, 297361, 297416, 297488, 297667, 297689, 297696, 297767, 297843, 298089, 298106, 298116, 298249, 298300, 298324, 298351, 298469, 298481, 298490, 298533, 298671, 298680, 298746, 298762, 298767, 298810, 298915, 299012, 299089, 299190, 299282, 299368, 299377, 299602, 299669, 299707, 299747, 299938, 299948, 300083, 300114, 300122, 300151, 300182, 300275, 300666, 300759, 300822, 300924, 301128, 301196, 301205, 301244, 301317, 301325, 301436, 301452, 301481, 301664, 302043, 302375, 302459, 302462, 302568, 302681, 302704, 302833, 302860, 302904, 302904, 303022, 303029, 303171, 303396, 303553, 303636, 303732, 303935, 303983, 304048, 304060, 304131, 304166, 304716, 304742, 304803, 304813, 305005, 305041, 305159, 305180, 305263, 305301, 305403, 305478, 305500, 305513, 305536, 305631, 305710, 305787, 305970, 305974, 306019, 306654, 306832, 306931, 306975, 307352, 307503, 307550, 307704, 307747, 307776, 307790, 308245, 308390, 308474, 308640, 308646, 308678, 308758, 308824, 308873, 308957, 308991, 309216, 309295, 309489, 309951, 309994, 310170, 310171, 310265, 310325, 310354, 310453, 310498, 310792, 310857, 311174, 311342, 311349, 311492, 311520, 311535, 311564, 311589, 311677, 311794, 311915, 311921, 311995, 312064, 312144, 312206, 312281, 312314, 312420, 312474, 312712, 312830, 313018, 313166, 313180, 313188, 313325, 313490, 313701, 313702, 313731, 314000, 314070, 314106, 314142, 314577, 314632, 314660, 314796, 314946, 315002, 315034, 315060, 315085, 315095, 315292, 315352, 315481, 315813, 315869, 315891, 315970, 316106, 316323, 316417, 316597, 316733, 316773, 316858, 316936, 316975, 317142, 317157, 317239, 317257, 317275, 317342, 317361, 317432, 317464, 317601, 317629, 317813, 317869, 317970, 318016, 318059, 318111, 318145, 318220, 318357, 318435, 318565, 318701, 318965, 318988, 318990, 319128, 319360, 319512, 319601, 319612, 319707, 319719, 320183, 320260, 320275, 320311, 320529, 320702, 321039, 321081, 321538, 321748, 321770, 321805, 321863, 321899, 321962, 322087, 322198, 322394, 322508, 322739, 322788, 322999, 323137, 323213, 323236, 323318, 323395, 323446, 323616, 323679, 323684, 323772, 324020, 324052, 324248, 324357, 324442, 324554, 324708, 324888, 325218, 325387, 325570, 325607, 325608, 325784, 325999, 326080, 326092, 326186, 326216, 326223, 326795, 326853, 327040, 327074, 327128, 327276, 327314, 327385, 327631, 327805, 327837, 327871, 328097, 328098, 328111, 328198, 328232, 328337, 328500, 328886, 328910, 329292, 329309, 329374, 329404, 329501, 329510, 329520, 329548, 329557, 329788, 329865, 330048, 330636, 330694, 330702, 330958, 330990, 330992, 330993, 330996, 331028, 331149, 331214, 331250, 331280, 331328, 331345, 331367, 331396, 331612, 331625, 331691, 331703, 331763, 331830, 331881, 331888, 332085, 332131, 332192, 332318, 332359, 332450, 332587, 332805, 332857, 332862, 333070, 333131, 333363, 333434, 333497, 333656, 333715, 333746, 333750, 333861, 333872, 334099, 334305, 334334, 334608, 334695, 335000, 335010, 335054, 335076, 335130, 335159, 335187, 335246, 335253, 335477, 335556, 335560, 335573, 335626, 335797, 335928, 335980, 336049, 336079, 336103, 336289, 336399, 336409, 336433, 336611, 336755, 336763, 336813, 336862, 336895, 336963, 337022, 337030, 337333, 337426, 337457, 337548, 337687, 337800, 337900, 338059, 338075, 338236, 338291, 338306, 338354, 338454, 338607, 338669, 338760, 338822, 338852, 338889, 339079, 339105, 339233, 339238, 339239, 339569, 339595, 339738, 339921, 340044, 340075, 340240, 340356, 340467, 340473, 340594, 340698, 340742, 340802, 340945, 341212, 341295, 341299, 341504, 341634, 341681, 341717, 341730, 341904, 342107, 342252, 342272, 342347, 342400, 342463, 342471, 342574, 342629, 343009, 343149, 343563, 343714, 343825, 343853, 343946, 344032, 344080, 344104, 344157, 344220, 344334, 344419, 344439, 344540, 344616, 344700, 344704, 344754, 344780, 344995, 345024, 345156, 345238, 345310, 345377, 345379, 345436, 345605, 345697, 345756, 345811, 345812, 345832, 345920, 345940, 345969, 346043, 346085, 346196, 346214, 346220, 346224, 346475, 346513, 346613, 346679, 346681, 346801, 346918, 347035, 347059, 347070, 347097, 347128, 347218, 347323, 347333, 347541, 347682, 347842, 347972, 348214, 348365, 348377, 348385, 348408, 348434, 348435, 348587, 348614, 348637, 348647, 348877, 348932, 349031, 349276, 349427, 350167, 350181, 350213, 350223, 350424, 350449, 350646, 351153, 351259, 351393, 351437, 351471, 351562, 351642, 351649, 351693, 351860, 351909, 351945, 352069, 352212, 352398, 352599, 352789, 352850, 352901, 352944, 353113, 353310, 353367, 353439, 353526, 353582, 353759, 353830, 353875, 354018, 354169, 354285, 354324, 354384, 354455, 354497, 354531, 354674, 354802, 354856, 354916, 354950, 354999, 355065, 355139, 355159, 355562, 355585, 355667, 355739, 355764, 355952, 355964, 356065, 356214, 356365, 356560, 356792, 356878, 356887, 357070, 357114, 357163, 357180, 357229, 357238, 357306, 357370, 357401, 357468, 357530, 357683, 357871, 357925, 358278, 358592, 358707, 358801, 359062, 359191, 359241, 359251, 359356, 359356, 359509, 359516, 359550, 359849, 359932, 360024, 360249, 360253, 360315, 360447, 360583, 360650, 360752, 360790, 360790, 360842, 360975, 361294, 361432, 361443, 361472, 361515, 361538, 361633, 361877, 362047, 362107, 362150, 362181, 362259, 362269, 362312, 362331, 362458, 362584, 362707, 362810, 362813, 362966, 363020, 363046, 363074, 363090, 363141, 363167, 363375, 363543, 363774, 363966, 364021, 364058, 364371, 364486, 364510, 364743, 364833, 364855, 364906, 365010, 365033, 365072, 365309, 365323, 365332, 365436, 365504, 365607, 365667, 365731, 365828, 365856, 365910, 366166, 366221, 366255, 366296, 366305, 366370, 366833, 366876, 367201, 367351, 367387, 367447, 367567, 367734, 367852, 367950, 368022, 368023, 368515, 368607, 368644, 368785, 368907, 368908, 368982, 368985, 368997, 369105, 369111, 369528, 369727, 369763, 369888, 369973, 370052, 370081, 370109, 370179, 370187, 370220, 370317, 370340, 370345, 370352, 370377, 370407, 370482, 370521, 370563, 370720, 370788, 370802, 370838, 370844, 371252, 371274, 371293, 371311, 371324, 371353, 371374, 371440, 371937, 372100, 372104, 372270, 372281, 372630, 372770, 372805, 372933, 372939, 373040, 373089, 373118, 373487, 373503, 373703, 374020, 374562, 374588, 374591, 374684, 375058, 375139, 375203, 375267, 375440, 375525, 375649, 375677, 375777, 375887, 375941, 375967, 375972, 375979, 376029, 376135, 376512, 376522, 376550, 376769, 376818, 376892, 376906, 377165, 377210, 377270, 377369, 377430, 377475, 377653, 377653, 377733, 378090, 378244, 378588, 378651, 378686, 378712, 378768, 378864, 379000, 379048, 379210, 379311, 379338, 379360, 379575, 379858, 379902, 380058, 380200, 380238, 380276, 380320, 380583, 380589, 380635, 380693, 381021, 381073, 381160, 381348, 381443, 381466, 381569, 381693, 381726, 381749, 381756, 381892, 381933, 382028, 382045, 382281, 382314, 382424, 382443, 382462, 382618, 382657, 382796, 382823, 382857, 382960, 383128, 383175, 383280, 383293, 383388, 383575, 383624, 383660, 383710, 383723, 383839, 383870, 384121, 384167, 384362, 384495, 384506, 384527, 384889, 385066, 385178, 385293, 385771, 386106, 386122, 386201, 386267, 386318, 386333, 386334, 386390, 386653, 386814, 386816, 386852, 386857, 387120, 387286, 387405, 387435, 387451, 387572, 387974, 388016, 388674, 388730, 388829, 388834, 389059, 389070, 389078, 389382, 389412, 389463, 389563, 389566, 389599, 389662, 389773, 389850, 390025, 390188, 390457, 390469, 390477, 390600, 390661, 390713, 390878, 390928, 390974, 391100, 391209, 391334, 391354, 391500, 391512, 391586, 391599, 391810, 391839, 391876, 391974, 392156, 392227, 392242, 392287, 392405, 392454, 392644, 392668, 392955, 393011, 393023, 393173, 393218, 393275, 393346, 393419, 393662, 394146, 394257, 394477, 394730, 394773, 395353, 395417, 395544, 395545, 395572, 395590, 395675, 395718, 395762, 396263, 396339, 396375, 396477, 396509, 396591, 396756, 396775, 396796, 396806, 396914, 396937, 397067, 397080, 397194, 397240, 397342, 397416, 397543, 397575, 397897, 397975, 398048, 398092, 398207, 398319, 398356, 398864, 398871, 399195, 399403, 399732, 399794, 399946, 400132, 400179, 400258, 400427, 400493, 400535, 400674, 400855, 401062, 401147, 401351, 401405, 401643, 401870, 402145, 402167, 402436, 402452, 402582, 402665, 402759, 402784, 402817, 402944, 403179, 403202, 403248, 403413, 403420, 403444, 403511, 403528, 403570, 403582, 403584, 403645, 403822, 403834, 404248, 404300, 404620, 404682, 404815, 404970, 404973, 405195, 405242, 405404, 405611, 405683, 405802, 405865, 406041, 406256, 406292, 406363, 406462, 406608, 406821, 406979, 407008, 407128, 407134, 407173, 407317, 407367, 407387, 407393, 407483, 407650, 407652, 407665, 408204, 408205, 408251, 408333, 408439, 408908, 409154, 409310, 409310, 409449, 409481, 409537, 409561, 409593, 409620, 409691, 409930, 410021, 410400, 410489, 410515, 410630, 410761, 410853, 411050, 411090, 411339, 411410, 411454, 411548, 411583, 411664, 411714, 411753, 411760, 412040, 412332, 412358, 412366, 412380, 412404, 412504, 412506, 412561, 412700, 412725, 412757, 412900, 412964, 413224, 413261, 413432, 413440, 413575, 413807, 413926, 413969, 413978, 414221, 414501, 414771, 415128, 415244, 415396, 415404, 415406, 415569, 415591, 415594, 416006, 416017, 416213, 416263, 416310, 416340, 416536, 416640, 416894, 416970, 417213, 417247, 417274, 417286, 417296, 417315, 417443, 417465, 417679, 417705, 417772, 417791, 417872, 417986, 418096, 418176, 418218, 418230, 418239, 418253, 418260, 418548, 418718, 418839, 418942, 419139, 419215, 419237, 419313, 419410, 419516, 419960, 420005, 420190, 420217, 420291, 420378, 420512, 420660, 420813, 420829, 421303, 421343, 421393, 421420, 421474, 421675, 421754, 421826, 421923, 421996, 422018, 422029, 422165, 422266, 422337, 422368, 422402, 422423, 422482, 422513, 422516, 422591, 422661, 422795, 422843, 422888, 423100, 423171, 423174, 423287, 423415, 423606, 423752, 423828, 423960, 424342, 424516, 424561, 424722, 424783, 424831, 425095, 425129, 425330, 425372, 425394, 425404, 425709, 425772, 425823, 425835, 426002, 426022, 426206, 426444, 426540, 426810, 426913, 427162, 427221, 427246, 427277, 427414, 427590, 427650, 427691, 427726, 427731, 427791, 427831, 428005, 428019, 428297, 428354, 428357, 428611, 428614, 428720, 428793, 428874, 428875, 428967, 429023, 429025, 429172, 429277, 429442, 429833, 429904, 429912, 429924, 429926, 429962, 430104, 430201, 430231, 430305, 430375, 430459, 430559, 430724, 430865, 430942, 431050, 431121, 431209, 431283, 431470, 431710, 431721, 431773, 431893, 431943, 431966, 431996, 432281, 432390, 432679, 432743, 432957, 433048, 433096, 433114, 433162, 433200, 433406, 433462, 433464, 433652, 433880, 433897, 433966, 434126, 434162, 434290, 434392, 434492, 434887, 434945, 435013, 435103, 435257, 435339, 435471, 435565, 435656, 435743, 435746, 435801, 435910, 436004, 436353, 436375, 436425, 436573, 436593, 436602, 436712, 436728, 436828, 436881, 436902, 437105, 437119, 437138, 437248, 437268, 437305, 437341, 437658, 437694, 438162, 438171, 438190, 438386, 438388, 438531, 438578, 438614, 438777, 438840, 438927, 438989, 438996, 439086, 439356, 439395, 439397, 439421, 439477, 439487, 439524, 439545, 439640, 439768, 439809, 439894, 440030, 440047, 440065, 440076, 440123, 440241, 440303, 440425, 440456, 440515, 440667, 440751, 440793, 440987, 441033, 441084, 441155, 441210, 441289, 441331, 441400, 441452, 441506, 441539, 441547, 441649, 441692, 441723, 441856, 441879, 441988, 442408, 442495, 442699, 442739, 442749, 442845, 443008, 443082, 443147, 443393, 443442, 443474, 443638, 443745, 443826, 443959, 444167, 444181, 444260, 444337, 444444, 444451, 444501, 444556, 444700, 444919, 445032, 445345, 445393, 445432, 445905, 446075, 446092, 446137, 446184, 446349, 446358, 446382, 446505, 446684, 446684, 446998, 447089, 447090, 447115, 447239, 447283, 447343, 447347, 447436, 447448, 447641, 447693, 447743, 447868, 447981, 448554, 448643, 448722, 448736, 448774, 448847, 448848, 448879, 448954, 448958, 449201, 449253, 449776, 449890, 449914, 449948, 449949, 450135, 450143, 450188, 450282, 450458, 450464, 450477, 450514, 450541, 450660, 450713, 450753, 450835, 450837, 450908, 450999, 451027, 451382, 451439, 451491, 451528, 451653, 451678, 451835, 451897, 452070, 452104, 452258, 452266, 452313, 452346, 452489, 452521, 452588, 452710, 452820, 452832, 452867, 452875, 452911, 452925, 452943, 452967, 453165, 453199, 453432, 453484, 453492, 453563, 453776, 453791, 453931, 454023, 454197, 454235, 454294, 454397, 454409, 454536, 454623, 454645, 454794, 454803, 454918, 454934, 455103, 455118, 455170, 455321, 455351, 455436, 455451, 455613, 455819, 455916, 455942, 455946, 456062, 456069, 456188, 456238, 456616, 457063, 457126, 457165, 457375, 457403, 457481, 457518, 457552, 457569, 457574, 457625, 457723, 457739, 458109, 458133, 458162, 458228, 458315, 458373, 458486, 458742, 458845, 458986, 459215, 459216, 459255, 459258, 459452, 459467, 459608, 459683, 460029, 460050, 460073, 460439, 460559, 460606, 460618, 460673, 460859, 460900, 460949, 461249, 461418, 461440, 461500, 461530, 461593, 461617, 461800, 461953, 462093, 462367, 462512, 462540, 462552, 462591, 462713, 462794, 462796, 462809, 462990, 463101, 463297, 463395, 463408, 463465, 463467, 463505, 463526, 463727, 463994, 464148, 464327, 464422, 464488, 464558, 464747, 464854, 464973, 465067, 465089, 465144, 465186, 465380, 465428, 465443, 465507, 465557, 465842, 465890, 465914, 465919, 465968, 466349, 466529, 466538, 466680, 466818, 467245, 467302, 467417, 467682, 467977, 468061, 468245, 468384, 468514, 468544, 468577, 468681, 469116, 469134, 469155, 469203, 469304, 469614, 469673, 469703, 469978, 470407, 470449, 470499, 470517, 470575, 470841, 471079, 471265, 471508, 471630, 471739, 471854, 471942, 472104, 472129, 472131, 472176, 472237, 472267, 472346, 472360, 472499, 472506, 472535, 472646, 472911, 472927, 472970, 473099, 473153, 473169, 473180, 473375, 473491, 473597, 473635, 473641, 473651, 473741, 473840, 474318, 474331, 474335, 474383, 474490, 474716, 475095, 475100, 475171, 475172, 475210, 475388, 475552, 475560, 475918, 476018, 476024, 476121, 476166, 476220, 476237, 476257, 476288, 476473, 476517, 476841, 476916, 477023, 477241, 477494, 478013, 478017, 478195, 478201, 478202, 478380, 478455, 478656, 478854, 478925, 478997, 479083, 479109, 479128, 479153, 479267, 479342, 479386, 479495, 479588, 479728, 479789, 479883, 480054, 480220, 480233, 480431, 481031, 481119, 481292, 481449, 481490, 481514, 481550, 481664, 481681, 481732, 481873, 481980, 481985, 481988, 482023, 482248, 482272, 482287, 482305, 482371, 482578, 482595, 482626, 482757, 482767, 482815, 483164, 483215, 483424, 483687, 483727, 484029, 484078, 484267, 484277, 484385, 484634, 484726, 484828, 484848, 484872, 484919, 484985, 485036, 485083, 485303, 485312, 485321, 485433, 485522, 485578, 485608, 485653, 485660, 485890, 485959, 486044, 486144, 486203, 486205, 486331, 486337, 486367, 487003, 487128, 487241, 487280, 487286, 487410, 487454, 487764, 487793, 487890, 488020, 488031, 488183, 488217, 488239, 488256, 488264, 488372, 488466, 488504, 488537, 488555, 488573, 488610, 488617, 488765, 488809, 488961, 489005, 489043, 489052, 489185, 489365, 489390, 489497, 489550, 489677, 489965, 490004, 490058, 490257, 490265, 490317, 490675, 490676, 490719, 490876, 490906, 490922, 491017, 491320, 491392, 491498, 491960, 492075, 492199, 492235, 492316, 492430, 492489, 492681, 492764, 492887, 492989, 493112, 493115, 493192, 493197, 493379, 493380, 493408, 493558, 493675, 493739, 493852, 493866, 494032, 494038, 494099, 494140, 494325, 494394, 494562, 494811, 494853, 494905, 494924, 494932, 494976, 495022, 495026, 495226, 495350, 495560, 495689, 495908, 496276, 496288, 496445, 496877, 496957, 497003, 497170, 497180, 497321, 497332, 497353, 497490, 497607, 497610, 497700, 497983, 498001, 498233, 498991, 499036, 499170, 499199, 499296, 499342, 499464, 499474, 499591, 499628, 499745, 499968, 500059, 500066, 500171, 500181, 500389, 500413, 500623, 500673, 500694, 500745, 500865, 500914, 500953, 501004, 501034, 501140, 501143, 501164, 501185, 501246, 501266, 501386, 501445, 501498, 501609, 501761, 501976, 502028, 502053, 502275, 502404, 502456, 502473, 502773, 502794, 502801, 503092, 503210, 503238, 503688, 503755, 503829, 503870, 503894, 503954, 503995, 504143, 504484, 504583, 504765, 504998, 505020, 505040, 505072, 505167, 505207, 505211, 505256, 505325, 505357, 505488, 505653, 505664, 505748, 505795, 505916, 505923, 506023, 506102, 506136, 506136, 506170, 506370, 506469, 506519, 506571, 506577, 506656, 506740, 506883, 507081, 507116, 507250, 507275, 507301, 507302, 507359, 507392, 507461, 507599, 507865, 507968, 508041, 508178, 508253, 508389, 508476, 508597, 508622, 508706, 508719, 508855, 509141, 509214, 509449, 509662, 509667, 509707, 509772, 510147, 510160, 510384, 510474, 510528, 510787, 511052, 511102, 511176, 511313, 511374, 511502, 511540, 511561, 511606, 511673, 511754, 511938, 511971, 512020, 512334, 512372, 512500, 512866, 512897, 512941, 513018, 513094, 513169, 513189, 513272, 513335, 513434, 513459, 513771, 513923, 514084, 514260, 514300, 514368, 514374, 514604, 514642, 514669, 514688, 514724, 514726, 514800, 514811, 514818, 514963, 514993, 515173, 515520, 515581, 515595, 515666, 515735, 515777, 515778, 515841, 516178, 516281, 516292, 516344, 516375, 516578, 516686, 516767, 516821, 516833, 516855, 516885, 517117, 517135, 517282, 517321, 517330, 517378, 517576, 517737, 517743, 518052, 518218, 518233, 518327, 518339, 518711, 518963, 518978, 519096, 519463, 519575, 519703, 519788, 519894, 519908, 519910, 519949, 520029, 520033, 520075, 520077, 520090, 520315, 520405, 520476, 520512, 520578, 520580, 520641, 520961, 520976, 521194, 521251, 521272, 521383, 521789, 521798, 521950, 522332, 522441, 522470, 522534, 522540, 522819, 522891, 522978, 523237, 523308, 523322, 523431, 523522, 523524, 523675, 523690, 523724, 523906, 523915, 524067, 524182, 524306, 524377, 524386, 524486, 524947, 524989, 525036, 525419, 525482, 525535, 525591, 525646, 526196, 526410, 526438, 526514, 526567, 526658, 526664, 526925, 526952, 526958, 527034, 527119, 527482, 527494, 527688, 527846, 528249, 528263, 528533, 528577, 528772, 528784, 528826, 528959, 529059, 529245, 529336, 529341, 529403, 529587, 529652, 529737, 529832, 529857, 529948, 530046, 530156, 530189, 530277, 530298, 530346, 530379, 530401, 530506, 530536, 530942, 530969, 531068, 531123, 531171, 531217, 531341, 531357, 531600, 531863, 531867, 531903, 531922, 532576, 532867, 533016, 533040, 533075, 533088, 533184, 533199, 533524, 533608, 533707, 533745, 533936, 534101, 534295, 534370, 534501, 534748, 534923, 535022, 535232, 535319, 535332, 535368, 535374, 535410, 535435, 535536, 535931, 536022, 536226, 536267, 536733, 536756, 537007, 537318, 537467, 537498, 537928, 538100, 538146, 538178, 538218, 538399, 538566, 538569, 538616, 538659, 538830, 539012, 539221, 539302, 539353, 539402, 539517, 539592, 539681, 539729, 540002, 540138, 540160, 540189, 540449, 540504, 540557, 540563, 540573, 540593, 540706, 540778, 540782, 540820, 540843, 540885, 540958, 541006, 541090, 541209, 541318, 541380, 541726, 541766, 541854, 541979, 542070, 542212, 542321, 542584, 542799, 542884, 542899, 543135, 543210, 543344, 543434, 543546, 543616, 543751, 544045, 544187, 544399, 544515, 544525, 544683, 544745, 545285, 545309, 545358, 545439, 545586, 545596, 545659, 545701, 545750, 545848, 545876, 545929, 545984, 546197, 546329, 547017, 547128, 547289, 547626, 547880, 547933, 548231, 548364, 548583, 548687, 548704, 548719, 548732, 548767, 548771, 548773, 548785, 549107, 549119, 549420, 549681, 549696, 549938, 550074, 550181, 550269, 550306, 550311, 550601, 550681, 550689, 550870, 550934, 551311, 551755, 551968, 551983, 552482, 552736, 552890, 552897, 552916, 552922, 553070, 553168, 553235, 553312, 553327, 553544, 553691, 553977, 554059, 554106, 554251, 554334, 554340, 554359, 554479, 554498, 554628, 554757, 554809, 554819, 554826, 554832, 555011, 555404, 555448, 555548, 555708, 555715, 555798, 555805, 555831, 555838, 555876, 555971, 556017, 556106, 556120, 556157, 556165, 556167, 556289, 556559, 556567, 556591, 556650, 556678, 556680, 556725, 556754, 556778, 556863, 557270, 557416, 557672, 557989, 558024, 558122, 558323, 558458, 558466, 558520, 558560, 558572, 558574, 558684, 558690, 558715, 558725, 558955, 559175, 559280, 559404, 559409, 559471, 559529, 559550, 559579, 559610, 559758, 559972, 560004, 560086, 560144, 560283, 560461, 560560, 560601, 560608, 560872, 560908, 561199, 561306, 561543, 562449, 562531, 562616, 562683, 562824, 562825, 562849, 562866, 562877, 562950, 562980, 563017, 563066, 563237, 563243, 563243, 563411, 563493, 563549, 563626, 563766, 563847, 564046, 564073, 564186, 564268, 564315, 564583, 564654, 564791, 564983, 565195, 565217, 565299, 565314, 565356, 565444, 565720, 565932, 565945, 565951, 566001, 566086, 566147, 566213, 566286, 566416, 566419, 566453, 566611, 566853, 566970, 566989, 567126, 567374, 567473, 567622, 567675, 567734, 567851, 567861, 567885, 567966, 568450, 568524, 568650, 568675, 568695, 568765, 568769, 568872, 568949, 569083, 569148, 569286, 569295, 569374, 569668, 569754, 569820, 570033, 570141, 570146, 570437, 570640, 570784, 570844, 571019, 571354, 571427, 571430, 571432, 571446, 571471, 571506, 571621, 571671, 571714, 571732, 571938, 571988, 572001, 572299, 572964, 573049, 573168, 573174, 573242, 573458, 573816, 573941, 573966, 574044, 574115, 574122, 574220, 574287, 574327, 574391, 574455, 574551, 574623, 574713, 574751, 574792, 574897, 574909, 574994, 575061, 575157, 575233, 575298, 575298, 575417, 575436, 575444, 575494, 575561, 575673, 575758, 576133, 576497, 576532, 576686, 576820, 576964, 576992, 577027, 577111, 577309, 577437, 577483, 577536, 577551, 577556, 577649, 577736, 577753, 577868, 577888, 577984, 578006, 578022, 578418, 578510, 578648, 578779, 578962, 579175, 579278, 579306, 579373, 579430, 579503, 579618, 579756, 579972, 580159, 580179, 580469, 580507, 580512, 580546, 581085, 581189, 581266, 581290, 581325, 581351, 581393, 581423, 581696, 581718, 581726, 581791, 581815, 581920, 581922, 582141, 582291, 582495, 582619, 582973, 583104, 583200, 583203, 583398, 583536, 583767, 583896, 583899, 584038, 584040, 584141, 584180, 584220, 584232, 584410, 584613, 584638, 584657, 585055, 585075, 585087, 585133, 585283, 585569, 585586, 585635, 585639, 585661, 585672, 585674, 585752, 585863, 585989, 586080, 586166, 586257, 586401, 586592, 586605, 586629, 586632, 586755, 586762, 586959, 587296, 587363, 587387, 587518, 587679, 587809, 587822, 587865, 587879, 587970, 588126, 588156, 588166, 588172, 588183, 588261, 588361, 588363, 588423, 588459, 588585, 588712, 588851, 588976, 589032, 589110, 589193, 589352, 589358, 589382, 589422, 589440, 589486, 589556, 589967, 590259, 590290, 590330, 590409, 590426, 590501, 590537, 590594, 590704, 590713, 590815, 590856, 590892, 591040, 591215, 591314, 591416, 591419, 591645, 591657, 591808, 591940, 591943, 592072, 592120, 592299, 592381, 592474, 592535, 592568, 592613, 592659, 592662, 593467, 593511, 593513, 594026, 594037, 594269, 594305, 594324, 594328, 594393, 594541, 594553, 594587, 594919, 595175, 595408, 595441, 595518, 595598, 595665, 595692, 595698, 595770, 595794, 596059, 596066, 596080, 596158, 596254, 596297, 596604, 596728, 596857, 596875, 597045, 597065, 597161, 597315, 597506, 597595, 597597, 597935, 597961, 598081, 598083, 598091, 598265, 598268, 598334, 598430, 598700, 598735, 598791, 598796, 598941, 599123, 599239, 599255, 599286, 599301, 599332, 599432, 599469, 599485, 599516, 599584, 599689, 599701, 599893, 600101, 600107, 600111, 600147, 600235, 600259, 600309, 600310, 600385, 600629, 600632, 600664, 600682, 600762, 600798, 600806, 600832, 600922, 600951, 600957, 600993, 601052, 601065, 601111, 601278, 601320, 601406, 601418, 601668, 601762, 601799, 601847, 601856, 601881, 602221, 602312, 602449, 602519, 602581, 602657, 602718, 602804, 602900, 603135, 603176, 603285, 603315, 603352, 603359, 603387, 603495, 603506, 603625, 603734, 603878, 604334, 604343, 604429, 604501, 604605, 604892, 604902, 604983, 605068, 605285, 605473, 605489, 605493, 605656, 605709, 605725, 605787, 605825, 606027, 606190, 606249, 606328, 606537, 606606, 606789, 606864, 606958, 606969, 607132, 607160, 607241, 607315, 607408, 607500, 607537, 607592, 607615, 607725, 607923, 608021, 608172, 608383, 608389, 608504, 608682, 608806, 608856, 608888, 608895, 608938, 608972, 608980, 608986, 609012, 609326, 609503, 609791, 609809, 609844, 609853, 610285, 610338, 610726, 610742, 610871, 611049, 611059, 611125, 611212, 611272, 611368, 611419, 611562, 611854, 611989, 612364, 612390, 612611, 612665, 612720, 612929, 612933, 612933, 613125, 613247, 613322, 613328, 613355, 613385, 613410, 613415, 613421, 613426, 613647, 613671, 613686, 613893, 613958, 613990, 614018, 614048, 614094, 614234, 614289, 614369, 614544, 614909, 615012, 615069, 615159, 615216, 615225, 615232, 615283, 615352, 615443, 615499, 615794, 615813, 615852, 616183, 616190, 616198, 616318, 616455, 616541, 616586, 616794, 616867, 616940, 617299, 617442, 617453, 617533, 617539, 617646, 617787, 617919, 618054, 618160, 618161, 618218, 618304, 618762, 619013, 619100, 619191, 619457, 619484, 619581, 619601, 619627, 619735, 619872, 619976, 620010, 620162, 620363, 620433, 620696, 620720, 620800, 621073, 621259, 621377, 621468, 621470, 621495, 621585, 621815, 622038, 622082, 622100, 622314, 622327, 622453, 622476, 622478, 622518, 622534, 622696, 622815, 622966, 623172, 623181, 623240, 623287, 623487, 623781, 623952, 624082, 624123, 624199, 624253, 624304, 624364, 624398, 624474, 624507, 624687, 624690, 624757, 625141, 625196, 625246, 625360, 625404, 625690, 626025, 626232, 626449, 626662, 626669, 626735, 626847, 626914, 627082, 627177, 627283, 627404, 627660, 627685, 627903, 627964, 628049, 628064, 628127, 628474, 628485, 628489, 628606, 628620, 628757, 628843, 629166, 629438, 629457, 629528, 629745, 629780, 629870, 629935, 630011, 630121, 630128, 630235, 630402, 630406, 630497, 630500, 630705, 630763, 630915, 630920, 631088, 631169, 631297, 631312, 631336, 631355, 631386, 631479, 631509, 631631, 631663, 631955, 631975, 632120, 632421, 632556, 632741, 632822, 632841, 632866, 633011, 633032, 633126, 633176, 633331, 633382, 633488, 633535, 633720, 633879, 633920, 634242, 634286, 634307, 634361, 634566, 635434, 635836, 636076, 636081, 636276, 636321, 636385, 636461, 636602, 636670, 636711, 636810, 636904, 636922, 636998, 637200, 637222, 637225, 637361, 637696, 637777, 637783, 637904, 637992, 638332, 638362, 638427, 638500, 638542, 638551, 638602, 638662, 638690, 638740, 638771, 638790, 638881, 639074, 639210, 639229, 639254, 639360, 639452, 639546, 639566, 639919, 639965, 640056, 640232, 640371, 640407, 640450, 640613, 640841, 640890, 640923, 641016, 641049, 641106, 641284, 641334, 641412, 641665, 641771, 641777, 641915, 641921, 641941, 642075, 642102, 642230, 642288, 642400, 642408, 642412, 642462, 642691, 642857, 642900, 643001, 643164, 643283, 643319, 643370, 643657, 643725, 643953, 644002, 644007, 644112, 644114, 644215, 644299, 644326, 644479, 644568, 644680, 644776, 644799, 644899, 644921, 644938, 644951, 645033, 645177, 645377, 645476, 645603, 645636, 645977, 645978, 645996, 646038, 646225, 646295, 646353, 646594, 646607, 646624, 646642, 646666, 646720, 646721, 647109, 647120, 647130, 647171, 647310, 647346, 647470, 647657, 647759, 647802, 648150, 648188, 648216, 648546, 648582, 648647, 648686, 648697, 648745, 649123, 649210, 649277, 649479, 649510, 649724, 649865, 649930, 650210, 650244, 650267, 650286, 650463, 650507, 650519, 650595, 650602, 650704, 650756, 650853, 650865, 650909, 650917, 650921, 650959, 650975, 651011, 651104, 651341, 651425, 651756, 651792, 651849, 652040, 652129, 652130, 652213, 652252, 652274, 652313, 652456, 652535, 652833, 652846, 652896, 653048, 653281, 653335, 653356, 653480, 653519, 653664, 653898, 654093, 654155, 654417, 654428, 654471, 654527, 654551, 654630, 654655, 654755, 654867, 655024, 655075, 655116, 655140, 655216, 655248, 655344, 655381, 655381, 655701, 655764, 655849, 655897, 656114, 656126, 656175, 656216, 656313, 656365, 656379, 656406, 656527, 656563, 656648, 656703, 656737, 656807, 656892, 656904, 656984, 657116, 657144, 657556, 657653, 657678, 657903, 657910, 657914, 658031, 658197, 658328, 658497, 658628, 658744, 658816, 658881, 659055, 659160, 659168, 659171, 659318, 659508, 659576, 659724, 659761, 659911, 660079, 660118, 660158, 660197, 660438, 660546, 660665, 660724, 660985, 660998, 661121, 661126, 661229, 661425, 661462, 661531, 661592, 661779, 661801, 661972, 662117, 662316, 662418, 662421, 662472, 662520, 662540, 662937, 662941, 663213, 663239, 663289, 663529, 663773, 663820, 663896, 664077, 664122, 664161, 664198, 664220, 664276, 664299, 664366, 664470, 664582, 664634, 664721, 664871, 664897, 665075, 665141, 665167, 665367, 665428, 665429, 665435, 665549, 665808, 666016, 666024, 666073, 666093, 666192, 666252, 666319, 666424, 666476, 666552, 666815, 667021, 667066, 667187, 667298, 667473, 667521, 667661, 667689, 667825, 668136, 668207, 668556, 668777, 668817, 668942, 669039, 669114, 669209, 669219, 669226, 669228, 669308, 669411, 669665, 669708, 669812, 670010, 670158, 670250, 670451, 670652, 670722, 670966, 671011, 671043, 671094, 671104, 671176, 671447, 671465, 671591, 671621, 671627, 671716, 671790, 671854, 671946, 672044, 672184, 672277, 672376, 672444, 672561, 672681, 672720, 672723, 672840, 672923, 673009, 673080, 673112, 673272, 673293, 673327, 673394, 673400, 673496, 673683, 673858, 673906, 674046, 674054, 674240, 674292, 674526, 675025, 675032, 675156, 675169, 675178, 675223, 675256, 675282, 675337, 675461, 675564, 675838, 675864, 675887, 676139, 676184, 676383, 676384, 676435, 676618, 676702, 676711, 676720, 676765, 676825, 676866, 676894, 676969, 677232, 677247, 677249, 677282, 677435, 677456, 677570, 677592, 677603, 677687, 677718, 677732, 677848, 677880, 678031, 678072, 678453, 678701, 678833, 678966, 678971, 679035, 679096, 679164, 679180, 679456, 679578, 679621, 679663, 679676, 679703, 679716, 680058, 680180, 680208, 680216, 680411, 680504, 680769, 680892, 680925, 680930, 681130, 681206, 681234, 681463, 681486, 681530, 681588, 681681, 681715, 681916, 682125, 682393, 682449, 682478, 683121, 683152, 683201, 683355, 683393, 683547, 683619, 683851, 683915, 683940, 683951, 684668, 684732, 684754, 684768, 684779, 684872, 684913, 684969, 684985, 685051, 685057, 685336, 685363, 685506, 685540, 685649, 685682, 685697, 685707, 686071, 686081, 686438, 686488, 686704, 686751, 686897, 686906, 686937, 686953, 687075, 687221, 687404, 687421, 687618, 687713, 687734, 687803, 687925, 688037, 688068, 688226, 688311, 688497, 688555, 688565, 688572, 688620, 688697, 688822, 688877, 688928, 688946, 689002, 689153, 689173, 689175, 689191, 689242, 689321, 689401, 689495, 689502, 690247, 690267, 690304, 690351, 690403, 690532, 690536, 690729, 690729, 690810, 690811, 690860, 690876, 691281, 691324, 691364, 691386, 691607, 691718, 691746, 691773, 691790, 691874, 691993, 692099, 692308, 692405, 692520, 692655, 692706, 692830, 693057, 693231, 693285, 693670, 693690, 693928, 694276, 694404, 694601, 694753, 694758, 694844, 694907, 695070, 695117, 695161, 695422, 695616, 695797, 695814, 695851, 695861, 695861, 696066, 696108, 696140, 696151, 696274, 696365, 696386, 696480, 696487, 696633, 696699, 696851, 696874, 696880, 696898, 697039, 697069, 697264, 697459, 697490, 697572, 697737, 697758, 697784, 697839, 697858, 697873, 698173, 698405, 698502, 698515, 698611, 698624, 698724, 698817, 699021, 699057, 699096, 699147, 699152, 699173, 699187, 699278, 699377, 699449, 699548, 699606, 699631, 699806, 699917, 699971, 700042, 700068, 700168, 700380, 700419, 700473, 700520, 700597, 700687, 700696, 701221, 701419, 701526, 701561, 701731, 701740, 701768, 701882, 701899, 701920, 701942, 702102, 702289, 702338, 702345, 702358, 702429, 702601, 702700, 702870, 702933, 702974, 703014, 703118, 703185, 703204, 703280, 703526, 703734, 703778, 703845, 703924, 703977, 704036, 704088, 704364, 704396, 704823, 704852, 704872, 704876, 704891, 705078, 705088, 705116, 705179, 705524, 705557, 705720, 705755, 705789, 705942, 706301, 706377, 706471, 706502, 706517, 706559, 706773, 706816, 706854, 706860, 706952, 706990, 707034, 707162, 707219, 707547, 707704, 707845, 707982, 708037, 708162, 708384, 708413, 708456, 708556, 708573, 708589, 708798, 708915, 709131, 709144, 709208, 709363, 709405, 709517, 709579, 709613, 709721, 709772, 709927, 709982, 710090, 710115, 710598, 710687, 710769, 710938, 710958, 711154, 711298, 711391, 711464, 711524, 711552, 711561, 711694, 711998, 712047, 712076, 712146, 712226, 712249, 712286, 712338, 712413, 712434, 712536, 712617, 712667, 712756, 712897, 713282, 713404, 713431, 713544, 713562, 713581, 713606, 713638, 713716, 713768, 713832, 714025, 714180, 714222, 714343, 714587, 714790, 715051, 715145, 715248, 715262, 715276, 715475, 715819, 716004, 716182, 716262, 716357, 716448, 716684, 716718, 716770, 717049, 717086, 717172, 717174, 717275, 717359, 717469, 717507, 717563, 717576, 717844, 717849, 718321, 718435, 718553, 718684, 718780, 718861, 718962, 719025, 719069, 719202, 719420, 720060, 720072, 720092, 720097, 720113, 720168, 720254, 720258, 720488, 720617, 720758, 720861, 720875, 720885, 720941, 720957, 720990, 721009, 721111, 721113, 721138, 721205, 721217, 721256, 721257, 721345, 721357, 721533, 721535, 721544, 721569, 721571, 721584, 721610, 721625, 721715, 721835, 721919, 722034, 722122, 722160, 722184, 722192, 722515, 722654, 722680, 722695, 722778, 722928, 723159, 723242, 723259, 723273, 723545, 723688, 723782, 723912, 724123, 724369, 724602, 724625, 724644, 724719, 724859, 725060, 725305, 725425, 725451, 725503, 725505, 725647, 725701, 725772, 725941, 725955, 726070, 726239, 726274, 726290, 726454, 726470, 726611, 726688, 726806, 727013, 727026, 727056, 727242, 727279, 727341, 727379, 727389, 727411, 727467, 727507, 727857, 727879, 727914, 728076, 728391, 728467, 728572, 728595, 728763, 728767, 728972, 729213, 729242, 729321, 729344, 729416, 729459, 729567, 729709, 729800, 729933, 729958, 729973, 730032, 730063, 730103, 730164, 730258, 730273, 730596, 730793, 730882, 730984, 731168, 731344, 731405, 731857, 731988, 732047, 732082, 732200, 732240, 732327, 732348, 732587, 732643, 732750, 732762, 732791, 732849, 732925, 732951, 732978, 733120, 733292, 733313, 733492, 733563, 733618, 733750, 733794, 733825, 734002, 734197, 734297, 734342, 734362, 734513, 734531, 734572, 734609, 734675, 734692, 734773, 734952, 735103, 735119, 735314, 735409, 735510, 736149, 736182, 736209, 736225, 736306, 736356, 736447, 736601, 736818, 736828, 736858, 736900, 736948, 736955, 737068, 737276, 737485, 737569, 737638, 737658, 737779, 738129, 738148, 738312, 738426, 738674, 738717, 738866, 738890, 738963, 739256, 739344, 739346, 739536, 739714, 739757, 739836, 739917, 740332, 740337, 740496, 740568, 740653, 740859, 741011, 741310, 741478, 741582, 741718, 741882, 741932, 742345, 742418, 742457, 742466, 742526, 742535, 742625, 742672, 742819, 743038, 743084, 743290, 743369, 743385, 743433, 743548, 743771, 743920, 744082, 744086, 744115, 744122, 744169, 744182, 744259, 744357, 744426, 744435, 744576, 744621, 744682, 744707, 744809, 744854, 745289, 745360, 745372, 745513, 745581, 745774, 745786, 745810, 745823, 745835, 745919, 745943, 746024, 746534, 746572, 746788, 747033, 747033, 747088, 747124, 747232, 747344, 747441, 747446, 747502, 747653, 747705, 747724, 747813, 747818, 748122, 748218, 748223, 748805, 749183, 749410, 749466, 749476, 749522, 749561, 750034, 750035, 750123, 750144, 750190, 750213, 750297, 750367, 750386, 750394, 750430, 750479, 750632, 750666, 750829, 750850, 750872, 750913, 750941, 750952, 751098, 751177, 751262, 751272, 751290, 751383, 751457, 751471, 751555, 751744, 751812, 751883, 751927, 752237, 752302, 752368, 752429, 752514, 752773, 752778, 752890, 752954, 753088, 753263, 753389, 753499, 753501, 753536, 753772, 754114, 754117, 754147, 754170, 754235, 754285, 754315, 754446, 754587, 754665, 754696, 754709, 754735, 754829, 754904, 755078, 755085, 755133, 755260, 755368, 755707, 755743, 755822, 755951, 756029, 756086, 756147, 756185, 756208, 756216, 756345, 756550, 756642, 756674, 756789, 756821, 756843, 756846, 757102, 757180, 757207, 757223, 757358, 757459, 757531, 757871, 757913, 757917, 757920, 757924, 757924, 757938, 758070, 758186, 758195, 758268, 758291, 758363, 758475, 758478, 758489, 758499, 758640, 758691, 758911, 759051, 759087, 759139, 759250, 759443, 759461, 759559, 759836, 759869, 759917, 759955, 759964, 759972, 760039, 760131, 760187, 760187, 760261, 760294, 760464, 760484, 760506, 760613, 760771, 760833, 760899, 761043, 761107, 761154, 761344, 761392, 761403, 761595, 761606, 761716, 761736, 761911, 762147, 762205, 762226, 762374, 762448, 762453, 762626, 763147, 763158, 763255, 763268, 763460, 763521, 763534, 763905, 764095, 764132, 764251, 764568, 764587, 764707, 764726, 764942, 764992, 765093, 765104, 765104, 765179, 765190, 765202, 765282, 765571, 765583, 765596, 765702, 765721, 765860, 765972, 765975, 766063, 766428, 766689, 766793, 766899, 766907, 767078, 767143, 767224, 767280, 767282, 767314, 767395, 767530, 767545, 767799, 767847, 767874, 767880, 768092, 768276, 768393, 768419, 768473, 768553, 768779, 769026, 769075, 769270, 769502, 769631, 769812, 770068, 770149, 770236, 770493, 770564, 770745, 770798, 770879, 770979, 771023, 771083, 771321, 771463, 771482, 771496, 771534, 771646, 771804, 771950, 771971, 772141, 772161, 772200, 772299, 772441, 772452, 772501, 772720, 772725, 772842, 772928, 773006, 773045, 773073, 773098, 773104, 773251, 773344, 773497, 773632, 773776, 774033, 774092, 774126, 774162, 774189, 774210, 774239, 774439, 774525, 774646, 774739, 774798, 774839, 775151, 775417, 775437, 775489, 775553, 775604, 775649, 775706, 775839, 775912, 776151, 776216, 776252, 776321, 776325, 776387, 776433, 776443, 776572, 776613, 776619, 776680, 776692, 776704, 776825, 776871, 777326, 777508, 777581, 777601, 777648, 777748, 777897, 777940, 778078, 778142, 778263, 778456, 778465, 778502, 778682, 778820, 778927, 779039, 779091, 779213, 779269, 779271, 779537, 779619, 779647, 779770, 779806, 779812, 779926, 780016, 780093, 780142, 780285, 780307, 780339, 780459, 780559, 780599, 780650, 780659, 780754, 780885, 780934, 780962, 780987, 780999, 781180, 781227, 781231, 781305, 781384, 781501, 781594, 781799, 781936, 782013, 782244, 782272, 782365, 782409, 782479, 782480, 782891, 782987, 783260, 783387, 783502, 783533, 783569, 783645, 783702, 783706, 783908, 783969, 784048, 784057, 784073, 784298, 784368, 784609, 784788, 784811, 784860, 784896, 785150, 785174, 785316, 785344, 785622, 785740, 785772, 786575, 786832, 786870, 787021, 787158, 787327, 787472, 787571, 787830, 788097, 788196, 788220, 788252, 788404, 788616, 788819, 788985, 789020, 789162, 789357, 789414, 789443, 789546, 789634, 789678, 789726, 789754, 789820, 789901, 789912, 789925, 789951, 790131, 790171, 790228, 790498, 790844, 790858, 790965, 791393, 791458, 791493, 791507, 791574, 791619, 791764, 791790, 791821, 791940, 792013, 792061, 792196, 792197, 792308, 792371, 792482, 792606, 792624, 792678, 792812, 792902, 792916, 793021, 793163, 793294, 793304, 793556, 793598, 793614, 793682, 793683, 793792, 793815, 793920, 794101, 794154, 794167, 794555, 794604, 794650, 794974, 795293, 795296, 795658, 795705, 795723, 795848, 795870, 795957, 796040, 796170, 796262, 796310, 796406, 796460, 796513, 796859, 796939, 797056, 797120, 797231, 797276, 797364, 797564, 797565, 797693, 797781, 797792, 798062, 798249, 798318, 798532, 798866, 798991, 799095, 799155, 799269, 799272, 799276, 799285, 799352, 799401, 799418, 799447, 799588, 799634, 799999, 800173, 800236, 800251, 800446, 800722, 800851, 800928, 800940, 801013, 801045, 801258, 801385, 801386, 801440, 801502, 801609, 801645, 801655, 801713, 801874, 801967, 802083, 802187, 802318, 802372, 802502, 802616, 802633, 802640, 802764, 802819, 802838, 803045, 803088, 803143, 803184, 803208, 803284, 803407, 803573, 803774, 803866, 804084, 804094, 804330, 804469, 804504, 804506, 804747, 804773, 804779, 804843, 804942, 805088, 805203, 805251, 805429, 805485, 805765, 805802, 806100, 806102, 806227, 806572, 806666, 806723, 806752, 806886, 806914, 806930, 807068, 807131, 807132, 807286, 807362, 807374, 807382, 807425, 807589, 807706, 807730, 807785, 807915, 807965, 808026, 808065, 808107, 808233, 808404, 808479, 808496, 808610, 808747, 808879, 809202, 809220, 809287, 809445, 809487, 809502, 809568, 809715, 809831, 810018, 810048, 810115, 810197, 810217, 810409, 810695, 810879, 810926, 811024, 811073, 811364, 811402, 811414, 811482, 811567, 811569, 811615, 811730, 811749, 811884, 811884, 811888, 811888, 811912, 811937, 812075, 812137, 812185, 812302, 812320, 812368, 812453, 812506, 812667, 812748, 812760, 812917, 812938, 812967, 812971, 812980, 813147, 813217, 813232, 813249, 813294, 813341, 813373, 813421, 813464, 813599, 813687, 814054, 814216, 814302, 814550, 814680, 814717, 814851, 814887, 815062, 815293, 815365, 815419, 815465, 815478, 815493, 815524, 815560, 815843, 815993, 816042, 816077, 816163, 816205, 816456, 816631, 816637, 816671, 816711, 816852, 817232, 817301, 817350, 817421, 817516, 817516, 817535, 817578, 817590, 817658, 817884, 817893, 817973, 818013, 818594, 818618, 818812, 819002, 819057, 819083, 819150, 819272, 819376, 819709, 819710, 819735, 819897, 819945, 820100, 820106, 820148, 820236, 820256, 820273, 820288, 820337, 820371, 820458, 820570, 820761, 820867, 821248, 821345, 821440, 821458, 821459, 821471, 821487, 821510, 821547, 821601, 821671, 821756, 821776, 821804, 821865, 821897, 821907, 821996, 822059, 822086, 822466, 822476, 822632, 822683, 823113, 823260, 823496, 823566, 823589, 823939, 824074, 824086, 824155, 824279, 824279, 824341, 824427, 824440, 824506, 824516, 824646, 824745, 824779, 824929, 824962, 825303, 825346, 825366, 825387, 825525, 825704, 825750, 826368, 826511, 826519, 826618, 826633, 826732, 826807, 826853, 826929, 827009, 827067, 827284, 827287, 827350, 827423, 827496, 827519, 827575, 827613, 827644, 827676, 827735, 827873, 828093, 828119, 828173, 828192, 828299, 828316, 828367, 828448, 828476, 828541, 828547, 828651, 828780, 828819, 828854, 828899, 828970, 828990, 829052, 829195, 829240, 829254, 829448, 829451, 829826, 830049, 830184, 830284, 830314, 830559, 830599, 830642, 830750, 830930, 830981, 831005, 831117, 831161, 831240, 831424, 831447, 831468, 831690, 831793, 831831, 831901, 831986, 831994, 832012, 832340, 832385, 832552, 832562, 832596, 832638, 832712, 832841, 833060, 833094, 833208, 833263, 833400, 833407, 833469, 833551, 833785, 833943, 833993, 834056, 834090, 834098, 834124, 834186, 834337, 834391, 834423, 834629, 834748, 834952, 835000, 835127, 835166, 835181, 835313, 835445, 835502, 835630, 835738, 835771, 835786, 835801, 835826, 835867, 835962, 836019, 836030, 836183, 836289, 836291, 836398, 836527, 836528, 836578, 836579, 836596, 836618, 836712, 836760, 836839, 836973, 837029, 837053, 837110, 837227, 837534, 837786, 837833, 838101, 838283, 838285, 838313, 838532, 838611, 838690, 838797, 838821, 838916, 838960, 839058, 839111, 839371, 839373, 839547, 839968, 840002, 840038, 840524, 840602, 840655, 840677, 840723, 841108, 841336, 841640, 841732, 841895, 841916, 841998, 842087, 842087, 842100, 842345, 842698, 842702, 842780, 842822, 842831, 842934, 842956, 842979, 842996, 843059, 843071, 843077, 843111, 843349, 843488, 843832, 843856, 843878, 843973, 844128, 844171, 844274, 844305, 844422, 844430, 844624, 844912, 845060, 845120, 845220, 845358, 845419, 845452, 845520, 845732, 845802, 845842, 846128, 846251, 846315, 846370, 846618, 846662, 846694, 846731, 846900, 846992, 847208, 847272, 847427, 847510, 847511, 847518, 847523, 847594, 847886, 847929, 847981, 848121, 848193, 848202, 848689, 848689, 848702, 848738, 849157, 849197, 849372, 849408, 849510, 849609, 849622, 849798, 849827, 849930, 849976, 850069, 850155, 850398, 850414, 850425, 850548, 850816, 850820, 850877, 850980, 851006, 851016, 851284, 851366, 851370, 851428, 851624, 851720, 851965, 852171, 852171, 852442, 852574, 852626, 852699, 852760, 852761, 852925, 852993, 853175, 853311, 853333, 853895, 854010, 854172, 854638, 854658, 854752, 854789, 854814, 854864, 854918, 855066, 855273, 855668, 855748, 855755, 855767, 856010, 856063, 856096, 856176, 856243, 856280, 856306, 856423, 856439, 856448, 856616, 856825, 856910, 857000, 857014, 857035, 857064, 857137, 857168, 857287, 857508, 857512, 857551, 857683, 857738, 857771, 858205, 858210, 858244, 858301, 858347, 858411, 858667, 858807, 858849, 858866, 858923, 858940, 858951, 859010, 859144, 859214, 859273, 859454, 859499, 859623, 859987, 860003, 860057, 860112, 860359, 860518, 860819, 860844, 861156, 861178, 861181, 861218, 861219, 861227, 861240, 861363, 861745, 861828, 861872, 861903, 862047, 862122, 862327, 862387, 862790, 862866, 862884, 862928, 862982, 862999, 863048, 863198, 863258, 863311, 863391, 863441, 863595, 863731, 864051, 864223, 864318, 864369, 864400, 864498, 864564, 864643, 864648, 864951, 865001, 865180, 865596, 865664, 865780, 865796, 865951, 866002, 866077, 866274, 866372, 866512, 866735, 866917, 866941, 867138, 867244, 867267, 867402, 867494, 867520, 867764, 867787, 867824, 867895, 868061, 868228, 868285, 868300, 868384, 868423, 868430, 868466, 868760, 868903, 868990, 869054, 869113, 869120, 869195, 869445, 869555, 869675, 869975, 870001, 870132, 870333, 870369, 870394, 870818, 870853, 870907, 871092, 871165, 871348, 871593, 871698, 871808, 871835, 871940, 872162, 872246, 872283, 872303, 872308, 872486, 872527, 872576, 872767, 872845, 872877, 873111, 873286, 873389, 873698, 873900, 873967, 874138, 874256, 874283, 874614, 874620, 874711, 874712, 874735, 874890, 874899, 874984, 875207, 875339, 875467, 875514, 875517, 875570, 875742, 875784, 875963, 876152, 876157, 876192, 876198, 876203, 876236, 876449, 876510, 876573, 876656, 876667, 876750, 876753, 876836, 876902, 877156, 877166, 877207, 877226, 877288, 877321, 877360, 877406, 877419, 877518, 877684, 877768, 878049, 878143, 878146, 878158, 878201, 878208, 878261, 878275, 878425, 878449, 878495, 878553, 878712, 878862, 878926, 878990, 879011, 879039, 879167, 879288, 879343, 879444, 879677, 879742, 879829, 879904, 879925, 880064, 880201, 880268, 880365, 880512, 880595, 880787, 880806, 880937, 881006, 881011, 881177, 881354, 881487, 881520, 881606, 881675, 881735, 881745, 881810, 882044, 882434, 882545, 882905, 882943, 883107, 883243, 883281, 883692, 883764, 883912, 883937, 884366, 884401, 884507, 884541, 884803, 884824, 884856, 885388, 885427, 885453, 885476, 885637, 885711, 885760, 885907, 885913, 886392, 886409, 886781, 886844, 887345, 887352, 887587, 887706, 887730, 887974, 888121, 888128, 888192, 888194, 888218, 888239, 888271, 888306, 888337, 888357, 888475, 888519, 888772, 888887, 888905, 889229, 889519, 889927, 889959, 890013, 890144, 890316, 890346, 890458, 890887, 890911, 890923, 891124, 891172, 891419, 891698, 891702, 891775, 891808, 891929, 891949, 891969, 892007, 892061, 892158, 892171, 892332, 892447, 892516, 892606, 892672, 892978, 892999, 893198, 893200, 893224, 893368, 893379, 893736, 893747, 893761, 893765, 893801, 893824, 894112, 894276, 894292, 894535, 894539, 894576, 894689, 894778, 894806, 894841, 894878, 894891, 894913, 895279, 895281, 895467, 895470, 895657, 895886, 896024, 896033, 896040, 896220, 896516, 896532, 896535, 896550, 896686, 896690, 896804, 896850, 896859, 896913, 896965, 897126, 897157, 897197, 897334, 897340, 897544, 897598, 897671, 897679, 897864, 898071, 898322, 898325, 898449, 898464, 898544, 898583, 898625, 898641, 898716, 898787, 898860, 898880, 899007, 899075, 899318, 899458, 899551, 899758, 899838, 899937, 900049, 900172, 900184, 900201, 900252, 900278, 900301, 900493, 900623, 900626, 900796, 901007, 901056, 901124, 901225, 901288, 901299, 901442, 901664, 901665, 901760, 901772, 901808, 901886, 902042, 902173, 902414, 902623, 902882, 903062, 903437, 903604, 903605, 903837, 903851, 904141, 904160, 904314, 904314, 904377, 904470, 904671, 904783, 904899, 905055, 905331, 905522, 905619, 905730, 905836, 905858, 906060, 906290, 906325, 906345, 906353, 906512, 906561, 906607, 906908, 906990, 907063, 907432, 907596, 907726, 908028, 908209, 908299, 908543, 908729, 908773, 908810, 908811, 908901, 908943, 908960, 908977, 909062, 909152, 909187, 909227, 909232, 909244, 909301, 909357, 909525, 909528, 909544, 909575, 909639, 909774, 910226, 910289, 910382, 910460, 910572, 910596, 910600, 910918, 910948, 910997, 911188, 911585, 911699, 911776, 911860, 911955, 911973, 911979, 912032, 912363, 912380, 912411, 912491, 912516, 912643, 912659, 912683, 912728, 912990, 913012, 913133, 913158, 913239, 913247, 913257, 913274, 913496, 913501, 913517, 913577, 913745, 913872, 913991, 914004, 914012, 914036, 914071, 914377, 914462, 914505, 914513, 914660, 914680, 914921, 914940, 915012, 915146, 915282, 915376, 915560, 915591, 915696, 915737, 915805, 916030, 916071, 916162, 916199, 916278, 916325, 916541, 916554, 916734, 916908, 916914, 917194, 917348, 917377, 917624, 917951, 917967, 917985, 917993, 918120, 918275, 918317, 918329, 918591, 918609, 918620, 919110, 919163, 919440, 919542, 919583, 919593, 919609, 919611, 919778, 919842, 920127, 920160, 920194, 920260, 920354, 920389, 920474, 920502, 920533, 920689, 920835, 921088, 921466, 921553, 921603, 921668, 921834, 921946, 921974, 921997, 922133, 922139, 922482, 922485, 922509, 922580, 922660, 922755, 922850, 923008, 923632, 923783, 923788, 923896, 923945, 923960, 924001, 924032, 924563, 924590, 924933, 925131, 925311, 925601, 925610, 925657, 925691, 925837, 926148, 926417, 926464, 926718, 926761, 926907, 927121, 927345, 927393, 927430, 927482, 927574, 927613, 927653, 927796, 927855, 927948, 928049, 928126, 928133, 928134, 928166, 928216, 928672, 928681, 928704, 928740, 928853, 928855, 928980, 929115, 929253, 929329, 929379, 929488, 929497, 929587, 929605, 929859, 929867, 929974, 930340, 930345, 930580, 930772, 931078, 931235, 931305, 931409, 931516, 931558, 931658, 931818, 931885, 931891, 932022, 932118, 932348, 932497, 932528, 932536, 932576, 932980, 933137, 933210, 933276, 933393, 933451, 933481, 933642, 933689, 933847, 934013, 934048, 934080, 934249, 934272, 934293, 934357, 934416, 934434, 934519, 934548, 934959, 935064, 935067, 935149, 935241, 935477, 935489, 936093, 936197, 936200, 936208, 936265, 936556, 936685, 936829, 936851, 936900, 936981, 936998, 937063, 937144, 937158, 937457, 937770, 937789, 937831, 937867, 937920, 938147, 938153, 938472, 938493, 938572, 938586, 938623, 938780, 938831, 939018, 939109, 939150, 939228, 939510, 939581, 939625, 939842, 939936, 939968, 940055, 940092, 940150, 940182, 940194, 940279, 940416, 940636, 940720, 941041, 941044, 941240, 941346, 941417, 941685, 941777, 941777, 941836, 941969, 942239, 942276, 942290, 942313, 942320, 942419, 942911, 943005, 943108, 943238, 943241, 943508, 944066, 944126, 944194, 944206, 944209, 944332, 944385, 944423, 944423, 944451, 944506, 944572, 944689, 944748, 944888, 944893, 944914, 944966, 944990, 945036, 945051, 945115, 945159, 945241, 945332, 945420, 945648, 945745, 945789, 945823, 945902, 946247, 946321, 946351, 946379, 947131, 947174, 947337, 947374, 947377, 947444, 947507, 947928, 948293, 948332, 948334, 948372, 948372, 948427, 948577, 948679, 949008, 949059, 949097, 949150, 949210, 949512, 949811, 949859, 950144, 950172, 950179, 950261, 950430, 950442, 950568, 950578, 950615, 950742, 950802, 950822, 950907, 951165, 951175, 951402, 951618, 951638, 951730, 951948, 952072, 952102, 952280, 952444, 952993, 953287, 953423, 953456, 953508, 953715, 953779, 954289, 954466, 954515, 954592, 954779, 954839, 954922, 954981, 954997, 955014, 955187, 955213, 955301, 955337, 955555, 955796, 956113, 956199, 956250, 956283, 956347, 956511, 956569, 956688, 956723, 956745, 956773, 956849, 956993, 957075, 957092, 957116, 957284, 957382, 957597, 957734, 957787, 957975, 958202, 958213, 958620, 958626, 958632, 958641, 958649, 958701, 958810, 958965, 958983, 959199, 959221, 959268, 959333, 959459, 959606, 960224, 960468, 960527, 960541, 960561, 960563, 960585, 960589, 961167, 961399, 961401, 961620, 961666, 961695, 961797, 961996, 962091, 962140, 962359, 962386, 962477, 962488, 962560, 962591, 962617, 962714, 962743, 962789, 962906, 963035, 963069, 963114, 963302, 963341, 963458, 963493, 963681, 963779, 963860, 963918, 963936, 964066, 964416, 964555, 964611, 964716, 964785, 964903, 964944, 965034, 965049, 965202, 965291, 965297, 965344, 965384, 965530, 965548, 965607, 965648, 965664, 966152, 966248, 966260, 966380, 966419, 966427, 966514, 966653, 966744, 966758, 966826, 966844, 967014, 967026, 967058, 967154, 967306, 967355, 967372, 967564, 967659, 967674, 967694, 967700, 967772, 968120, 968190, 968216, 968254, 968264, 968289, 968328, 968348, 968431, 968532, 968730, 968886, 969131, 969220, 969236, 969323, 969416, 969688, 969732, 970060, 970168, 970171, 970428, 970453, 970468, 970470, 970520, 970606, 970675, 970751, 970808, 970820, 970824, 970950, 971001, 971016, 971031, 971101, 971103, 971140, 971149, 971187, 971260, 971340, 971342, 971558, 971591, 971738, 971883, 971957, 972044, 972312, 972405, 972814, 972818, 972841, 972870, 972893, 973482, 973520, 973543, 973604, 973871, 973897, 974029, 974091, 974093, 974188, 974432, 974532, 974545, 974606, 974673, 974816, 974918, 975101, 975203, 975224, 975266, 975294, 975336, 975351, 975992, 976128, 976185, 976280, 976650, 976658, 976712, 976718, 976919, 976991, 977020, 977125, 977146, 977330, 977370, 977484, 977592, 977666, 977713, 977728, 977798, 977851, 977885, 977910, 978412, 978589, 979230, 979422, 979448, 979624, 979702, 979709, 979972, 980098, 980312, 980357, 980531, 980532, 980602, 980789, 980961, 981008, 981027, 981063, 981233, 981252, 981325, 981437, 981599, 982141, 982364, 982404, 982777, 983076, 983081, 983155, 983167, 983324, 983396, 983401, 983430, 983441, 983469, 983545, 983586, 983685, 983754, 983861, 983869, 983969, 984012, 984095, 984278, 984424, 984485, 984647, 984857, 984901, 985104, 985290, 985374, 985442, 985479, 985532, 985688, 985748, 985794, 985873, 986012, 986024, 986168, 986305, 986446, 986460, 986505, 986555, 986675, 986762, 986796, 986988, 987054, 987151, 987399, 987411, 987797, 987800, 987854, 988016, 988065, 988126, 988421, 988600, 988623, 988629, 988647, 988910, 988982, 989000, 989154, 989284, 989489, 989562, 989580, 989846, 989935, 990084, 990263, 990287, 990321, 990380, 990449, 990461, 990549, 990705, 990809, 990917, 990938, 990956, 991125, 991172, 991180, 991236, 991280, 991337, 991390, 991403, 991413, 991608, 991696, 991793, 991824, 991929, 992088, 992446, 992451, 992466, 992559, 992621, 992623, 992953, 992957, 992970, 993112, 993161, 993260, 993703, 993724, 993949, 994033, 994183, 994311, 994330, 994442, 994498, 994554, 994631, 994656, 994801, 994987, 995043, 995081, 995083, 995205, 995401, 995452, 995633, 995693, 995815, 995820, 995954, 995969, 996043, 996069, 996110, 996155, 996320, 996424, 996541, 996615, 996627, 996705, 996877, 996976, 996992, 997002, 997270, 997345, 997363, 997410, 997412, 997550, 997649, 997722, 997972, 998026, 998029, 998061, 998070, 998271, 998530, 998546, 998681, 998775, 998897, 999089, 999143, 999264, 999379, 999440, 999915]\n"
     ]
    }
   ],
   "source": [
    "print(l)"
   ],
   "metadata": {
    "collapsed": false,
    "pycharm": {
     "name": "#%%\n"
    }
   }
  },
  {
   "cell_type": "code",
   "execution_count": 23,
   "outputs": [
    {
     "name": "stdout",
     "output_type": "stream",
     "text": [
      "4597\n"
     ]
    }
   ],
   "source": [
    "x=[1,7,3,4,11,72]\n",
    "y=[8,6,3,2,6,62]\n",
    "sum=0\n",
    "for i in range(len(x)):\n",
    "    sum=sum+x[i]*y[i]\n",
    "print(sum)"
   ],
   "metadata": {
    "collapsed": false,
    "pycharm": {
     "name": "#%%\n"
    }
   }
  },
  {
   "cell_type": "code",
   "execution_count": 24,
   "outputs": [],
   "source": [
    "r1=[1,2,3]\n",
    "r2=[4,5,6]\n",
    "r3=[7,8,9]\n",
    "\n",
    "s1=[1,2,1]\n",
    "s2=[6,2,3]\n",
    "s3=[4,2,1]\n",
    "\n",
    "a=[]\n",
    "a.append(r1)\n",
    "a.append(r2)\n",
    "a.append(r3)\n",
    "\n",
    "b=[]\n",
    "b.append(s1)\n",
    "b.append(s2)\n",
    "b.append(s3)"
   ],
   "metadata": {
    "collapsed": false,
    "pycharm": {
     "name": "#%%\n"
    }
   }
  },
  {
   "cell_type": "code",
   "execution_count": 25,
   "outputs": [
    {
     "name": "stdout",
     "output_type": "stream",
     "text": [
      "[[1, 2, 3], [4, 5, 6], [7, 8, 9]]\n",
      "[[1, 2, 1], [6, 2, 3], [4, 2, 1]]\n"
     ]
    }
   ],
   "source": [
    "print(a)\n",
    "print(b)"
   ],
   "metadata": {
    "collapsed": false,
    "pycharm": {
     "name": "#%%\n"
    }
   }
  },
  {
   "cell_type": "code",
   "execution_count": 26,
   "outputs": [
    {
     "name": "stdout",
     "output_type": "stream",
     "text": [
      "[[1, 2, 3], [4, 5, 6], [7, 8, 9], [1, 2, 1], [6, 2, 3], [4, 2, 1]]\n"
     ]
    }
   ],
   "source": [
    "c=a+b\n",
    "print(c)"
   ],
   "metadata": {
    "collapsed": false,
    "pycharm": {
     "name": "#%%\n"
    }
   }
  },
  {
   "cell_type": "code",
   "execution_count": 27,
   "outputs": [
    {
     "data": {
      "text/plain": "[[1, 2, 3], [4, 5, 6], [7, 8, 9]]"
     },
     "execution_count": 27,
     "metadata": {},
     "output_type": "execute_result"
    }
   ],
   "source": [
    "a"
   ],
   "metadata": {
    "collapsed": false,
    "pycharm": {
     "name": "#%%\n"
    }
   }
  },
  {
   "cell_type": "code",
   "execution_count": 28,
   "outputs": [
    {
     "data": {
      "text/plain": "[[1, 2, 1], [6, 2, 3], [4, 2, 1]]"
     },
     "execution_count": 28,
     "metadata": {},
     "output_type": "execute_result"
    }
   ],
   "source": [
    "b"
   ],
   "metadata": {
    "collapsed": false,
    "pycharm": {
     "name": "#%%\n"
    }
   }
  },
  {
   "cell_type": "code",
   "execution_count": 29,
   "outputs": [
    {
     "data": {
      "text/plain": "[4, 5, 6]"
     },
     "execution_count": 29,
     "metadata": {},
     "output_type": "execute_result"
    }
   ],
   "source": [
    "a[1]"
   ],
   "metadata": {
    "collapsed": false,
    "pycharm": {
     "name": "#%%\n"
    }
   }
  },
  {
   "cell_type": "code",
   "execution_count": 30,
   "outputs": [
    {
     "data": {
      "text/plain": "[1, 2, 3]"
     },
     "execution_count": 30,
     "metadata": {},
     "output_type": "execute_result"
    }
   ],
   "source": [
    "a[0]"
   ],
   "metadata": {
    "collapsed": false,
    "pycharm": {
     "name": "#%%\n"
    }
   }
  },
  {
   "cell_type": "code",
   "execution_count": 31,
   "outputs": [
    {
     "data": {
      "text/plain": "1"
     },
     "execution_count": 31,
     "metadata": {},
     "output_type": "execute_result"
    }
   ],
   "source": [
    "a[0][0]"
   ],
   "metadata": {
    "collapsed": false,
    "pycharm": {
     "name": "#%%\n"
    }
   }
  },
  {
   "cell_type": "code",
   "execution_count": 33,
   "outputs": [
    {
     "name": "stdout",
     "output_type": "stream",
     "text": [
      "[1, 2, 3]\n",
      "[4, 5, 6]\n",
      "[7, 8, 9]\n"
     ]
    }
   ],
   "source": [
    "for i in a:\n",
    "    print(i)"
   ],
   "metadata": {
    "collapsed": false,
    "pycharm": {
     "name": "#%%\n"
    }
   }
  },
  {
   "cell_type": "code",
   "execution_count": 1,
   "outputs": [
    {
     "name": "stdout",
     "output_type": "stream",
     "text": [
      "avijit\n"
     ]
    }
   ],
   "source": [
    "print(\"avijit\")"
   ],
   "metadata": {
    "collapsed": false,
    "pycharm": {
     "name": "#%%\n"
    }
   }
  },
  {
   "cell_type": "code",
   "execution_count": null,
   "outputs": [],
   "source": [],
   "metadata": {
    "collapsed": false,
    "pycharm": {
     "name": "#%%\n"
    }
   }
  }
 ],
 "metadata": {
  "kernelspec": {
   "display_name": "Python 3",
   "language": "python",
   "name": "python3"
  },
  "language_info": {
   "codemirror_mode": {
    "name": "ipython",
    "version": 2
   },
   "file_extension": ".py",
   "mimetype": "text/x-python",
   "name": "python",
   "nbconvert_exporter": "python",
   "pygments_lexer": "ipython2",
   "version": "2.7.6"
  }
 },
 "nbformat": 4,
 "nbformat_minor": 0
}